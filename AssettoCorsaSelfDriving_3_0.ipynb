{
  "nbformat": 4,
  "nbformat_minor": 0,
  "metadata": {
    "colab": {
      "name": "AssettoCorsaSelfDriving 3.0.ipynb",
      "version": "0.3.2",
      "provenance": [],
      "collapsed_sections": [],
      "include_colab_link": true
    },
    "kernelspec": {
      "name": "python3",
      "display_name": "Python 3"
    },
    "accelerator": "GPU"
  },
  "cells": [
    {
      "cell_type": "markdown",
      "metadata": {
        "id": "view-in-github",
        "colab_type": "text"
      },
      "source": [
        "<a href=\"https://colab.research.google.com/github/ffabi/AssettoCorsaSelfDriving/blob/master/AssettoCorsaSelfDriving_3_0.ipynb\" target=\"_parent\"><img src=\"https://colab.research.google.com/assets/colab-badge.svg\" alt=\"Open In Colab\"/></a>"
      ]
    },
    {
      "metadata": {
        "id": "iC7EEXwDvKF3",
        "colab_type": "code",
        "outputId": "a8408a12-8152-4e5d-96bc-79ec476cff27",
        "colab": {
          "base_uri": "https://localhost:8080/",
          "height": 35
        }
      },
      "cell_type": "code",
      "source": [
        "import numpy as np\n",
        "import cv2\n",
        "import matplotlib.pyplot as plt\n",
        "%matplotlib inline\n",
        "import keras\n",
        "from sklearn import preprocessing\n",
        "import random\n",
        "from tensorflow import set_random_seed\n",
        "from keras import backend as K\n",
        "from keras.utils.generic_utils import get_custom_objects\n",
        "from keras.layers import Activation, Dense, Dropout, Flatten, Conv2D, BatchNormalization, pooling, MaxPooling2D\n",
        "from keras.models import Sequential, load_model\n",
        "from keras.optimizers import Adam, SGD\n",
        "import PIL\n",
        "from PIL import Image\n",
        "from keras.callbacks import EarlyStopping, ModelCheckpoint\n",
        "import sys\n",
        "import seaborn as sns \n",
        "from keras.preprocessing.image import img_to_array, load_img\n",
        "\n",
        "# np.set_printoptions(threshold=np.nan)\n",
        "np.set_printoptions(threshold=20)\n",
        "np.random.seed(1234)\n",
        "set_random_seed(1234)"
      ],
      "execution_count": 1,
      "outputs": [
        {
          "output_type": "stream",
          "text": [
            "Using TensorFlow backend.\n"
          ],
          "name": "stderr"
        }
      ]
    },
    {
      "metadata": {
        "id": "h3rlni0vvPOH",
        "colab_type": "code",
        "outputId": "6b36f94e-5cac-4619-a57d-757cfe48063f",
        "colab": {
          "base_uri": "https://localhost:8080/",
          "height": 35
        }
      },
      "cell_type": "code",
      "source": [
        "from google.colab import drive \n",
        "drive.mount('/content/gdrive')\n",
        "\n",
        "#change working directory to google drive\n",
        "import os\n",
        "os.chdir(\"/content/gdrive/My Drive/AssettoCorsaSelfDriving\")\n",
        "\n",
        "#enable importing python modules from the folder 'modules'\n",
        "sys.path.append('modules')\n",
        "\n",
        "img_shape = (73, 200, 3)"
      ],
      "execution_count": 2,
      "outputs": [
        {
          "output_type": "stream",
          "text": [
            "Drive already mounted at /content/gdrive; to attempt to forcibly remount, call drive.mount(\"/content/gdrive\", force_remount=True).\n"
          ],
          "name": "stdout"
        }
      ]
    },
    {
      "metadata": {
        "id": "L4C8MUgYJkP-",
        "colab_type": "code",
        "colab": {}
      },
      "cell_type": "code",
      "source": [
        "from PIL import Image\n",
        "\n",
        "class LapRecognition:\n",
        "    def __init__(self, threshold = 100):\n",
        "        self.s1 = slice(134, 166)\n",
        "        self.s2 = slice(1192, 1222)\n",
        "        self.threshold = threshold\n",
        "        \n",
        "        self.number_one = img_to_array(load_img(\"modules/number_one.png\"))\n",
        "        \n",
        "        \n",
        "    def mse(self, imageA, imageB):\n",
        "        err = np.sum((imageA.astype(\"float\") - imageB.astype(\"float\")) ** 2)\n",
        "        err /= float(imageA.shape[0] * imageA.shape[1])\n",
        "        return err\n",
        "    \n",
        "\n",
        "    def is_lap_one(self, image):\n",
        "        difference = self.mse(image[self.s1, self.s2], self.number_one)\n",
        "        return difference < self.threshold"
      ],
      "execution_count": 0,
      "outputs": []
    },
    {
      "metadata": {
        "id": "kK7BhHdlnO02",
        "colab_type": "code",
        "colab": {}
      },
      "cell_type": "code",
      "source": [
        "import os, cv2\n",
        "import PIL\n",
        "\n",
        "class DataPreparation:\n",
        "    def __init__(self, width, height) -> None:\n",
        "        super().__init__()\n",
        "       \n",
        "        self.amount_of_frames = 0\n",
        "        self.amount_of_demo_frames = 0\n",
        "        self.rec = LapRecognition(threshold=100)\n",
        "        \n",
        "        self.img_shape = (height, width, 3)\n",
        "        \n",
        "\n",
        "    def prepare(self, verbose = False):\n",
        "        \n",
        "        output = os.popen(\"ls dataset/videos | wc -l\").read()\n",
        "        amount_of_videos = int(output.replace(\"\\n\", \"\"))\n",
        "        \n",
        "        output = os.popen(\"ls dataset/metainfos | wc -l\").read()\n",
        "        amount_of_metafiles = int(output.replace(\"\\n\", \"\"))\n",
        "        \n",
        "        if verbose:\n",
        "            print(\"Found\", amount_of_videos, \"videofiles and\", amount_of_metafiles, \"metafiles\")\n",
        "        \n",
        "        amount_of_videos = min(amount_of_videos, amount_of_metafiles)\n",
        "        \n",
        "        datapoints = []\n",
        "                \n",
        "        for i in range(1, amount_of_videos+1):\n",
        "            cap = cv2.VideoCapture(\"dataset/videos/\" + str(i) + \".mp4\")\n",
        "            metafile = open(\"dataset/metainfos/\"+ str(i) + \".txt\")\n",
        "            ret, frame = cap.read()\n",
        "            \n",
        "            videolength = int(cap.get(cv2.CAP_PROP_FRAME_COUNT))\n",
        "            \n",
        "            #read videofile until the start of the lap\n",
        "            counter=0\n",
        "            while not self.rec.is_lap_one(frame):\n",
        "                ret, frame = cap.read()\n",
        "                counter += 1\n",
        "            if verbose:\n",
        "                print(\"Found first frame of the first lap at\", counter)\n",
        "            \n",
        "            videolength -= counter\n",
        "            #reading while the first lap is recorded\n",
        "            counter = 0\n",
        "            while self.rec.is_lap_one(frame) and ret:\n",
        "                values = metafile.readline().split(\";\")\n",
        "                if len(values) < 2:\n",
        "                    break\n",
        "                \n",
        "                datapoints.append((float(values[0]), self.amount_of_frames))\n",
        "\n",
        "                img = cv2.resize(frame[250:], (self.img_shape[1], self.img_shape[0]))\n",
        "                cv2.imwrite(\"dataset/resized_frames/frame_\" + str(self.amount_of_frames) + \".png\", img)\n",
        "                self.amount_of_frames += 1\n",
        "\n",
        "                if verbose:\n",
        "                    cnt = int(counter/videolength*50)\n",
        "                    sys.stdout.write('\\r'+ \"Processing \" + str(i) + \"/\" + str(amount_of_videos) + \" video: [\" + \"=\"*cnt + \">\" + \" \"*(50-cnt-1) + \"]\")\n",
        "                \n",
        "                counter += 1\n",
        "            \n",
        "                ret, frame = cap.read()\n",
        "            \n",
        "            metafile.close()\n",
        "            \n",
        "            print(\"\")\n",
        "                \n",
        "        return np.array(datapoints, dtype=[('data', np.float32, 1), ('frame', np.int16, 1)])\n",
        "    \n",
        "    #name should be \"demo.mp4\"\n",
        "    def prepare_demo(self, verbose = False):\n",
        "        \n",
        "        cap = cv2.VideoCapture(\"dataset/videos/demo.mp4\")\n",
        "        ret, frame = cap.read()\n",
        "\n",
        "        videolength = int(cap.get(cv2.CAP_PROP_FRAME_COUNT))\n",
        "\n",
        "        #read videofile until the start of the lap\n",
        "        counter=0\n",
        "        while not self.rec.is_lap_one(frame):\n",
        "            ret, frame = cap.read()\n",
        "            counter += 1\n",
        "            \n",
        "        if verbose:\n",
        "            print(\"Found first frame of the first lap at\", counter)\n",
        "\n",
        "        videolength -= counter\n",
        "        #reading while the first lap is recorded\n",
        "        counter = 0\n",
        "        while self.rec.is_lap_one(frame) and ret:\n",
        "\n",
        "            img = cv2.resize(frame[250:], (self.img_shape[1], self.img_shape[0]))\n",
        "            cv2.imwrite(\"dataset/demo_frames/frame_\" + str(self.amount_of_demo_frames) + \".png\", img)\n",
        "            self.amount_of_demo_frames += 1\n",
        "\n",
        "            if verbose:\n",
        "                cnt = int(counter/videolength*50)\n",
        "                sys.stdout.write('\\r'+ \"Processing demo video: [\" + \"=\"*cnt + \">\" + \" \"*(50-cnt-1) + \"]\")\n",
        "\n",
        "            counter += 1\n",
        "\n",
        "            ret, frame = cap.read()\n",
        "\n"
      ],
      "execution_count": 0,
      "outputs": []
    },
    {
      "metadata": {
        "id": "BTybJOrbMRO-",
        "colab_type": "code",
        "colab": {}
      },
      "cell_type": "code",
      "source": [
        "prep = DataPreparation(img_shape[1], img_shape[0])"
      ],
      "execution_count": 0,
      "outputs": []
    },
    {
      "metadata": {
        "id": "o2hI2T8AajoA",
        "colab_type": "code",
        "outputId": "f231ce30-9095-4287-c6f3-724b6d681cfd",
        "colab": {
          "base_uri": "https://localhost:8080/",
          "height": 139
        }
      },
      "cell_type": "code",
      "source": [
        "# dataset = prep.prepare(True)"
      ],
      "execution_count": 0,
      "outputs": [
        {
          "output_type": "stream",
          "text": [
            "Found 3 videofiles and 3 metafiles\n",
            "Found first frame of the first lap at 223\n",
            "Processing 1/3 video: [=================================================>]\n",
            "Found first frame of the first lap at 173\n",
            "Processing 2/3 video: [=================================================>]\n",
            "Found first frame of the first lap at 38\n",
            "Processing 3/3 video: [=================================================>]\n"
          ],
          "name": "stdout"
        }
      ]
    },
    {
      "metadata": {
        "id": "wc7WK55-MPMX",
        "colab_type": "code",
        "colab": {
          "base_uri": "https://localhost:8080/",
          "height": 52
        },
        "outputId": "de1e326b-fffc-4da2-9c88-6f22ac6a2a43"
      },
      "cell_type": "code",
      "source": [
        "prep.prepare_demo(True)"
      ],
      "execution_count": 21,
      "outputs": [
        {
          "output_type": "stream",
          "text": [
            "Found first frame of the first lap at 140\n",
            "Processing demo video: [=================================================>]"
          ],
          "name": "stdout"
        }
      ]
    },
    {
      "metadata": {
        "id": "zLQ68ee2bhT0",
        "colab_type": "code",
        "colab": {}
      },
      "cell_type": "code",
      "source": [
        "!ls -lfh dataset/resized_frames/* | grep \" 0 \""
      ],
      "execution_count": 0,
      "outputs": []
    },
    {
      "metadata": {
        "id": "-bTA0Ntcd_7U",
        "colab_type": "code",
        "colab": {}
      },
      "cell_type": "code",
      "source": [
        "!cp dataset/saved_resized_frames/frame_9561.png dataset/resized_frames/"
      ],
      "execution_count": 0,
      "outputs": []
    },
    {
      "metadata": {
        "id": "azvKrEMvzGa3",
        "colab_type": "code",
        "colab": {}
      },
      "cell_type": "code",
      "source": [
        "np.save(\"dataset/serialized/dataset.npy\", dataset)\n",
        "!ls -lh dataset/serialized/dataset.npy"
      ],
      "execution_count": 0,
      "outputs": []
    },
    {
      "metadata": {
        "id": "CtgWETBUrHB-",
        "colab_type": "code",
        "colab": {}
      },
      "cell_type": "code",
      "source": [
        "dataset = np.load(\"dataset/serialized/dataset.npy\")\n",
        "\n",
        "print(\"Size of dataset:\", len(dataset))\n",
        "print(\"Example data:\", dataset[0])\n",
        "\n",
        "img = Image.open(\"dataset/resized_frames/frame_\" + str(dataset[0][1]) + \".png\")\n",
        "fig=plt.figure(figsize=(18, 10))\n",
        "plt.imshow(img)\n",
        "plt.axis('off')\n",
        "plt.show()"
      ],
      "execution_count": 0,
      "outputs": []
    },
    {
      "metadata": {
        "id": "DdccTB8dLopW",
        "colab_type": "code",
        "outputId": "540f25a8-8bef-4f76-d047-40de0e2a58da",
        "colab": {
          "base_uri": "https://localhost:8080/",
          "height": 295
        }
      },
      "cell_type": "code",
      "source": [
        "ax = sns.distplot(dataset[\"data\"]);\n",
        "ax.set(xlabel=\"steering angle\", ylabel=\"occurence\", title=\"Distribution of the steering angle\")\n",
        "plt.show()"
      ],
      "execution_count": 6,
      "outputs": [
        {
          "output_type": "display_data",
          "data": {
            "image/png": "[encoded data removed]",
            "text/plain": [
              "<matplotlib.figure.Figure at 0x7f963a797978>"
            ]
          },
          "metadata": {
            "tags": []
          }
        }
      ]
    },
    {
      "metadata": {
        "id": "ga9wC9sev66u",
        "colab_type": "code",
        "outputId": "060294a0-5686-4f2e-ec39-97119dc80d1f",
        "colab": {
          "base_uri": "https://localhost:8080/",
          "height": 69
        }
      },
      "cell_type": "code",
      "source": [
        "dataset = np.load(\"dataset/serialized/dataset.npy\")\n",
        "np.random.shuffle(dataset)\n",
        "\n",
        "valid_split = 0.2\n",
        "test_split = 0.1\n",
        "framecounter = len(dataset)\n",
        "\n",
        "train = dataset[0:int(framecounter*(1-valid_split-test_split))]\n",
        "valid = dataset[int(framecounter*(1-valid_split-test_split)):int(framecounter*(1-test_split))]\n",
        "test  = dataset[int(framecounter*(1-test_split)):]\n",
        "\n",
        "print(\"Number of train samples: \", len(train))\n",
        "print(\"Example train data before minmax scaling:\", train[0])\n",
        "train_scale = train[\"data\"].reshape(-1, 1)\n",
        "valid_scale = valid[\"data\"].reshape(-1, 1)\n",
        "test_scale = test[\"data\"].reshape(-1, 1)\n",
        "\n",
        "#standard scaler\n",
        "scaler = preprocessing.MinMaxScaler().fit(train_scale)\n",
        "train[\"data\"] = scaler.transform(train_scale).reshape(1, -1)\n",
        "valid[\"data\"] = scaler.transform(valid_scale).reshape(1, -1)\n",
        "test[\"data\"] = scaler.transform(test_scale).reshape(1, -1)\n",
        "\n",
        "print(\"Example train data after minmax scaling:\", train[0])"
      ],
      "execution_count": 6,
      "outputs": [
        {
          "output_type": "stream",
          "text": [
            "Number of train samples:  7410\n",
            "Example train data before minmax scaling: (-0.33104837, 6273)\n",
            "Example train data after minmax scaling: (0.41140312, 6273)\n"
          ],
          "name": "stdout"
        }
      ]
    },
    {
      "metadata": {
        "id": "KfFmIFKSVK_p",
        "colab_type": "code",
        "colab": {}
      },
      "cell_type": "code",
      "source": [
        "# https://keras.io/utils/#sequence\n",
        "from skimage.io import imread\n",
        "class SimpleDataGenerator(keras.utils.Sequence):\n",
        "    \n",
        "    # Here, `x_set` is list of ids\n",
        "    # and `y_set` are the associated steering angles\n",
        "    \n",
        "    def __init__(self, x_set, y_set, batch_size):\n",
        "        self.x, self.y = x_set, y_set\n",
        "        self.batch_size = batch_size\n",
        "\n",
        "    def __len__(self):\n",
        "        return int(np.ceil(len(self.x) / float(self.batch_size)))\n",
        "\n",
        "    def __getitem__(self, idx):\n",
        "        batch_x = self.x[idx * self.batch_size:(idx + 1) * self.batch_size]\n",
        "        batch_y = self.y[idx * self.batch_size:(idx + 1) * self.batch_size]\n",
        "\n",
        "        \n",
        "#         images = np.array([ imread('dataset/resized_frames/frame_' + str(ID) + '.png') for ID in batch_x])\n",
        "        images = np.array([ img_to_array(load_img('dataset/resized_frames/frame_' + str(ID) + '.png'))/255.0 for ID in batch_x])\n",
        "        return images, np.array(batch_y)"
      ],
      "execution_count": 0,
      "outputs": []
    },
    {
      "metadata": {
        "id": "4GnsEnD3Aws_",
        "colab_type": "code",
        "colab": {}
      },
      "cell_type": "code",
      "source": [
        "\n",
        "# https://stanford.edu/~shervine/blog/keras-how-to-generate-data-on-the-fly\n",
        "class DataGenerator(keras.utils.Sequence):\n",
        "    \"\"\"Generates data for Keras\"\"\"\n",
        "\n",
        "    def __init__(self, dataset, dim, batch_size=10, shuffle=True):\n",
        "        \"\"\"Initialization\"\"\"\n",
        "        self.dim = dim\n",
        "        self.batch_size = batch_size\n",
        "        self.dataset = dataset\n",
        "        self.shuffle = shuffle\n",
        "        self.indexes = np.arange(len(dataset))\n",
        "        self.on_epoch_end()\n",
        "        \n",
        "\n",
        "    def __len__(self):\n",
        "        \"\"\"Denotes the number of batches per epoch\"\"\"\n",
        "        return int(np.ceil(len(self.dataset) / self.batch_size))\n",
        "\n",
        "    def __getitem__(self, index):\n",
        "        \"\"\"Generate one batch of data\"\"\"\n",
        "        # Generate indexes of the batch\n",
        "        indexes = self.indexes[index * self.batch_size:(index + 1) * self.batch_size]\n",
        "\n",
        "        ids = [self.dataset[\"frame\"][k] for k in indexes]\n",
        "        datapoints = [self.dataset[\"data\"][k] for k in indexes]\n",
        "\n",
        "        \"\"\"Generates data containing batch_size samples\"\"\"\n",
        "        # Initialization\n",
        "        \n",
        "        X = np.empty((self.batch_size, *self.dim), dtype=float)\n",
        "        Y = np.empty((self.batch_size, *(1, )), dtype=float)\n",
        "        # Generate data\n",
        "        for i, ID in enumerate(ids):\n",
        "            img = img_to_array(load_img('dataset/resized_frames/frame_' + str(ID) + '.png')) /255.0\n",
        "\n",
        "            X[i,] = img\n",
        "            Y[i,] = datapoints[i]\n",
        "\n",
        "        return X, Y\n",
        "\n",
        "    def on_epoch_end(self):\n",
        "        \"\"\"Updates indexes after each epoch\"\"\"\n",
        "        if self.shuffle:\n",
        "            np.random.shuffle(self.indexes)\n"
      ],
      "execution_count": 0,
      "outputs": []
    },
    {
      "metadata": {
        "id": "U9S-sYSGy4ea",
        "colab_type": "code",
        "colab": {}
      },
      "cell_type": "code",
      "source": [
        "from keras import backend as K\n",
        "from keras.utils.generic_utils import get_custom_objects\n",
        "\n",
        "class Swish(Activation):\n",
        "    \n",
        "    def __init__(self, activation, **kwargs):\n",
        "        super(Swish, self).__init__(activation, **kwargs)\n",
        "        self.__name__ = 'swish'\n",
        "\n",
        "def swish(x):\n",
        "    A = (K.sigmoid(x) * x)\n",
        "    return A\n",
        "\n",
        "get_custom_objects().update({'swish': Swish(swish)})"
      ],
      "execution_count": 0,
      "outputs": []
    },
    {
      "metadata": {
        "id": "zYhoVzkNkicU",
        "colab_type": "code",
        "colab": {}
      },
      "cell_type": "code",
      "source": [
        "#https://navoshta.com/end-to-end-deep-learning/\n",
        "\n",
        "activation=\"swish\"\n",
        "\n",
        "model = Sequential()\n",
        "model.add(Conv2D(16, (3, 3), input_shape=img_shape, activation=activation))\n",
        "# model.add(MaxPooling2D(pool_size=(2, 2)))\n",
        "model.add(Conv2D(32, (3, 3), activation=activation))\n",
        "# model.add(MaxPooling2D(pool_size=(2, 2)))\n",
        "model.add(Conv2D(64, (3, 3), activation=activation))\n",
        "# model.add(MaxPooling2D(pool_size=(2, 2)))\n",
        "model.add(Flatten())\n",
        "model.add(Dense(500, activation=activation))\n",
        "model.add(Dense(100, activation=activation))\n",
        "model.add(Dense(20, activation=activation))\n",
        "model.add(Dense(1, activation='sigmoid'))"
      ],
      "execution_count": 0,
      "outputs": []
    },
    {
      "metadata": {
        "id": "bFo_kBQF2zg2",
        "colab_type": "code",
        "colab": {}
      },
      "cell_type": "code",
      "source": [
        "##pilotnet\n",
        "model = Sequential()\n",
        "\n",
        "activation = \"relu\"\n",
        "\n",
        "model.add(Conv2D(24, kernel_size=(5,5), strides=(2,2), activation=activation, input_shape=img_shape))\n",
        "model.add(BatchNormalization())\n",
        "model.add(Conv2D(36, kernel_size=(5,5), strides=(2,2), activation=activation))\n",
        "model.add(BatchNormalization())\n",
        "model.add(Conv2D(48, kernel_size=(5,5), strides=(2,2), activation=activation))\n",
        "model.add(BatchNormalization())\n",
        "model.add(Conv2D(64, kernel_size=(3,3), strides=(1,1), activation=activation))\n",
        "model.add(BatchNormalization())\n",
        "model.add(Conv2D(64, kernel_size=(3,3), strides=(1,1), activation=activation))\n",
        "model.add(BatchNormalization())\n",
        "\n",
        "model.add(Flatten())\n",
        "\n",
        "model.add(Dense(100, activation=activation))\n",
        "model.add(BatchNormalization())\n",
        "model.add(Dense(50, activation=activation))\n",
        "model.add(BatchNormalization())\n",
        "model.add(Dense(10, activation=activation))\n",
        "model.add(BatchNormalization())\n",
        "\n",
        "model.add(Dense(1, activation='sigmoid'))\n"
      ],
      "execution_count": 0,
      "outputs": []
    },
    {
      "metadata": {
        "id": "WHl5QDy52jpH",
        "colab_type": "code",
        "colab": {}
      },
      "cell_type": "code",
      "source": [
        "sgd = SGD(lr=0.003, decay=1e-6, momentum=0.8, nesterov=True)\n",
        "adam = Adam(lr=0.001, beta_1=0.9, beta_2=0.999)\n",
        "model.compile(optimizer=sgd, loss=\"mse\")\n",
        "# model.summary()"
      ],
      "execution_count": 0,
      "outputs": []
    },
    {
      "metadata": {
        "id": "VkT3g8_02lCW",
        "colab_type": "code",
        "outputId": "ad900979-30e7-4034-d318-0ac5b4b321ae",
        "colab": {
          "base_uri": "https://localhost:8080/",
          "height": 2808
        }
      },
      "cell_type": "code",
      "source": [
        "training_generator = DataGenerator(train, dim=img_shape, batch_size=64)\n",
        "validation_generator = DataGenerator(valid, dim=img_shape, batch_size=64)\n",
        "\n",
        "# training_generator = SimpleDataGenerator(train[\"frame\"], train[\"data\"], batch_size=128)\n",
        "# validation_generator = SimpleDataGenerator(valid[\"frame\"], valid[\"data\"], batch_size=128)\n",
        "\n",
        "\n",
        "#setup early stopping\n",
        "es = EarlyStopping(patience=16, verbose=1, min_delta=0.0005)\n",
        "\n",
        "#we are going to keep only the best model\n",
        "mcp = ModelCheckpoint(filepath='model/weights/weights.hdf5', verbose=1, save_best_only=True)\n",
        "\n",
        "# set parameters and start learning\n",
        "history = model.fit_generator(\n",
        "            generator=training_generator,\n",
        "            validation_data=validation_generator,\n",
        "            use_multiprocessing=False,\n",
        "            epochs=100, # early stopping detects the end\n",
        "            verbose=1, \n",
        "            shuffle=True,\n",
        "            callbacks=[mcp, es]\n",
        "         )\n"
      ],
      "execution_count": 11,
      "outputs": [
        {
          "output_type": "stream",
          "text": [
            "Epoch 1/100\n",
            "116/116 [==============================] - 86s 739ms/step - loss: 0.0129 - val_loss: 0.0123\n",
            "\n",
            "Epoch 00001: val_loss improved from inf to 0.01235, saving model to model/weights/weights.hdf5\n",
            "Epoch 2/100\n",
            "116/116 [==============================] - 75s 643ms/step - loss: 0.0117 - val_loss: 0.0117\n",
            "\n",
            "Epoch 00002: val_loss improved from 0.01235 to 0.01166, saving model to model/weights/weights.hdf5\n",
            "Epoch 3/100\n",
            "116/116 [==============================] - 75s 647ms/step - loss: 0.0112 - val_loss: 0.0113\n",
            "\n",
            "Epoch 00003: val_loss improved from 0.01166 to 0.01126, saving model to model/weights/weights.hdf5\n",
            "Epoch 4/100\n",
            "116/116 [==============================] - 76s 651ms/step - loss: 0.0107 - val_loss: 0.0109\n",
            "\n",
            "Epoch 00004: val_loss improved from 0.01126 to 0.01091, saving model to model/weights/weights.hdf5\n",
            "Epoch 5/100\n",
            "116/116 [==============================] - 74s 636ms/step - loss: 0.0101 - val_loss: 0.0103\n",
            "\n",
            "Epoch 00005: val_loss improved from 0.01091 to 0.01030, saving model to model/weights/weights.hdf5\n",
            "Epoch 6/100\n",
            "116/116 [==============================] - 75s 643ms/step - loss: 0.0097 - val_loss: 0.0100\n",
            "\n",
            "Epoch 00006: val_loss improved from 0.01030 to 0.00999, saving model to model/weights/weights.hdf5\n",
            "Epoch 7/100\n",
            "116/116 [==============================] - 75s 648ms/step - loss: 0.0095 - val_loss: 0.0098\n",
            "\n",
            "Epoch 00007: val_loss improved from 0.00999 to 0.00976, saving model to model/weights/weights.hdf5\n",
            "Epoch 8/100\n",
            "116/116 [==============================] - 75s 645ms/step - loss: 0.0093 - val_loss: 0.0096\n",
            "\n",
            "Epoch 00008: val_loss improved from 0.00976 to 0.00958, saving model to model/weights/weights.hdf5\n",
            "Epoch 9/100\n",
            "116/116 [==============================] - 75s 647ms/step - loss: 0.0092 - val_loss: 0.0095\n",
            "\n",
            "Epoch 00009: val_loss improved from 0.00958 to 0.00950, saving model to model/weights/weights.hdf5\n",
            "Epoch 10/100\n",
            "116/116 [==============================] - 75s 645ms/step - loss: 0.0090 - val_loss: 0.0093\n",
            "\n",
            "Epoch 00010: val_loss improved from 0.00950 to 0.00930, saving model to model/weights/weights.hdf5\n",
            "Epoch 11/100\n",
            "116/116 [==============================] - 74s 641ms/step - loss: 0.0089 - val_loss: 0.0092\n",
            "\n",
            "Epoch 00011: val_loss improved from 0.00930 to 0.00924, saving model to model/weights/weights.hdf5\n",
            "Epoch 12/100\n",
            "116/116 [==============================] - 75s 646ms/step - loss: 0.0088 - val_loss: 0.0092\n",
            "\n",
            "Epoch 00012: val_loss improved from 0.00924 to 0.00919, saving model to model/weights/weights.hdf5\n",
            "Epoch 13/100\n",
            "116/116 [==============================] - 74s 642ms/step - loss: 0.0087 - val_loss: 0.0089\n",
            "\n",
            "Epoch 00013: val_loss improved from 0.00919 to 0.00890, saving model to model/weights/weights.hdf5\n",
            "Epoch 14/100\n",
            "116/116 [==============================] - 75s 644ms/step - loss: 0.0085 - val_loss: 0.0088\n",
            "\n",
            "Epoch 00014: val_loss improved from 0.00890 to 0.00881, saving model to model/weights/weights.hdf5\n",
            "Epoch 15/100\n",
            "116/116 [==============================] - 75s 645ms/step - loss: 0.0084 - val_loss: 0.0087\n",
            "\n",
            "Epoch 00015: val_loss improved from 0.00881 to 0.00872, saving model to model/weights/weights.hdf5\n",
            "Epoch 16/100\n",
            "116/116 [==============================] - 75s 650ms/step - loss: 0.0083 - val_loss: 0.0086\n",
            "\n",
            "Epoch 00016: val_loss improved from 0.00872 to 0.00865, saving model to model/weights/weights.hdf5\n",
            "Epoch 17/100\n",
            "116/116 [==============================] - 75s 647ms/step - loss: 0.0081 - val_loss: 0.0084\n",
            "\n",
            "Epoch 00017: val_loss improved from 0.00865 to 0.00842, saving model to model/weights/weights.hdf5\n",
            "Epoch 18/100\n",
            "116/116 [==============================] - 75s 648ms/step - loss: 0.0080 - val_loss: 0.0084\n",
            "\n",
            "Epoch 00018: val_loss improved from 0.00842 to 0.00836, saving model to model/weights/weights.hdf5\n",
            "Epoch 19/100\n",
            "116/116 [==============================] - 75s 643ms/step - loss: 0.0079 - val_loss: 0.0082\n",
            "\n",
            "Epoch 00019: val_loss improved from 0.00836 to 0.00822, saving model to model/weights/weights.hdf5\n",
            "Epoch 20/100\n",
            "116/116 [==============================] - 75s 648ms/step - loss: 0.0077 - val_loss: 0.0080\n",
            "\n",
            "Epoch 00020: val_loss improved from 0.00822 to 0.00800, saving model to model/weights/weights.hdf5\n",
            "Epoch 21/100\n",
            "116/116 [==============================] - 76s 651ms/step - loss: 0.0075 - val_loss: 0.0079\n",
            "\n",
            "Epoch 00021: val_loss improved from 0.00800 to 0.00791, saving model to model/weights/weights.hdf5\n",
            "Epoch 22/100\n",
            "116/116 [==============================] - 75s 643ms/step - loss: 0.0073 - val_loss: 0.0079\n",
            "\n",
            "Epoch 00022: val_loss did not improve from 0.00791\n",
            "Epoch 23/100\n",
            "116/116 [==============================] - 74s 637ms/step - loss: 0.0071 - val_loss: 0.0075\n",
            "\n",
            "Epoch 00023: val_loss improved from 0.00791 to 0.00753, saving model to model/weights/weights.hdf5\n",
            "Epoch 24/100\n",
            "116/116 [==============================] - 75s 645ms/step - loss: 0.0069 - val_loss: 0.0073\n",
            "\n",
            "Epoch 00024: val_loss improved from 0.00753 to 0.00731, saving model to model/weights/weights.hdf5\n",
            "Epoch 25/100\n",
            "116/116 [==============================] - 75s 645ms/step - loss: 0.0066 - val_loss: 0.0073\n",
            "\n",
            "Epoch 00025: val_loss did not improve from 0.00731\n",
            "Epoch 26/100\n",
            "116/116 [==============================] - 74s 637ms/step - loss: 0.0064 - val_loss: 0.0069\n",
            "\n",
            "Epoch 00026: val_loss improved from 0.00731 to 0.00691, saving model to model/weights/weights.hdf5\n",
            "Epoch 27/100\n",
            "116/116 [==============================] - 75s 644ms/step - loss: 0.0062 - val_loss: 0.0071\n",
            "\n",
            "Epoch 00027: val_loss did not improve from 0.00691\n",
            "Epoch 28/100\n",
            "116/116 [==============================] - 74s 637ms/step - loss: 0.0060 - val_loss: 0.0068\n",
            "\n",
            "Epoch 00028: val_loss improved from 0.00691 to 0.00682, saving model to model/weights/weights.hdf5\n",
            "Epoch 29/100\n",
            "116/116 [==============================] - 74s 638ms/step - loss: nan - val_loss: nan\n",
            "\n",
            "Epoch 00029: val_loss did not improve from 0.00682\n",
            "Epoch 30/100\n",
            "116/116 [==============================] - 72s 622ms/step - loss: nan - val_loss: nan\n",
            "\n",
            "Epoch 00030: val_loss did not improve from 0.00682\n",
            "Epoch 31/100\n",
            "116/116 [==============================] - 72s 622ms/step - loss: nan - val_loss: nan\n",
            "\n",
            "Epoch 00031: val_loss did not improve from 0.00682\n",
            "Epoch 32/100\n",
            "116/116 [==============================] - 72s 621ms/step - loss: nan - val_loss: nan\n",
            "\n",
            "Epoch 00032: val_loss did not improve from 0.00682\n",
            "Epoch 33/100\n",
            "116/116 [==============================] - 72s 620ms/step - loss: nan - val_loss: nan\n",
            "\n",
            "Epoch 00033: val_loss did not improve from 0.00682\n",
            "Epoch 34/100\n",
            "116/116 [==============================] - 72s 620ms/step - loss: nan - val_loss: nan\n",
            "\n",
            "Epoch 00034: val_loss did not improve from 0.00682\n",
            "Epoch 35/100\n",
            "116/116 [==============================] - 72s 621ms/step - loss: nan - val_loss: nan\n",
            "\n",
            "Epoch 00035: val_loss did not improve from 0.00682\n",
            "Epoch 36/100\n",
            "116/116 [==============================] - 73s 626ms/step - loss: nan - val_loss: nan\n",
            "\n",
            "Epoch 00036: val_loss did not improve from 0.00682\n",
            "Epoch 37/100\n",
            "116/116 [==============================] - 73s 626ms/step - loss: nan - val_loss: nan\n",
            "\n",
            "Epoch 00037: val_loss did not improve from 0.00682\n",
            "Epoch 38/100\n",
            "116/116 [==============================] - 72s 625ms/step - loss: nan - val_loss: nan\n",
            "\n",
            "Epoch 00038: val_loss did not improve from 0.00682\n",
            "Epoch 39/100\n",
            "116/116 [==============================] - 73s 625ms/step - loss: nan - val_loss: nan\n",
            "\n",
            "Epoch 00039: val_loss did not improve from 0.00682\n",
            "Epoch 40/100\n",
            "116/116 [==============================] - 73s 625ms/step - loss: nan - val_loss: nan\n",
            "\n",
            "Epoch 00040: val_loss did not improve from 0.00682\n",
            "Epoch 00040: early stopping\n"
          ],
          "name": "stdout"
        }
      ]
    },
    {
      "metadata": {
        "id": "rU-5pb2X42ve",
        "colab_type": "code",
        "colab": {}
      },
      "cell_type": "code",
      "source": [
        "# load back best model (early stopping + model checkpoint)\n",
        "model = load_model('model/weights/weights.hdf5')"
      ],
      "execution_count": 0,
      "outputs": []
    },
    {
      "metadata": {
        "id": "K4Hj0C6dQXfT",
        "colab_type": "code",
        "colab": {
          "base_uri": "https://localhost:8080/",
          "height": 104
        },
        "outputId": "d40c5491-ad71-49a3-eeb1-ed583b83a54a"
      },
      "cell_type": "code",
      "source": [
        "!ls -la model/weights"
      ],
      "execution_count": 36,
      "outputs": [
        {
          "output_type": "stream",
          "text": [
            "total 3334883\n",
            "-rw------- 1 root root    3038424 Jan 10 13:05 pilotnet_relu_sigmoid.hdf5\n",
            "-rw------- 1 root root   41870704 Jan 10 12:05 small_relu_linear.hdf5\n",
            "-rw------- 1 root root   41870712 Jan 10 10:55 small_relu_sigmoid.hdf5\n",
            "-rw------- 1 root root 3328139672 Jan 10 14:13 weights.hdf5\n"
          ],
          "name": "stdout"
        }
      ]
    },
    {
      "metadata": {
        "id": "RJUjv7Fe2MH0",
        "colab_type": "code",
        "colab": {}
      },
      "cell_type": "code",
      "source": [
        "!cp model/weights/weights.hdf5 model/weights/pilotnet_relu_sigmoid.hdf5"
      ],
      "execution_count": 0,
      "outputs": []
    },
    {
      "metadata": {
        "id": "8fJVlAv7NObW",
        "colab_type": "code",
        "colab": {}
      },
      "cell_type": "code",
      "source": [
        "def plot_history(network_history):\n",
        "    \n",
        "    #set pltting attributes\n",
        "    #loss-epochs\n",
        "    plt.figure()\n",
        "    plt.xlabel('Epochs')\n",
        "    plt.ylabel('Loss')\n",
        "    plt.plot(network_history.history['loss'])\n",
        "    plt.plot(network_history.history['val_loss'])\n",
        "    plt.legend(['Training', 'Validation'])\n",
        "\n",
        "    #accuracy-epochs\n",
        "#     plt.figure()\n",
        "#     plt.xlabel('Epochs')\n",
        "#     plt.ylabel('Accuracy')\n",
        "#     plt.plot(network_history.history['acc'])\n",
        "#     plt.plot(network_history.history['val_acc'])\n",
        "#     plt.legend(['Training', 'Validation'])\n",
        "    \n",
        "    plt.show()"
      ],
      "execution_count": 0,
      "outputs": []
    },
    {
      "metadata": {
        "id": "Vaoh4BujNPdR",
        "colab_type": "code",
        "outputId": "f29fe40f-d239-4ed7-f317-6da61011644b",
        "colab": {
          "base_uri": "https://localhost:8080/",
          "height": 297
        }
      },
      "cell_type": "code",
      "source": [
        "#plot learning history\n",
        "plot_history(history)\n",
        "\n",
        "# Final evaluation of the model\n",
        "test_generator = DataGenerator(test, dim=img_shape, batch_size=16)\n",
        "scores = model.evaluate_generator(test_generator, verbose=0)\n",
        "print(\"Test loss: \", scores)\n",
        "# print(\"Test accuracy: %.2f%%\" % (scores[2]*100))"
      ],
      "execution_count": 115,
      "outputs": [
        {
          "output_type": "display_data",
          "data": {
            "image/png": "[encoded data removed]",
            "text/plain": [
              "<matplotlib.figure.Figure at 0x7f95e0ab43c8>"
            ]
          },
          "metadata": {
            "tags": []
          }
        },
        {
          "output_type": "stream",
          "text": [
            "Test loss:  0.0052464382712390616\n"
          ],
          "name": "stdout"
        }
      ]
    },
    {
      "metadata": {
        "id": "Wc0sI6LiiF8b",
        "colab_type": "code",
        "outputId": "e26236be-6cc2-4059-e371-6b52f4ee1dd6",
        "colab": {
          "base_uri": "https://localhost:8080/",
          "height": 297
        }
      },
      "cell_type": "code",
      "source": [
        "test_dataset = np.load(\"dataset/serialized/dataset.npy\")\n",
        "\n",
        "nb_predictions = 400\n",
        "start = random.randint(1,len(test_dataset) - 401)\n",
        "print(start)\n",
        "predictions = []\n",
        "\n",
        "for i in range(start, start+nb_predictions):\n",
        "    img = np.array(img_to_array(load_img('dataset/resized_frames/frame_' + str(i) + '.png'))/255.0, copy=False, ndmin=4)\n",
        "    predictions.append(scaler.inverse_transform(model.predict(img))[0][0])\n",
        "    \n",
        "plt.xlabel('frames')\n",
        "plt.ylabel('steering angle')\n",
        "plt.plot(predictions)\n",
        "plt.plot(test_dataset[\"data\"][start:start+nb_predictions])\n",
        "plt.legend(['Prediction', 'Ground truth'])\n",
        "plt.xticks(np.arange(0, nb_predictions, 50))\n",
        "plt.show()"
      ],
      "execution_count": 38,
      "outputs": [
        {
          "output_type": "stream",
          "text": [
            "3999\n"
          ],
          "name": "stdout"
        },
        {
          "output_type": "display_data",
          "data": {
            "image/png": "[encoded data removed]",
            "text/plain": [
              "<matplotlib.figure.Figure at 0x7f3d22e010b8>"
            ]
          },
          "metadata": {
            "tags": []
          }
        }
      ]
    },
    {
      "metadata": {
        "id": "4xXT969ajGpj",
        "colab_type": "code",
        "colab": {
          "base_uri": "https://localhost:8080/",
          "height": 297
        },
        "outputId": "f97a9bb2-d339-4d12-915b-18702a1f042f"
      },
      "cell_type": "code",
      "source": [
        "predictions = []\n",
        "truth = []\n",
        "\n",
        "metafile = open(\"dataset/metainfos/demo.txt\")\n",
        "counter = 0\n",
        "\n",
        "# output = os.popen(\"ls dataset/demo_frames | wc -l\").read()\n",
        "# videolength = int(output.replace(\"\\n\", \"\"))\n",
        "\n",
        "videolength = 550\n",
        "\n",
        "for i in range(videolength):\n",
        "    values = metafile.readline().split(\";\")\n",
        "    if len(values) < 2:\n",
        "        break\n",
        "\n",
        "    truth.append(float(values[0]))\n",
        "    \n",
        "    img = np.array(img_to_array(load_img('dataset/demo_frames/frame_' + str(i) + '.png'))/255.0, copy=False, ndmin=4)\n",
        "    predictions.append(scaler.inverse_transform(model.predict(img))[0][0])\n",
        "    \n",
        "    counter += 1\n",
        "    \n",
        "    \n",
        "    cnt = int(counter/videolength*50)\n",
        "    sys.stdout.write('\\r'+ \"Calculating predictions on demo video: [\" + \"=\"*cnt + \">\" + \" \"*(50-cnt-1) + \"]\")\n",
        "\n",
        "\n",
        "metafile.close()\n",
        "\n",
        "    \n",
        "plt.xlabel('frames')\n",
        "plt.ylabel('steering angle')\n",
        "plt.plot(predictions)\n",
        "plt.plot(truth)\n",
        "plt.legend(['Prediction', 'Ground truth'])\n",
        "plt.show()"
      ],
      "execution_count": 39,
      "outputs": [
        {
          "output_type": "stream",
          "text": [
            "Calculating predictions on demo video: [==================================================>]"
          ],
          "name": "stdout"
        },
        {
          "output_type": "display_data",
          "data": {
            "image/png": "[encoded data removed]",
            "text/plain": [
              "<matplotlib.figure.Figure at 0x7f3d98855b38>"
            ]
          },
          "metadata": {
            "tags": []
          }
        }
      ]
    },
    {
      "metadata": {
        "id": "cLYjjnytRG0a",
        "colab_type": "code",
        "colab": {}
      },
      "cell_type": "code",
      "source": [
        ""
      ],
      "execution_count": 0,
      "outputs": []
    }
  ]
}