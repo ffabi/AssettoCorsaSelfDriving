{
  "nbformat": 4,
  "nbformat_minor": 0,
  "metadata": {
    "colab": {
      "name": "AssettoCorsaSelfDriving 3.0.ipynb",
      "version": "0.3.2",
      "provenance": [],
      "collapsed_sections": [],
      "include_colab_link": true
    },
    "kernelspec": {
      "name": "python3",
      "display_name": "Python 3"
    },
    "accelerator": "GPU"
  },
  "cells": [
    {
      "cell_type": "markdown",
      "metadata": {
        "id": "view-in-github",
        "colab_type": "text"
      },
      "source": [
        "<a href=\"https://colab.research.google.com/github/ffabi/AssettoCorsaSelfDriving/blob/master/AssettoCorsaSelfDriving_3_0.ipynb\" target=\"_parent\"><img src=\"https://colab.research.google.com/assets/colab-badge.svg\" alt=\"Open In Colab\"/></a>"
      ]
    },
    {
      "metadata": {
        "id": "iC7EEXwDvKF3",
        "colab_type": "code",
        "outputId": "dd8d7487-b674-4d46-a222-d17f47e4f696",
        "colab": {
          "base_uri": "https://localhost:8080/",
          "height": 35
        }
      },
      "cell_type": "code",
      "source": [
        "import numpy as np\n",
        "import cv2\n",
        "import matplotlib.pyplot as plt\n",
        "%matplotlib inline\n",
        "import keras\n",
        "from sklearn import preprocessing\n",
        "import random\n",
        "from tensorflow import set_random_seed\n",
        "from keras import backend as K\n",
        "from keras.utils.generic_utils import get_custom_objects\n",
        "from keras.layers import Activation, Dense, Dropout, Flatten, Conv2D, BatchNormalization, pooling, MaxPooling2D\n",
        "from keras.models import Sequential, load_model\n",
        "from keras.optimizers import Adam, SGD\n",
        "import PIL\n",
        "from PIL import Image\n",
        "from keras.callbacks import EarlyStopping, ModelCheckpoint\n",
        "import sys\n",
        "import seaborn as sns \n",
        "from keras.preprocessing.image import img_to_array, load_img\n",
        "\n",
        "# np.set_printoptions(threshold=np.nan)\n",
        "np.set_printoptions(threshold=20)\n",
        "np.random.seed(1234)\n",
        "set_random_seed(1234)"
      ],
      "execution_count": 1,
      "outputs": [
        {
          "output_type": "stream",
          "text": [
            "Using TensorFlow backend.\n"
          ],
          "name": "stderr"
        }
      ]
    },
    {
      "metadata": {
        "id": "h3rlni0vvPOH",
        "colab_type": "code",
        "outputId": "b8306551-4430-4ec2-d504-a34fe1dd45ba",
        "colab": {
          "base_uri": "https://localhost:8080/",
          "height": 35
        }
      },
      "cell_type": "code",
      "source": [
        "from google.colab import drive \n",
        "drive.mount('/content/gdrive')\n",
        "\n",
        "#change working directory to google drive\n",
        "import os\n",
        "os.chdir(\"/content/gdrive/My Drive/AssettoCorsaSelfDriving\")\n",
        "\n",
        "#enable importing python modules from the folder 'modules'\n",
        "sys.path.append('modules')\n",
        "\n",
        "img_shape = (73, 200, 3)"
      ],
      "execution_count": 2,
      "outputs": [
        {
          "output_type": "stream",
          "text": [
            "Drive already mounted at /content/gdrive; to attempt to forcibly remount, call drive.mount(\"/content/gdrive\", force_remount=True).\n"
          ],
          "name": "stdout"
        }
      ]
    },
    {
      "metadata": {
        "id": "L4C8MUgYJkP-",
        "colab_type": "code",
        "colab": {}
      },
      "cell_type": "code",
      "source": [
        "from PIL import Image\n",
        "\n",
        "class LapRecognition:\n",
        "    def __init__(self, threshold = 100):\n",
        "        self.s1 = slice(134, 166)\n",
        "        self.s2 = slice(1192, 1222)\n",
        "        self.threshold = threshold\n",
        "        \n",
        "        self.number_one = img_to_array(load_img(\"modules/number_one.png\"))\n",
        "        \n",
        "        \n",
        "    def mse(self, imageA, imageB):\n",
        "        err = np.sum((imageA.astype(\"float\") - imageB.astype(\"float\")) ** 2)\n",
        "        err /= float(imageA.shape[0] * imageA.shape[1])\n",
        "        return err\n",
        "    \n",
        "\n",
        "    def is_lap_one(self, image):\n",
        "        difference = self.mse(image[self.s1, self.s2], self.number_one)\n",
        "        return difference < self.threshold"
      ],
      "execution_count": 0,
      "outputs": []
    },
    {
      "metadata": {
        "id": "kK7BhHdlnO02",
        "colab_type": "code",
        "colab": {}
      },
      "cell_type": "code",
      "source": [
        "import os, cv2\n",
        "import PIL\n",
        "\n",
        "class DataPreparation:\n",
        "    def __init__(self, width, height) -> None:\n",
        "        super().__init__()\n",
        "       \n",
        "        self.amount_of_frames = 0\n",
        "        self.amount_of_demo_frames = 0\n",
        "        self.rec = LapRecognition(threshold=100)\n",
        "        \n",
        "        self.img_shape = (height, width, 3)\n",
        "        \n",
        "\n",
        "    def prepare(self, verbose = False):\n",
        "        \n",
        "        output = os.popen(\"ls dataset/videos | wc -l\").read()\n",
        "        amount_of_videos = int(output.replace(\"\\n\", \"\"))\n",
        "        \n",
        "        output = os.popen(\"ls dataset/metainfos | wc -l\").read()\n",
        "        amount_of_metafiles = int(output.replace(\"\\n\", \"\"))\n",
        "        \n",
        "        if verbose:\n",
        "            print(\"Found\", amount_of_videos, \"videofiles and\", amount_of_metafiles, \"metafiles\")\n",
        "        \n",
        "        amount_of_videos = min(amount_of_videos, amount_of_metafiles)\n",
        "        \n",
        "        datapoints = []\n",
        "                \n",
        "        for i in range(1, amount_of_videos+1):\n",
        "            cap = cv2.VideoCapture(\"dataset/videos/\" + str(i) + \".mp4\")\n",
        "            metafile = open(\"dataset/metainfos/\"+ str(i) + \".txt\")\n",
        "            ret, frame = cap.read()\n",
        "            \n",
        "            videolength = int(cap.get(cv2.CAP_PROP_FRAME_COUNT))\n",
        "            \n",
        "            #read videofile until the start of the lap\n",
        "            counter=0\n",
        "            while not self.rec.is_lap_one(frame):\n",
        "                ret, frame = cap.read()\n",
        "                counter += 1\n",
        "            if verbose:\n",
        "                print(\"Found first frame of the first lap at\", counter)\n",
        "            \n",
        "            videolength -= counter\n",
        "            #reading while the first lap is recorded\n",
        "            counter = 0\n",
        "            while self.rec.is_lap_one(frame) and ret:\n",
        "                values = metafile.readline().split(\";\")\n",
        "                if len(values) < 2:\n",
        "                    break\n",
        "                \n",
        "                datapoints.append((float(values[0]), self.amount_of_frames))\n",
        "\n",
        "                img = cv2.resize(frame[250:], (self.img_shape[1], self.img_shape[0]))\n",
        "                cv2.imwrite(\"dataset/resized_frames/frame_\" + str(self.amount_of_frames) + \".png\", img)\n",
        "                self.amount_of_frames += 1\n",
        "\n",
        "                if verbose:\n",
        "                    cnt = int(counter/videolength*50)\n",
        "                    sys.stdout.write('\\r'+ \"Processing \" + str(i) + \"/\" + str(amount_of_videos) + \" video: [\" + \"=\"*cnt + \">\" + \" \"*(50-cnt-1) + \"]\")\n",
        "                \n",
        "                counter += 1\n",
        "            \n",
        "                ret, frame = cap.read()\n",
        "            \n",
        "            metafile.close()\n",
        "            \n",
        "            print(\"\")\n",
        "                \n",
        "        return np.array(datapoints, dtype=[('data', np.float32, 1), ('frame', np.int16, 1)])\n",
        "    \n",
        "    #name should be \"demo.mp4\"\n",
        "    def prepare_demo(self, verbose = False):\n",
        "        \n",
        "        cap = cv2.VideoCapture(\"dataset/videos/demo.mp4\")\n",
        "        ret, frame = cap.read()\n",
        "\n",
        "        videolength = int(cap.get(cv2.CAP_PROP_FRAME_COUNT))\n",
        "\n",
        "        #read videofile until the start of the lap\n",
        "        counter=0\n",
        "        while not self.rec.is_lap_one(frame):\n",
        "            ret, frame = cap.read()\n",
        "            counter += 1\n",
        "            \n",
        "        if verbose:\n",
        "            print(\"Found first frame of the first lap at\", counter)\n",
        "\n",
        "        videolength -= counter\n",
        "        #reading while the first lap is recorded\n",
        "        counter = 0\n",
        "        while self.rec.is_lap_one(frame) and ret:\n",
        "\n",
        "            img = cv2.resize(frame[250:], (self.img_shape[1], self.img_shape[0]))\n",
        "            cv2.imwrite(\"dataset/demo_frames/frame_\" + str(self.amount_of_demo_frames) + \".png\", img)\n",
        "            self.amount_of_demo_frames += 1\n",
        "\n",
        "            if verbose:\n",
        "                cnt = int(counter/videolength*50)\n",
        "                sys.stdout.write('\\r'+ \"Processing demo video: [\" + \"=\"*cnt + \">\" + \" \"*(50-cnt-1) + \"]\")\n",
        "\n",
        "            counter += 1\n",
        "\n",
        "            ret, frame = cap.read()\n",
        "\n"
      ],
      "execution_count": 0,
      "outputs": []
    },
    {
      "metadata": {
        "id": "BTybJOrbMRO-",
        "colab_type": "code",
        "colab": {}
      },
      "cell_type": "code",
      "source": [
        "prep = DataPreparation(img_shape[1], img_shape[0])"
      ],
      "execution_count": 0,
      "outputs": []
    },
    {
      "metadata": {
        "id": "o2hI2T8AajoA",
        "colab_type": "code",
        "outputId": "f231ce30-9095-4287-c6f3-724b6d681cfd",
        "colab": {
          "base_uri": "https://localhost:8080/",
          "height": 139
        }
      },
      "cell_type": "code",
      "source": [
        "# dataset = prep.prepare(True)"
      ],
      "execution_count": 0,
      "outputs": [
        {
          "output_type": "stream",
          "text": [
            "Found 3 videofiles and 3 metafiles\n",
            "Found first frame of the first lap at 223\n",
            "Processing 1/3 video: [=================================================>]\n",
            "Found first frame of the first lap at 173\n",
            "Processing 2/3 video: [=================================================>]\n",
            "Found first frame of the first lap at 38\n",
            "Processing 3/3 video: [=================================================>]\n"
          ],
          "name": "stdout"
        }
      ]
    },
    {
      "metadata": {
        "id": "wc7WK55-MPMX",
        "colab_type": "code",
        "colab": {
          "base_uri": "https://localhost:8080/",
          "height": 52
        },
        "outputId": "de1e326b-fffc-4da2-9c88-6f22ac6a2a43"
      },
      "cell_type": "code",
      "source": [
        "prep.prepare_demo(True)"
      ],
      "execution_count": 21,
      "outputs": [
        {
          "output_type": "stream",
          "text": [
            "Found first frame of the first lap at 140\n",
            "Processing demo video: [=================================================>]"
          ],
          "name": "stdout"
        }
      ]
    },
    {
      "metadata": {
        "id": "zLQ68ee2bhT0",
        "colab_type": "code",
        "colab": {}
      },
      "cell_type": "code",
      "source": [
        "!ls -lfh dataset/resized_frames/* | grep \" 0 \""
      ],
      "execution_count": 0,
      "outputs": []
    },
    {
      "metadata": {
        "id": "-bTA0Ntcd_7U",
        "colab_type": "code",
        "colab": {}
      },
      "cell_type": "code",
      "source": [
        "!cp dataset/saved_resized_frames/frame_9561.png dataset/resized_frames/"
      ],
      "execution_count": 0,
      "outputs": []
    },
    {
      "metadata": {
        "id": "azvKrEMvzGa3",
        "colab_type": "code",
        "colab": {}
      },
      "cell_type": "code",
      "source": [
        "np.save(\"dataset/serialized/dataset.npy\", dataset)\n",
        "!ls -lh dataset/serialized/dataset.npy"
      ],
      "execution_count": 0,
      "outputs": []
    },
    {
      "metadata": {
        "id": "CtgWETBUrHB-",
        "colab_type": "code",
        "colab": {}
      },
      "cell_type": "code",
      "source": [
        "dataset = np.load(\"dataset/serialized/dataset.npy\")\n",
        "\n",
        "print(\"Size of dataset:\", len(dataset))\n",
        "print(\"Example data:\", dataset[0])\n",
        "\n",
        "img = Image.open(\"dataset/resized_frames/frame_\" + str(dataset[0][1]) + \".png\")\n",
        "fig=plt.figure(figsize=(18, 10))\n",
        "plt.imshow(img)\n",
        "plt.axis('off')\n",
        "plt.show()"
      ],
      "execution_count": 0,
      "outputs": []
    },
    {
      "metadata": {
        "id": "DdccTB8dLopW",
        "colab_type": "code",
        "outputId": "540f25a8-8bef-4f76-d047-40de0e2a58da",
        "colab": {
          "base_uri": "https://localhost:8080/",
          "height": 295
        }
      },
      "cell_type": "code",
      "source": [
        "ax = sns.distplot(dataset[\"data\"]);\n",
        "ax.set(xlabel=\"steering angle\", ylabel=\"occurence\", title=\"Distribution of the steering angle\")\n",
        "plt.show()"
      ],
      "execution_count": 6,
      "outputs": [
        {
          "output_type": "display_data",
          "data": {
            "image/png": "[encoded data removed]",
            "text/plain": [
              "<matplotlib.figure.Figure at 0x7f963a797978>"
            ]
          },
          "metadata": {
            "tags": []
          }
        }
      ]
    },
    {
      "metadata": {
        "id": "ga9wC9sev66u",
        "colab_type": "code",
        "outputId": "15d942dd-c302-4788-fcb0-806ebea3e6f4",
        "colab": {
          "base_uri": "https://localhost:8080/",
          "height": 69
        }
      },
      "cell_type": "code",
      "source": [
        "dataset = np.load(\"dataset/serialized/dataset.npy\")\n",
        "np.random.shuffle(dataset)\n",
        "\n",
        "valid_split = 0.2\n",
        "test_split = 0.1\n",
        "framecounter = len(dataset)\n",
        "\n",
        "train = dataset[0:int(framecounter*(1-valid_split-test_split))]\n",
        "valid = dataset[int(framecounter*(1-valid_split-test_split)):int(framecounter*(1-test_split))]\n",
        "test  = dataset[int(framecounter*(1-test_split)):]\n",
        "\n",
        "print(\"Number of train samples: \", len(train))\n",
        "print(\"Example train data before minmax scaling:\", train[0])\n",
        "train_scale = train[\"data\"].reshape(-1, 1)\n",
        "valid_scale = valid[\"data\"].reshape(-1, 1)\n",
        "test_scale = test[\"data\"].reshape(-1, 1)\n",
        "\n",
        "#standard scaler\n",
        "scaler = preprocessing.MinMaxScaler().fit(train_scale)\n",
        "train[\"data\"] = scaler.transform(train_scale).reshape(1, -1)\n",
        "valid[\"data\"] = scaler.transform(valid_scale).reshape(1, -1)\n",
        "test[\"data\"] = scaler.transform(test_scale).reshape(1, -1)\n",
        "\n",
        "print(\"Example train data after minmax scaling:\", train[0])"
      ],
      "execution_count": 4,
      "outputs": [
        {
          "output_type": "stream",
          "text": [
            "Number of train samples:  7410\n",
            "Example train data before minmax scaling: (-2.6539612, 7700)\n",
            "Example train data after minmax scaling: (0.4006285, 7700)\n"
          ],
          "name": "stdout"
        }
      ]
    },
    {
      "metadata": {
        "id": "KfFmIFKSVK_p",
        "colab_type": "code",
        "colab": {}
      },
      "cell_type": "code",
      "source": [
        "# https://keras.io/utils/#sequence\n",
        "from skimage.io import imread\n",
        "class SimpleDataGenerator(keras.utils.Sequence):\n",
        "    \n",
        "    # Here, `x_set` is list of ids\n",
        "    # and `y_set` are the associated steering angles\n",
        "    \n",
        "    def __init__(self, x_set, y_set, batch_size):\n",
        "        self.x, self.y = x_set, y_set\n",
        "        self.batch_size = batch_size\n",
        "\n",
        "    def __len__(self):\n",
        "        return int(np.ceil(len(self.x) / float(self.batch_size)))\n",
        "\n",
        "    def __getitem__(self, idx):\n",
        "        batch_x = self.x[idx * self.batch_size:(idx + 1) * self.batch_size]\n",
        "        batch_y = self.y[idx * self.batch_size:(idx + 1) * self.batch_size]\n",
        "\n",
        "        \n",
        "#         images = np.array([ imread('dataset/resized_frames/frame_' + str(ID) + '.png') for ID in batch_x])\n",
        "        images = np.array([ img_to_array(load_img('dataset/resized_frames/frame_' + str(ID) + '.png'))/255.0 for ID in batch_x])\n",
        "        return images, np.array(batch_y)"
      ],
      "execution_count": 0,
      "outputs": []
    },
    {
      "metadata": {
        "id": "4GnsEnD3Aws_",
        "colab_type": "code",
        "colab": {}
      },
      "cell_type": "code",
      "source": [
        "\n",
        "# https://stanford.edu/~shervine/blog/keras-how-to-generate-data-on-the-fly\n",
        "class DataGenerator(keras.utils.Sequence):\n",
        "    \"\"\"Generates data for Keras\"\"\"\n",
        "\n",
        "    def __init__(self, dataset, dim, batch_size=10, shuffle=True):\n",
        "        \"\"\"Initialization\"\"\"\n",
        "        self.dim = dim\n",
        "        self.batch_size = batch_size\n",
        "        self.dataset = dataset\n",
        "        self.shuffle = shuffle\n",
        "        self.indexes = np.arange(len(dataset))\n",
        "        self.on_epoch_end()\n",
        "        \n",
        "\n",
        "    def __len__(self):\n",
        "        \"\"\"Denotes the number of batches per epoch\"\"\"\n",
        "        return int(np.ceil(len(self.dataset) / self.batch_size))\n",
        "\n",
        "    def __getitem__(self, index):\n",
        "        \"\"\"Generate one batch of data\"\"\"\n",
        "        # Generate indexes of the batch\n",
        "        indexes = self.indexes[index * self.batch_size:(index + 1) * self.batch_size]\n",
        "\n",
        "        ids = [self.dataset[\"frame\"][k] for k in indexes]\n",
        "        datapoints = [self.dataset[\"data\"][k] for k in indexes]\n",
        "\n",
        "        \"\"\"Generates data containing batch_size samples\"\"\"\n",
        "        # Initialization\n",
        "        \n",
        "        X = np.empty((self.batch_size, *self.dim), dtype=float)\n",
        "        Y = np.empty((self.batch_size, *(1, )), dtype=float)\n",
        "        # Generate data\n",
        "        for i, ID in enumerate(ids):\n",
        "            img = img_to_array(load_img('dataset/resized_frames/frame_' + str(ID) + '.png')) /255.0\n",
        "\n",
        "            X[i,] = img\n",
        "            Y[i,] = datapoints[i]\n",
        "\n",
        "        return X, Y\n",
        "\n",
        "    def on_epoch_end(self):\n",
        "        \"\"\"Updates indexes after each epoch\"\"\"\n",
        "        if self.shuffle:\n",
        "            np.random.shuffle(self.indexes)\n"
      ],
      "execution_count": 0,
      "outputs": []
    },
    {
      "metadata": {
        "id": "U9S-sYSGy4ea",
        "colab_type": "code",
        "colab": {}
      },
      "cell_type": "code",
      "source": [
        "# from keras import backend as K\n",
        "# from keras.utils.generic_utils import get_custom_objects\n",
        "\n",
        "# class Swish(Activation):\n",
        "    \n",
        "#     def __init__(self, activation, **kwargs):\n",
        "#         super(Swish, self).__init__(activation, **kwargs)\n",
        "#         self.__name__ = 'swish'\n",
        "\n",
        "# def swish(x):\n",
        "#     A = (K.sigmoid(x) * x)\n",
        "#     return A\n",
        "\n",
        "# get_custom_objects().update({'swish': Swish(swish)})"
      ],
      "execution_count": 0,
      "outputs": []
    },
    {
      "metadata": {
        "id": "zYhoVzkNkicU",
        "colab_type": "code",
        "colab": {}
      },
      "cell_type": "code",
      "source": [
        "#https://navoshta.com/end-to-end-deep-learning/\n",
        "\n",
        "activation=\"relu\"\n",
        "\n",
        "model = Sequential()\n",
        "model.add(Conv2D(16, (3, 3), input_shape=img_shape, activation=activation))\n",
        "# model.add(MaxPooling2D(pool_size=(2, 2)))\n",
        "model.add(BatchNormalization())\n",
        "model.add(Conv2D(32, (3, 3), activation=activation))\n",
        "# model.add(MaxPooling2D(pool_size=(2, 2)))\n",
        "model.add(BatchNormalization())\n",
        "model.add(Conv2D(64, (3, 3), activation=activation))\n",
        "# model.add(MaxPooling2D(pool_size=(2, 2)))\n",
        "model.add(BatchNormalization())\n",
        "\n",
        "model.add(Flatten())\n",
        "\n",
        "model.add(Dense(500, activation=activation))\n",
        "model.add(BatchNormalization())\n",
        "model.add(Dense(100, activation=activation))\n",
        "model.add(BatchNormalization())\n",
        "model.add(Dense(20, activation=activation))\n",
        "model.add(BatchNormalization())\n",
        "\n",
        "model.add(Dense(1, activation='sigmoid'))"
      ],
      "execution_count": 0,
      "outputs": []
    },
    {
      "metadata": {
        "id": "bFo_kBQF2zg2",
        "colab_type": "code",
        "colab": {}
      },
      "cell_type": "code",
      "source": [
        "##pilotnet\n",
        "model = Sequential()\n",
        "\n",
        "activation = \"relu\"\n",
        "\n",
        "model.add(Conv2D(24, kernel_size=(5,5), strides=(2,2), activation=activation, input_shape=img_shape))\n",
        "model.add(BatchNormalization())\n",
        "model.add(Conv2D(36, kernel_size=(5,5), strides=(2,2), activation=activation))\n",
        "model.add(BatchNormalization())\n",
        "model.add(Conv2D(48, kernel_size=(5,5), strides=(2,2), activation=activation))\n",
        "model.add(BatchNormalization())\n",
        "model.add(Conv2D(64, kernel_size=(3,3), strides=(1,1), activation=activation))\n",
        "model.add(BatchNormalization())\n",
        "model.add(Conv2D(64, kernel_size=(3,3), strides=(1,1), activation=activation))\n",
        "model.add(BatchNormalization())\n",
        "\n",
        "model.add(Flatten())\n",
        "\n",
        "model.add(Dense(100, activation=activation))\n",
        "model.add(BatchNormalization())\n",
        "model.add(Dense(50, activation=activation))\n",
        "model.add(BatchNormalization())\n",
        "model.add(Dense(10, activation=activation))\n",
        "model.add(BatchNormalization())\n",
        "\n",
        "model.add(Dense(1, activation='sigmoid'))\n"
      ],
      "execution_count": 0,
      "outputs": []
    },
    {
      "metadata": {
        "id": "WHl5QDy52jpH",
        "colab_type": "code",
        "colab": {}
      },
      "cell_type": "code",
      "source": [
        "sgd = SGD(lr=0.005, decay=1e-6, momentum=0.9, nesterov=True)\n",
        "adam = Adam(lr=0.001, beta_1=0.9, beta_2=0.999)\n",
        "model.compile(optimizer=sgd, loss=\"mse\")\n",
        "# model.summary()"
      ],
      "execution_count": 0,
      "outputs": []
    },
    {
      "metadata": {
        "id": "VkT3g8_02lCW",
        "colab_type": "code",
        "outputId": "0c6b1a90-a65d-4ed0-dbbf-3c95321667b0",
        "colab": {
          "base_uri": "https://localhost:8080/",
          "height": 1352
        }
      },
      "cell_type": "code",
      "source": [
        "training_generator = DataGenerator(train, dim=img_shape, batch_size=64)\n",
        "validation_generator = DataGenerator(valid, dim=img_shape, batch_size=64)\n",
        "\n",
        "# training_generator = SimpleDataGenerator(train[\"frame\"], train[\"data\"], batch_size=128)\n",
        "# validation_generator = SimpleDataGenerator(valid[\"frame\"], valid[\"data\"], batch_size=128)\n",
        "\n",
        "\n",
        "#setup early stopping\n",
        "es = EarlyStopping(patience=16, verbose=1, min_delta=0.001)\n",
        "\n",
        "#we are going to keep only the best model\n",
        "mcp = ModelCheckpoint(filepath='model/weights/weights.hdf5', verbose=1, save_best_only=True)\n",
        "\n",
        "# set parameters and start learning\n",
        "history = model.fit_generator(\n",
        "            generator=training_generator,\n",
        "            validation_data=validation_generator,\n",
        "            use_multiprocessing=False,\n",
        "            epochs=100, # early stopping detects the end\n",
        "            verbose=1, \n",
        "            shuffle=True,\n",
        "            callbacks=[mcp, es]\n",
        "         )\n"
      ],
      "execution_count": 8,
      "outputs": [
        {
          "output_type": "stream",
          "text": [
            "Epoch 1/100\n",
            "116/116 [==============================] - 90s 776ms/step - loss: 0.0163 - val_loss: 0.0067\n",
            "\n",
            "Epoch 00001: val_loss improved from inf to 0.00672, saving model to model/weights/weights.hdf5\n",
            "Epoch 2/100\n",
            "116/116 [==============================] - 78s 670ms/step - loss: 0.0036 - val_loss: 0.0029\n",
            "\n",
            "Epoch 00002: val_loss improved from 0.00672 to 0.00290, saving model to model/weights/weights.hdf5\n",
            "Epoch 3/100\n",
            "116/116 [==============================] - 78s 671ms/step - loss: 0.0022 - val_loss: 0.0015\n",
            "\n",
            "Epoch 00003: val_loss improved from 0.00290 to 0.00149, saving model to model/weights/weights.hdf5\n",
            "Epoch 4/100\n",
            "116/116 [==============================] - 78s 675ms/step - loss: 0.0022 - val_loss: 0.0015\n",
            "\n",
            "Epoch 00004: val_loss did not improve from 0.00149\n",
            "Epoch 5/100\n",
            "116/116 [==============================] - 77s 666ms/step - loss: 0.0016 - val_loss: 0.0012\n",
            "\n",
            "Epoch 00005: val_loss improved from 0.00149 to 0.00124, saving model to model/weights/weights.hdf5\n",
            "Epoch 6/100\n",
            "116/116 [==============================] - 79s 678ms/step - loss: 0.0015 - val_loss: 0.0011\n",
            "\n",
            "Epoch 00006: val_loss improved from 0.00124 to 0.00113, saving model to model/weights/weights.hdf5\n",
            "Epoch 7/100\n",
            "116/116 [==============================] - 77s 668ms/step - loss: 0.0013 - val_loss: 0.0010\n",
            "\n",
            "Epoch 00007: val_loss improved from 0.00113 to 0.00103, saving model to model/weights/weights.hdf5\n",
            "Epoch 8/100\n",
            "116/116 [==============================] - 79s 684ms/step - loss: 0.0012 - val_loss: 9.8953e-04\n",
            "\n",
            "Epoch 00008: val_loss improved from 0.00103 to 0.00099, saving model to model/weights/weights.hdf5\n",
            "Epoch 9/100\n",
            "116/116 [==============================] - 78s 668ms/step - loss: 0.0012 - val_loss: 9.7380e-04\n",
            "\n",
            "Epoch 00009: val_loss improved from 0.00099 to 0.00097, saving model to model/weights/weights.hdf5\n",
            "Epoch 10/100\n",
            "116/116 [==============================] - 78s 669ms/step - loss: 9.9639e-04 - val_loss: 0.0012\n",
            "\n",
            "Epoch 00010: val_loss did not improve from 0.00097\n",
            "Epoch 11/100\n",
            "116/116 [==============================] - 77s 663ms/step - loss: 9.7660e-04 - val_loss: 8.5157e-04\n",
            "\n",
            "Epoch 00011: val_loss improved from 0.00097 to 0.00085, saving model to model/weights/weights.hdf5\n",
            "Epoch 12/100\n",
            "116/116 [==============================] - 78s 669ms/step - loss: 9.6646e-04 - val_loss: 0.0011\n",
            "\n",
            "Epoch 00012: val_loss did not improve from 0.00085\n",
            "Epoch 13/100\n",
            "116/116 [==============================] - 77s 663ms/step - loss: 9.3880e-04 - val_loss: 8.1571e-04\n",
            "\n",
            "Epoch 00013: val_loss improved from 0.00085 to 0.00082, saving model to model/weights/weights.hdf5\n",
            "Epoch 14/100\n",
            "116/116 [==============================] - 78s 671ms/step - loss: 9.4575e-04 - val_loss: 7.9367e-04\n",
            "\n",
            "Epoch 00014: val_loss improved from 0.00082 to 0.00079, saving model to model/weights/weights.hdf5\n",
            "Epoch 15/100\n",
            "116/116 [==============================] - 80s 687ms/step - loss: 8.6064e-04 - val_loss: 7.8938e-04\n",
            "\n",
            "Epoch 00015: val_loss improved from 0.00079 to 0.00079, saving model to model/weights/weights.hdf5\n",
            "Epoch 16/100\n",
            "116/116 [==============================] - 78s 670ms/step - loss: 9.0825e-04 - val_loss: 9.3015e-04\n",
            "\n",
            "Epoch 00016: val_loss did not improve from 0.00079\n",
            "Epoch 17/100\n",
            "116/116 [==============================] - 76s 652ms/step - loss: nan - val_loss: nan\n",
            "\n",
            "Epoch 00017: val_loss did not improve from 0.00079\n",
            "Epoch 18/100\n",
            "116/116 [==============================] - 75s 650ms/step - loss: nan - val_loss: nan\n",
            "\n",
            "Epoch 00018: val_loss did not improve from 0.00079\n",
            "Epoch 19/100\n",
            "116/116 [==============================] - 75s 651ms/step - loss: nan - val_loss: nan\n",
            "\n",
            "Epoch 00019: val_loss did not improve from 0.00079\n",
            "Epoch 00019: early stopping\n"
          ],
          "name": "stdout"
        }
      ]
    },
    {
      "metadata": {
        "id": "rU-5pb2X42ve",
        "colab_type": "code",
        "colab": {
          "base_uri": "https://localhost:8080/",
          "height": 3271
        },
        "outputId": "78dd36f6-658b-40ee-b85b-f75d270a40e0"
      },
      "cell_type": "code",
      "source": [
        "# load back best model (early stopping + model checkpoint)\n",
        "model = load_model('model/weights/weights.hdf5')"
      ],
      "execution_count": 13,
      "outputs": [
        {
          "output_type": "error",
          "ename": "ResourceExhaustedError",
          "evalue": "ignored",
          "traceback": [
            "\u001b[0;31m---------------------------------------------------------------------------\u001b[0m",
            "\u001b[0;31mResourceExhaustedError\u001b[0m                    Traceback (most recent call last)",
            "\u001b[0;32m/usr/local/lib/python3.6/dist-packages/tensorflow/python/client/session.py\u001b[0m in \u001b[0;36m_do_call\u001b[0;34m(self, fn, *args)\u001b[0m\n\u001b[1;32m   1333\u001b[0m     \u001b[0;32mtry\u001b[0m\u001b[0;34m:\u001b[0m\u001b[0;34m\u001b[0m\u001b[0;34m\u001b[0m\u001b[0m\n\u001b[0;32m-> 1334\u001b[0;31m       \u001b[0;32mreturn\u001b[0m \u001b[0mfn\u001b[0m\u001b[0;34m(\u001b[0m\u001b[0;34m*\u001b[0m\u001b[0margs\u001b[0m\u001b[0;34m)\u001b[0m\u001b[0;34m\u001b[0m\u001b[0;34m\u001b[0m\u001b[0m\n\u001b[0m\u001b[1;32m   1335\u001b[0m     \u001b[0;32mexcept\u001b[0m \u001b[0merrors\u001b[0m\u001b[0;34m.\u001b[0m\u001b[0mOpError\u001b[0m \u001b[0;32mas\u001b[0m \u001b[0me\u001b[0m\u001b[0;34m:\u001b[0m\u001b[0;34m\u001b[0m\u001b[0;34m\u001b[0m\u001b[0m\n",
            "\u001b[0;32m/usr/local/lib/python3.6/dist-packages/tensorflow/python/client/session.py\u001b[0m in \u001b[0;36m_run_fn\u001b[0;34m(feed_dict, fetch_list, target_list, options, run_metadata)\u001b[0m\n\u001b[1;32m   1318\u001b[0m       return self._call_tf_sessionrun(\n\u001b[0;32m-> 1319\u001b[0;31m           options, feed_dict, fetch_list, target_list, run_metadata)\n\u001b[0m\u001b[1;32m   1320\u001b[0m \u001b[0;34m\u001b[0m\u001b[0m\n",
            "\u001b[0;32m/usr/local/lib/python3.6/dist-packages/tensorflow/python/client/session.py\u001b[0m in \u001b[0;36m_call_tf_sessionrun\u001b[0;34m(self, options, feed_dict, fetch_list, target_list, run_metadata)\u001b[0m\n\u001b[1;32m   1406\u001b[0m         \u001b[0mself\u001b[0m\u001b[0;34m.\u001b[0m\u001b[0m_session\u001b[0m\u001b[0;34m,\u001b[0m \u001b[0moptions\u001b[0m\u001b[0;34m,\u001b[0m \u001b[0mfeed_dict\u001b[0m\u001b[0;34m,\u001b[0m \u001b[0mfetch_list\u001b[0m\u001b[0;34m,\u001b[0m \u001b[0mtarget_list\u001b[0m\u001b[0;34m,\u001b[0m\u001b[0;34m\u001b[0m\u001b[0;34m\u001b[0m\u001b[0m\n\u001b[0;32m-> 1407\u001b[0;31m         run_metadata)\n\u001b[0m\u001b[1;32m   1408\u001b[0m \u001b[0;34m\u001b[0m\u001b[0m\n",
            "\u001b[0;31mResourceExhaustedError\u001b[0m: OOM when allocating tensor with shape[831872,500] and type float on /job:localhost/replica:0/task:0/device:GPU:0 by allocator GPU_0_bfc\n\t [[{{node training_1/SGD/Variable_12/Assign}} = Assign[T=DT_FLOAT, _grappler_relax_allocator_constraints=true, use_locking=true, validate_shape=true, _device=\"/job:localhost/replica:0/task:0/device:GPU:0\"](training_1/SGD/Variable_12, training_1/SGD/zeros_12)]]\nHint: If you want to see a list of allocated tensors when OOM happens, add report_tensor_allocations_upon_oom to RunOptions for current allocation info.\n",
            "\nDuring handling of the above exception, another exception occurred:\n",
            "\u001b[0;31mResourceExhaustedError\u001b[0m                    Traceback (most recent call last)",
            "\u001b[0;32m<ipython-input-13-d0c7294a807f>\u001b[0m in \u001b[0;36m<module>\u001b[0;34m()\u001b[0m\n\u001b[0;32m----> 1\u001b[0;31m \u001b[0mmodel\u001b[0m \u001b[0;34m=\u001b[0m \u001b[0mload_model\u001b[0m\u001b[0;34m(\u001b[0m\u001b[0;34m'model/weights/weights.hdf5'\u001b[0m\u001b[0;34m)\u001b[0m\u001b[0;34m\u001b[0m\u001b[0;34m\u001b[0m\u001b[0m\n\u001b[0m",
            "\u001b[0;32m/usr/local/lib/python3.6/dist-packages/keras/engine/saving.py\u001b[0m in \u001b[0;36mload_model\u001b[0;34m(filepath, custom_objects, compile)\u001b[0m\n\u001b[1;32m    417\u001b[0m     \u001b[0mf\u001b[0m \u001b[0;34m=\u001b[0m \u001b[0mh5dict\u001b[0m\u001b[0;34m(\u001b[0m\u001b[0mfilepath\u001b[0m\u001b[0;34m,\u001b[0m \u001b[0;34m'r'\u001b[0m\u001b[0;34m)\u001b[0m\u001b[0;34m\u001b[0m\u001b[0;34m\u001b[0m\u001b[0m\n\u001b[1;32m    418\u001b[0m     \u001b[0;32mtry\u001b[0m\u001b[0;34m:\u001b[0m\u001b[0;34m\u001b[0m\u001b[0;34m\u001b[0m\u001b[0m\n\u001b[0;32m--> 419\u001b[0;31m         \u001b[0mmodel\u001b[0m \u001b[0;34m=\u001b[0m \u001b[0m_deserialize_model\u001b[0m\u001b[0;34m(\u001b[0m\u001b[0mf\u001b[0m\u001b[0;34m,\u001b[0m \u001b[0mcustom_objects\u001b[0m\u001b[0;34m,\u001b[0m \u001b[0mcompile\u001b[0m\u001b[0;34m)\u001b[0m\u001b[0;34m\u001b[0m\u001b[0;34m\u001b[0m\u001b[0m\n\u001b[0m\u001b[1;32m    420\u001b[0m     \u001b[0;32mfinally\u001b[0m\u001b[0;34m:\u001b[0m\u001b[0;34m\u001b[0m\u001b[0;34m\u001b[0m\u001b[0m\n\u001b[1;32m    421\u001b[0m         \u001b[0;32mif\u001b[0m \u001b[0mopened_new_file\u001b[0m\u001b[0;34m:\u001b[0m\u001b[0;34m\u001b[0m\u001b[0;34m\u001b[0m\u001b[0m\n",
            "\u001b[0;32m/usr/local/lib/python3.6/dist-packages/keras/engine/saving.py\u001b[0m in \u001b[0;36m_deserialize_model\u001b[0;34m(f, custom_objects, compile)\u001b[0m\n\u001b[1;32m    323\u001b[0m                                        optimizer_weight_names]\n\u001b[1;32m    324\u001b[0m             \u001b[0;32mtry\u001b[0m\u001b[0;34m:\u001b[0m\u001b[0;34m\u001b[0m\u001b[0;34m\u001b[0m\u001b[0m\n\u001b[0;32m--> 325\u001b[0;31m                 \u001b[0mmodel\u001b[0m\u001b[0;34m.\u001b[0m\u001b[0moptimizer\u001b[0m\u001b[0;34m.\u001b[0m\u001b[0mset_weights\u001b[0m\u001b[0;34m(\u001b[0m\u001b[0moptimizer_weight_values\u001b[0m\u001b[0;34m)\u001b[0m\u001b[0;34m\u001b[0m\u001b[0;34m\u001b[0m\u001b[0m\n\u001b[0m\u001b[1;32m    326\u001b[0m             \u001b[0;32mexcept\u001b[0m \u001b[0mValueError\u001b[0m\u001b[0;34m:\u001b[0m\u001b[0;34m\u001b[0m\u001b[0;34m\u001b[0m\u001b[0m\n\u001b[1;32m    327\u001b[0m                 warnings.warn('Error in loading the saved optimizer '\n",
            "\u001b[0;32m/usr/local/lib/python3.6/dist-packages/keras/optimizers.py\u001b[0m in \u001b[0;36mset_weights\u001b[0;34m(self, weights)\u001b[0m\n\u001b[1;32m    124\u001b[0m                              'of the optimizer (' + str(len(params)) + ')')\n\u001b[1;32m    125\u001b[0m         \u001b[0mweight_value_tuples\u001b[0m \u001b[0;34m=\u001b[0m \u001b[0;34m[\u001b[0m\u001b[0;34m]\u001b[0m\u001b[0;34m\u001b[0m\u001b[0;34m\u001b[0m\u001b[0m\n\u001b[0;32m--> 126\u001b[0;31m         \u001b[0mparam_values\u001b[0m \u001b[0;34m=\u001b[0m \u001b[0mK\u001b[0m\u001b[0;34m.\u001b[0m\u001b[0mbatch_get_value\u001b[0m\u001b[0;34m(\u001b[0m\u001b[0mparams\u001b[0m\u001b[0;34m)\u001b[0m\u001b[0;34m\u001b[0m\u001b[0;34m\u001b[0m\u001b[0m\n\u001b[0m\u001b[1;32m    127\u001b[0m         \u001b[0;32mfor\u001b[0m \u001b[0mpv\u001b[0m\u001b[0;34m,\u001b[0m \u001b[0mp\u001b[0m\u001b[0;34m,\u001b[0m \u001b[0mw\u001b[0m \u001b[0;32min\u001b[0m \u001b[0mzip\u001b[0m\u001b[0;34m(\u001b[0m\u001b[0mparam_values\u001b[0m\u001b[0;34m,\u001b[0m \u001b[0mparams\u001b[0m\u001b[0;34m,\u001b[0m \u001b[0mweights\u001b[0m\u001b[0;34m)\u001b[0m\u001b[0;34m:\u001b[0m\u001b[0;34m\u001b[0m\u001b[0;34m\u001b[0m\u001b[0m\n\u001b[1;32m    128\u001b[0m             \u001b[0;32mif\u001b[0m \u001b[0mpv\u001b[0m\u001b[0;34m.\u001b[0m\u001b[0mshape\u001b[0m \u001b[0;34m!=\u001b[0m \u001b[0mw\u001b[0m\u001b[0;34m.\u001b[0m\u001b[0mshape\u001b[0m\u001b[0;34m:\u001b[0m\u001b[0;34m\u001b[0m\u001b[0;34m\u001b[0m\u001b[0m\n",
            "\u001b[0;32m/usr/local/lib/python3.6/dist-packages/keras/backend/tensorflow_backend.py\u001b[0m in \u001b[0;36mbatch_get_value\u001b[0;34m(ops)\u001b[0m\n\u001b[1;32m   2418\u001b[0m     \"\"\"\n\u001b[1;32m   2419\u001b[0m     \u001b[0;32mif\u001b[0m \u001b[0mops\u001b[0m\u001b[0;34m:\u001b[0m\u001b[0;34m\u001b[0m\u001b[0;34m\u001b[0m\u001b[0m\n\u001b[0;32m-> 2420\u001b[0;31m         \u001b[0;32mreturn\u001b[0m \u001b[0mget_session\u001b[0m\u001b[0;34m(\u001b[0m\u001b[0;34m)\u001b[0m\u001b[0;34m.\u001b[0m\u001b[0mrun\u001b[0m\u001b[0;34m(\u001b[0m\u001b[0mops\u001b[0m\u001b[0;34m)\u001b[0m\u001b[0;34m\u001b[0m\u001b[0;34m\u001b[0m\u001b[0m\n\u001b[0m\u001b[1;32m   2421\u001b[0m     \u001b[0;32melse\u001b[0m\u001b[0;34m:\u001b[0m\u001b[0;34m\u001b[0m\u001b[0;34m\u001b[0m\u001b[0m\n\u001b[1;32m   2422\u001b[0m         \u001b[0;32mreturn\u001b[0m \u001b[0;34m[\u001b[0m\u001b[0;34m]\u001b[0m\u001b[0;34m\u001b[0m\u001b[0;34m\u001b[0m\u001b[0m\n",
            "\u001b[0;32m/usr/local/lib/python3.6/dist-packages/keras/backend/tensorflow_backend.py\u001b[0m in \u001b[0;36mget_session\u001b[0;34m()\u001b[0m\n\u001b[1;32m    204\u001b[0m                     \u001b[0mv\u001b[0m\u001b[0;34m.\u001b[0m\u001b[0m_keras_initialized\u001b[0m \u001b[0;34m=\u001b[0m \u001b[0;32mTrue\u001b[0m\u001b[0;34m\u001b[0m\u001b[0;34m\u001b[0m\u001b[0m\n\u001b[1;32m    205\u001b[0m                 \u001b[0;32mif\u001b[0m \u001b[0muninitialized_vars\u001b[0m\u001b[0;34m:\u001b[0m\u001b[0;34m\u001b[0m\u001b[0;34m\u001b[0m\u001b[0m\n\u001b[0;32m--> 206\u001b[0;31m                     \u001b[0msession\u001b[0m\u001b[0;34m.\u001b[0m\u001b[0mrun\u001b[0m\u001b[0;34m(\u001b[0m\u001b[0mtf\u001b[0m\u001b[0;34m.\u001b[0m\u001b[0mvariables_initializer\u001b[0m\u001b[0;34m(\u001b[0m\u001b[0muninitialized_vars\u001b[0m\u001b[0;34m)\u001b[0m\u001b[0;34m)\u001b[0m\u001b[0;34m\u001b[0m\u001b[0;34m\u001b[0m\u001b[0m\n\u001b[0m\u001b[1;32m    207\u001b[0m     \u001b[0;31m# hack for list_devices() function.\u001b[0m\u001b[0;34m\u001b[0m\u001b[0;34m\u001b[0m\u001b[0;34m\u001b[0m\u001b[0m\n\u001b[1;32m    208\u001b[0m     \u001b[0;31m# list_devices() function is not available under tensorflow r1.3.\u001b[0m\u001b[0;34m\u001b[0m\u001b[0;34m\u001b[0m\u001b[0;34m\u001b[0m\u001b[0m\n",
            "\u001b[0;32m/usr/local/lib/python3.6/dist-packages/tensorflow/python/client/session.py\u001b[0m in \u001b[0;36mrun\u001b[0;34m(self, fetches, feed_dict, options, run_metadata)\u001b[0m\n\u001b[1;32m    927\u001b[0m     \u001b[0;32mtry\u001b[0m\u001b[0;34m:\u001b[0m\u001b[0;34m\u001b[0m\u001b[0;34m\u001b[0m\u001b[0m\n\u001b[1;32m    928\u001b[0m       result = self._run(None, fetches, feed_dict, options_ptr,\n\u001b[0;32m--> 929\u001b[0;31m                          run_metadata_ptr)\n\u001b[0m\u001b[1;32m    930\u001b[0m       \u001b[0;32mif\u001b[0m \u001b[0mrun_metadata\u001b[0m\u001b[0;34m:\u001b[0m\u001b[0;34m\u001b[0m\u001b[0;34m\u001b[0m\u001b[0m\n\u001b[1;32m    931\u001b[0m         \u001b[0mproto_data\u001b[0m \u001b[0;34m=\u001b[0m \u001b[0mtf_session\u001b[0m\u001b[0;34m.\u001b[0m\u001b[0mTF_GetBuffer\u001b[0m\u001b[0;34m(\u001b[0m\u001b[0mrun_metadata_ptr\u001b[0m\u001b[0;34m)\u001b[0m\u001b[0;34m\u001b[0m\u001b[0;34m\u001b[0m\u001b[0m\n",
            "\u001b[0;32m/usr/local/lib/python3.6/dist-packages/tensorflow/python/client/session.py\u001b[0m in \u001b[0;36m_run\u001b[0;34m(self, handle, fetches, feed_dict, options, run_metadata)\u001b[0m\n\u001b[1;32m   1150\u001b[0m     \u001b[0;32mif\u001b[0m \u001b[0mfinal_fetches\u001b[0m \u001b[0;32mor\u001b[0m \u001b[0mfinal_targets\u001b[0m \u001b[0;32mor\u001b[0m \u001b[0;34m(\u001b[0m\u001b[0mhandle\u001b[0m \u001b[0;32mand\u001b[0m \u001b[0mfeed_dict_tensor\u001b[0m\u001b[0;34m)\u001b[0m\u001b[0;34m:\u001b[0m\u001b[0;34m\u001b[0m\u001b[0;34m\u001b[0m\u001b[0m\n\u001b[1;32m   1151\u001b[0m       results = self._do_run(handle, final_targets, final_fetches,\n\u001b[0;32m-> 1152\u001b[0;31m                              feed_dict_tensor, options, run_metadata)\n\u001b[0m\u001b[1;32m   1153\u001b[0m     \u001b[0;32melse\u001b[0m\u001b[0;34m:\u001b[0m\u001b[0;34m\u001b[0m\u001b[0;34m\u001b[0m\u001b[0m\n\u001b[1;32m   1154\u001b[0m       \u001b[0mresults\u001b[0m \u001b[0;34m=\u001b[0m \u001b[0;34m[\u001b[0m\u001b[0;34m]\u001b[0m\u001b[0;34m\u001b[0m\u001b[0;34m\u001b[0m\u001b[0m\n",
            "\u001b[0;32m/usr/local/lib/python3.6/dist-packages/tensorflow/python/client/session.py\u001b[0m in \u001b[0;36m_do_run\u001b[0;34m(self, handle, target_list, fetch_list, feed_dict, options, run_metadata)\u001b[0m\n\u001b[1;32m   1326\u001b[0m     \u001b[0;32mif\u001b[0m \u001b[0mhandle\u001b[0m \u001b[0;32mis\u001b[0m \u001b[0;32mNone\u001b[0m\u001b[0;34m:\u001b[0m\u001b[0;34m\u001b[0m\u001b[0;34m\u001b[0m\u001b[0m\n\u001b[1;32m   1327\u001b[0m       return self._do_call(_run_fn, feeds, fetches, targets, options,\n\u001b[0;32m-> 1328\u001b[0;31m                            run_metadata)\n\u001b[0m\u001b[1;32m   1329\u001b[0m     \u001b[0;32melse\u001b[0m\u001b[0;34m:\u001b[0m\u001b[0;34m\u001b[0m\u001b[0;34m\u001b[0m\u001b[0m\n\u001b[1;32m   1330\u001b[0m       \u001b[0;32mreturn\u001b[0m \u001b[0mself\u001b[0m\u001b[0;34m.\u001b[0m\u001b[0m_do_call\u001b[0m\u001b[0;34m(\u001b[0m\u001b[0m_prun_fn\u001b[0m\u001b[0;34m,\u001b[0m \u001b[0mhandle\u001b[0m\u001b[0;34m,\u001b[0m \u001b[0mfeeds\u001b[0m\u001b[0;34m,\u001b[0m \u001b[0mfetches\u001b[0m\u001b[0;34m)\u001b[0m\u001b[0;34m\u001b[0m\u001b[0;34m\u001b[0m\u001b[0m\n",
            "\u001b[0;32m/usr/local/lib/python3.6/dist-packages/tensorflow/python/client/session.py\u001b[0m in \u001b[0;36m_do_call\u001b[0;34m(self, fn, *args)\u001b[0m\n\u001b[1;32m   1346\u001b[0m           \u001b[0;32mpass\u001b[0m\u001b[0;34m\u001b[0m\u001b[0;34m\u001b[0m\u001b[0m\n\u001b[1;32m   1347\u001b[0m       \u001b[0mmessage\u001b[0m \u001b[0;34m=\u001b[0m \u001b[0merror_interpolation\u001b[0m\u001b[0;34m.\u001b[0m\u001b[0minterpolate\u001b[0m\u001b[0;34m(\u001b[0m\u001b[0mmessage\u001b[0m\u001b[0;34m,\u001b[0m \u001b[0mself\u001b[0m\u001b[0;34m.\u001b[0m\u001b[0m_graph\u001b[0m\u001b[0;34m)\u001b[0m\u001b[0;34m\u001b[0m\u001b[0;34m\u001b[0m\u001b[0m\n\u001b[0;32m-> 1348\u001b[0;31m       \u001b[0;32mraise\u001b[0m \u001b[0mtype\u001b[0m\u001b[0;34m(\u001b[0m\u001b[0me\u001b[0m\u001b[0;34m)\u001b[0m\u001b[0;34m(\u001b[0m\u001b[0mnode_def\u001b[0m\u001b[0;34m,\u001b[0m \u001b[0mop\u001b[0m\u001b[0;34m,\u001b[0m \u001b[0mmessage\u001b[0m\u001b[0;34m)\u001b[0m\u001b[0;34m\u001b[0m\u001b[0;34m\u001b[0m\u001b[0m\n\u001b[0m\u001b[1;32m   1349\u001b[0m \u001b[0;34m\u001b[0m\u001b[0m\n\u001b[1;32m   1350\u001b[0m   \u001b[0;32mdef\u001b[0m \u001b[0m_extend_graph\u001b[0m\u001b[0;34m(\u001b[0m\u001b[0mself\u001b[0m\u001b[0;34m)\u001b[0m\u001b[0;34m:\u001b[0m\u001b[0;34m\u001b[0m\u001b[0;34m\u001b[0m\u001b[0m\n",
            "\u001b[0;31mResourceExhaustedError\u001b[0m: OOM when allocating tensor with shape[831872,500] and type float on /job:localhost/replica:0/task:0/device:GPU:0 by allocator GPU_0_bfc\n\t [[node training_1/SGD/Variable_12/Assign (defined at /usr/local/lib/python3.6/dist-packages/keras/backend/tensorflow_backend.py:402)  = Assign[T=DT_FLOAT, _grappler_relax_allocator_constraints=true, use_locking=true, validate_shape=true, _device=\"/job:localhost/replica:0/task:0/device:GPU:0\"](training_1/SGD/Variable_12, training_1/SGD/zeros_12)]]\nHint: If you want to see a list of allocated tensors when OOM happens, add report_tensor_allocations_upon_oom to RunOptions for current allocation info.\n\n\nCaused by op 'training_1/SGD/Variable_12/Assign', defined at:\n  File \"/usr/lib/python3.6/runpy.py\", line 193, in _run_module_as_main\n    \"__main__\", mod_spec)\n  File \"/usr/lib/python3.6/runpy.py\", line 85, in _run_code\n    exec(code, run_globals)\n  File \"/usr/local/lib/python3.6/dist-packages/ipykernel_launcher.py\", line 16, in <module>\n    app.launch_new_instance()\n  File \"/usr/local/lib/python3.6/dist-packages/traitlets/config/application.py\", line 658, in launch_instance\n    app.start()\n  File \"/usr/local/lib/python3.6/dist-packages/ipykernel/kernelapp.py\", line 477, in start\n    ioloop.IOLoop.instance().start()\n  File \"/usr/local/lib/python3.6/dist-packages/tornado/ioloop.py\", line 888, in start\n    handler_func(fd_obj, events)\n  File \"/usr/local/lib/python3.6/dist-packages/tornado/stack_context.py\", line 277, in null_wrapper\n    return fn(*args, **kwargs)\n  File \"/usr/local/lib/python3.6/dist-packages/zmq/eventloop/zmqstream.py\", line 450, in _handle_events\n    self._handle_recv()\n  File \"/usr/local/lib/python3.6/dist-packages/zmq/eventloop/zmqstream.py\", line 480, in _handle_recv\n    self._run_callback(callback, msg)\n  File \"/usr/local/lib/python3.6/dist-packages/zmq/eventloop/zmqstream.py\", line 432, in _run_callback\n    callback(*args, **kwargs)\n  File \"/usr/local/lib/python3.6/dist-packages/tornado/stack_context.py\", line 277, in null_wrapper\n    return fn(*args, **kwargs)\n  File \"/usr/local/lib/python3.6/dist-packages/ipykernel/kernelbase.py\", line 283, in dispatcher\n    return self.dispatch_shell(stream, msg)\n  File \"/usr/local/lib/python3.6/dist-packages/ipykernel/kernelbase.py\", line 235, in dispatch_shell\n    handler(stream, idents, msg)\n  File \"/usr/local/lib/python3.6/dist-packages/ipykernel/kernelbase.py\", line 399, in execute_request\n    user_expressions, allow_stdin)\n  File \"/usr/local/lib/python3.6/dist-packages/ipykernel/ipkernel.py\", line 196, in do_execute\n    res = shell.run_cell(code, store_history=store_history, silent=silent)\n  File \"/usr/local/lib/python3.6/dist-packages/ipykernel/zmqshell.py\", line 533, in run_cell\n    return super(ZMQInteractiveShell, self).run_cell(*args, **kwargs)\n  File \"/usr/local/lib/python3.6/dist-packages/IPython/core/interactiveshell.py\", line 2718, in run_cell\n    interactivity=interactivity, compiler=compiler, result=result)\n  File \"/usr/local/lib/python3.6/dist-packages/IPython/core/interactiveshell.py\", line 2822, in run_ast_nodes\n    if self.run_code(code, result):\n  File \"/usr/local/lib/python3.6/dist-packages/IPython/core/interactiveshell.py\", line 2882, in run_code\n    exec(code_obj, self.user_global_ns, self.user_ns)\n  File \"<ipython-input-13-d0c7294a807f>\", line 1, in <module>\n    model = load_model('model/weights/weights.hdf5')\n  File \"/usr/local/lib/python3.6/dist-packages/keras/engine/saving.py\", line 419, in load_model\n    model = _deserialize_model(f, custom_objects, compile)\n  File \"/usr/local/lib/python3.6/dist-packages/keras/engine/saving.py\", line 317, in _deserialize_model\n    model._make_train_function()\n  File \"/usr/local/lib/python3.6/dist-packages/keras/engine/training.py\", line 509, in _make_train_function\n    loss=self.total_loss)\n  File \"/usr/local/lib/python3.6/dist-packages/keras/legacy/interfaces.py\", line 91, in wrapper\n    return func(*args, **kwargs)\n  File \"/usr/local/lib/python3.6/dist-packages/keras/optimizers.py\", line 193, in get_updates\n    moments = [K.zeros(shape) for shape in shapes]\n  File \"/usr/local/lib/python3.6/dist-packages/keras/optimizers.py\", line 193, in <listcomp>\n    moments = [K.zeros(shape) for shape in shapes]\n  File \"/usr/local/lib/python3.6/dist-packages/keras/backend/tensorflow_backend.py\", line 704, in zeros\n    return variable(v, dtype=dtype, name=name)\n  File \"/usr/local/lib/python3.6/dist-packages/keras/backend/tensorflow_backend.py\", line 402, in variable\n    v = tf.Variable(value, dtype=tf.as_dtype(dtype), name=name)\n  File \"/usr/local/lib/python3.6/dist-packages/tensorflow/python/ops/variables.py\", line 183, in __call__\n    return cls._variable_v1_call(*args, **kwargs)\n  File \"/usr/local/lib/python3.6/dist-packages/tensorflow/python/ops/variables.py\", line 146, in _variable_v1_call\n    aggregation=aggregation)\n  File \"/usr/local/lib/python3.6/dist-packages/tensorflow/python/ops/variables.py\", line 125, in <lambda>\n    previous_getter = lambda **kwargs: default_variable_creator(None, **kwargs)\n  File \"/usr/local/lib/python3.6/dist-packages/tensorflow/python/ops/variable_scope.py\", line 2444, in default_variable_creator\n    expected_shape=expected_shape, import_scope=import_scope)\n  File \"/usr/local/lib/python3.6/dist-packages/tensorflow/python/ops/variables.py\", line 187, in __call__\n    return super(VariableMetaclass, cls).__call__(*args, **kwargs)\n  File \"/usr/local/lib/python3.6/dist-packages/tensorflow/python/ops/variables.py\", line 1329, in __init__\n    constraint=constraint)\n  File \"/usr/local/lib/python3.6/dist-packages/tensorflow/python/ops/variables.py\", line 1481, in _init_from_args\n    validate_shape=validate_shape).op\n  File \"/usr/local/lib/python3.6/dist-packages/tensorflow/python/ops/state_ops.py\", line 221, in assign\n    validate_shape=validate_shape)\n  File \"/usr/local/lib/python3.6/dist-packages/tensorflow/python/ops/gen_state_ops.py\", line 61, in assign\n    use_locking=use_locking, name=name)\n  File \"/usr/local/lib/python3.6/dist-packages/tensorflow/python/framework/op_def_library.py\", line 787, in _apply_op_helper\n    op_def=op_def)\n  File \"/usr/local/lib/python3.6/dist-packages/tensorflow/python/util/deprecation.py\", line 488, in new_func\n    return func(*args, **kwargs)\n  File \"/usr/local/lib/python3.6/dist-packages/tensorflow/python/framework/ops.py\", line 3274, in create_op\n    op_def=op_def)\n  File \"/usr/local/lib/python3.6/dist-packages/tensorflow/python/framework/ops.py\", line 1770, in __init__\n    self._traceback = tf_stack.extract_stack()\n\nResourceExhaustedError (see above for traceback): OOM when allocating tensor with shape[831872,500] and type float on /job:localhost/replica:0/task:0/device:GPU:0 by allocator GPU_0_bfc\n\t [[node training_1/SGD/Variable_12/Assign (defined at /usr/local/lib/python3.6/dist-packages/keras/backend/tensorflow_backend.py:402)  = Assign[T=DT_FLOAT, _grappler_relax_allocator_constraints=true, use_locking=true, validate_shape=true, _device=\"/job:localhost/replica:0/task:0/device:GPU:0\"](training_1/SGD/Variable_12, training_1/SGD/zeros_12)]]\nHint: If you want to see a list of allocated tensors when OOM happens, add report_tensor_allocations_upon_oom to RunOptions for current allocation info.\n\n"
          ]
        }
      ]
    },
    {
      "metadata": {
        "id": "K4Hj0C6dQXfT",
        "colab_type": "code",
        "colab": {
          "base_uri": "https://localhost:8080/",
          "height": 104
        },
        "outputId": "e3c23479-b554-4be2-ec81-4d92551c4c21"
      },
      "cell_type": "code",
      "source": [
        "!ls -la model/weights"
      ],
      "execution_count": 12,
      "outputs": [
        {
          "output_type": "stream",
          "text": [
            "total 3334926\n",
            "-rw------- 1 root root    3038424 Jan 10 13:05 pilotnet_relu_sigmoid.hdf5\n",
            "-rw------- 1 root root   41870704 Jan 10 12:05 small_relu_linear.hdf5\n",
            "-rw------- 1 root root   41870712 Jan 10 10:55 small_relu_sigmoid.hdf5\n",
            "-rw------- 1 root root 3328183552 Jan 10 15:48 weights.hdf5\n"
          ],
          "name": "stdout"
        }
      ]
    },
    {
      "metadata": {
        "id": "RJUjv7Fe2MH0",
        "colab_type": "code",
        "colab": {}
      },
      "cell_type": "code",
      "source": [
        "!cp model/weights/weights.hdf5 model/weights/pilotnet_relu_sigmoid.hdf5"
      ],
      "execution_count": 0,
      "outputs": []
    },
    {
      "metadata": {
        "id": "8fJVlAv7NObW",
        "colab_type": "code",
        "colab": {}
      },
      "cell_type": "code",
      "source": [
        "def plot_history(network_history):\n",
        "    \n",
        "    #set pltting attributes\n",
        "    #loss-epochs\n",
        "    plt.figure()\n",
        "    plt.xlabel('Epochs')\n",
        "    plt.ylabel('Loss')\n",
        "    plt.plot(network_history.history['loss'])\n",
        "    plt.plot(network_history.history['val_loss'])\n",
        "    plt.legend(['Training', 'Validation'])\n",
        "\n",
        "    #accuracy-epochs\n",
        "#     plt.figure()\n",
        "#     plt.xlabel('Epochs')\n",
        "#     plt.ylabel('Accuracy')\n",
        "#     plt.plot(network_history.history['acc'])\n",
        "#     plt.plot(network_history.history['val_acc'])\n",
        "#     plt.legend(['Training', 'Validation'])\n",
        "    \n",
        "    plt.show()"
      ],
      "execution_count": 0,
      "outputs": []
    },
    {
      "metadata": {
        "id": "Vaoh4BujNPdR",
        "colab_type": "code",
        "outputId": "cf713982-de11-4805-b05f-5027cc9974c2",
        "colab": {
          "base_uri": "https://localhost:8080/",
          "height": 297
        }
      },
      "cell_type": "code",
      "source": [
        "#plot learning history\n",
        "plot_history(history)\n",
        "\n",
        "# Final evaluation of the model\n",
        "test_generator = DataGenerator(test, dim=img_shape, batch_size=16)\n",
        "scores = model.evaluate_generator(test_generator, verbose=0)\n",
        "print(\"Test loss: \", scores)\n",
        "# print(\"Test accuracy: %.2f%%\" % (scores[2]*100))"
      ],
      "execution_count": 10,
      "outputs": [
        {
          "output_type": "display_data",
          "data": {
            "image/png": "[encoded data removed]",
            "text/plain": [
              "<matplotlib.figure.Figure at 0x7f48002dc4a8>"
            ]
          },
          "metadata": {
            "tags": []
          }
        },
        {
          "output_type": "stream",
          "text": [
            "Test loss:  nan\n"
          ],
          "name": "stdout"
        }
      ]
    },
    {
      "metadata": {
        "id": "Wc0sI6LiiF8b",
        "colab_type": "code",
        "outputId": "e26236be-6cc2-4059-e371-6b52f4ee1dd6",
        "colab": {
          "base_uri": "https://localhost:8080/",
          "height": 297
        }
      },
      "cell_type": "code",
      "source": [
        "test_dataset = np.load(\"dataset/serialized/dataset.npy\")\n",
        "\n",
        "nb_predictions = 400\n",
        "start = random.randint(1,len(test_dataset) - 401)\n",
        "print(start)\n",
        "predictions = []\n",
        "\n",
        "for i in range(start, start+nb_predictions):\n",
        "    img = np.array(img_to_array(load_img('dataset/resized_frames/frame_' + str(i) + '.png'))/255.0, copy=False, ndmin=4)\n",
        "    predictions.append(scaler.inverse_transform(model.predict(img))[0][0])\n",
        "    \n",
        "plt.xlabel('frames')\n",
        "plt.ylabel('steering angle')\n",
        "plt.plot(predictions)\n",
        "plt.plot(test_dataset[\"data\"][start:start+nb_predictions])\n",
        "plt.legend(['Prediction', 'Ground truth'])\n",
        "plt.xticks(np.arange(0, nb_predictions, 50))\n",
        "plt.show()"
      ],
      "execution_count": 38,
      "outputs": [
        {
          "output_type": "stream",
          "text": [
            "3999\n"
          ],
          "name": "stdout"
        },
        {
          "output_type": "display_data",
          "data": {
            "image/png": "[encoded data removed]",
            "text/plain": [
              "<matplotlib.figure.Figure at 0x7f3d22e010b8>"
            ]
          },
          "metadata": {
            "tags": []
          }
        }
      ]
    },
    {
      "metadata": {
        "id": "4xXT969ajGpj",
        "colab_type": "code",
        "colab": {
          "base_uri": "https://localhost:8080/",
          "height": 297
        },
        "outputId": "628246da-1748-41ac-8b01-6fe8e779721b"
      },
      "cell_type": "code",
      "source": [
        "predictions = []\n",
        "truth = []\n",
        "\n",
        "metafile = open(\"dataset/metainfos/demo.txt\")\n",
        "counter = 0\n",
        "\n",
        "# output = os.popen(\"ls dataset/demo_frames | wc -l\").read()\n",
        "# videolength = int(output.replace(\"\\n\", \"\"))\n",
        "\n",
        "videolength = 550\n",
        "\n",
        "for i in range(videolength):\n",
        "    values = metafile.readline().split(\";\")\n",
        "    if len(values) < 2:\n",
        "        break\n",
        "\n",
        "    truth.append(float(values[0]))\n",
        "    \n",
        "    img = np.array(img_to_array(load_img('dataset/demo_frames/frame_' + str(i) + '.png'))/255.0, copy=False, ndmin=4)\n",
        "    predictions.append(scaler.inverse_transform(model.predict(img))[0][0])\n",
        "    \n",
        "    counter += 1\n",
        "    \n",
        "    \n",
        "    cnt = int(counter/videolength*50)\n",
        "    sys.stdout.write('\\r'+ \"Calculating predictions on demo video: [\" + \"=\"*cnt + \">\" + \" \"*(50-cnt-1) + \"]\")\n",
        "\n",
        "\n",
        "metafile.close()\n",
        "\n",
        "    \n",
        "plt.xlabel('frames')\n",
        "plt.ylabel('steering angle')\n",
        "plt.plot(predictions)\n",
        "plt.plot(truth)\n",
        "plt.legend(['Prediction', 'Ground truth'])\n",
        "plt.show()"
      ],
      "execution_count": 11,
      "outputs": [
        {
          "output_type": "stream",
          "text": [
            "Calculating predictions on demo video: [==================================================>]"
          ],
          "name": "stdout"
        },
        {
          "output_type": "display_data",
          "data": {
            "image/png": "[encoded data removed]",
            "text/plain": [
              "<matplotlib.figure.Figure at 0x7f4803a7dc50>"
            ]
          },
          "metadata": {
            "tags": []
          }
        }
      ]
    },
    {
      "metadata": {
        "id": "cLYjjnytRG0a",
        "colab_type": "code",
        "colab": {}
      },
      "cell_type": "code",
      "source": [
        ""
      ],
      "execution_count": 0,
      "outputs": []
    }
  ]
}