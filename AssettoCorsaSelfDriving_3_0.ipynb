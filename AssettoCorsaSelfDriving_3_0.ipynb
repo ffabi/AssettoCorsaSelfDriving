{
  "nbformat": 4,
  "nbformat_minor": 0,
  "metadata": {
    "colab": {
      "name": "AssettoCorsaSelfDriving 3.0.ipynb",
      "version": "0.3.2",
      "provenance": [],
      "collapsed_sections": [],
      "include_colab_link": true
    },
    "kernelspec": {
      "name": "python3",
      "display_name": "Python 3"
    },
    "accelerator": "GPU"
  },
  "cells": [
    {
      "cell_type": "markdown",
      "metadata": {
        "id": "view-in-github",
        "colab_type": "text"
      },
      "source": [
        "<a href=\"https://colab.research.google.com/github/ffabi/AssettoCorsaSelfDriving/blob/master/AssettoCorsaSelfDriving_3_0.ipynb\" target=\"_parent\"><img src=\"https://colab.research.google.com/assets/colab-badge.svg\" alt=\"Open In Colab\"/></a>"
      ]
    },
    {
      "metadata": {
        "id": "iC7EEXwDvKF3",
        "colab_type": "code",
        "colab": {}
      },
      "cell_type": "code",
      "source": [
        "import numpy as np\n",
        "import cv2\n",
        "import matplotlib.pyplot as plt\n",
        "%matplotlib inline\n",
        "import keras\n",
        "from sklearn import preprocessing\n",
        "import random\n",
        "from tensorflow import set_random_seed\n",
        "from keras import backend as K\n",
        "from keras.utils.generic_utils import get_custom_objects\n",
        "from keras.layers import Activation, Dense, Dropout, Flatten, Conv2D, BatchNormalization, pooling, MaxPooling2D, PReLU\n",
        "#SwishBeta\n",
        "from keras.layers import Layer, initializers, InputSpec\n",
        "from keras.models import Sequential, load_model\n",
        "from keras.optimizers import Adam, SGD, Nadam\n",
        "import PIL\n",
        "from PIL import Image\n",
        "from keras.callbacks import EarlyStopping, ModelCheckpoint, Callback\n",
        "import sys\n",
        "import seaborn as sns \n",
        "from keras.preprocessing.image import img_to_array, load_img\n",
        "\n",
        "# np.set_printoptions(threshold=np.nan)\n",
        "np.set_printoptions(threshold=20)\n",
        "np.random.seed(1234)\n",
        "set_random_seed(1234)"
      ],
      "execution_count": 0,
      "outputs": []
    },
    {
      "metadata": {
        "id": "h3rlni0vvPOH",
        "colab_type": "code",
        "outputId": "4ad554af-cb5f-4b07-bb5d-ed4e4fc66681",
        "colab": {
          "base_uri": "https://localhost:8080/",
          "height": 124
        }
      },
      "cell_type": "code",
      "source": [
        "from google.colab import drive \n",
        "drive.mount('/content/gdrive')\n",
        "\n",
        "#change working directory to google drive\n",
        "import os\n",
        "os.chdir(\"/content/gdrive/My Drive/AssettoCorsaSelfDriving\")\n",
        "\n",
        "#enable importing python modules from the folder 'modules'\n",
        "# sys.path.append('modules')\n",
        "\n",
        "img_shape = (73, 200, 3)"
      ],
      "execution_count": 3,
      "outputs": [
        {
          "output_type": "stream",
          "text": [
            "Go to this URL in a browser: https://accounts.google.com/o/oauth2/auth?client_id=947318989803-6bn6qk8qdgf4n4g3pfee6491hc0brc4i.apps.googleusercontent.com&redirect_uri=urn%3Aietf%3Awg%3Aoauth%3A2.0%3Aoob&scope=email%20https%3A%2F%2Fwww.googleapis.com%2Fauth%2Fdocs.test%20https%3A%2F%2Fwww.googleapis.com%2Fauth%2Fdrive%20https%3A%2F%2Fwww.googleapis.com%2Fauth%2Fdrive.photos.readonly%20https%3A%2F%2Fwww.googleapis.com%2Fauth%2Fpeopleapi.readonly&response_type=code\n",
            "\n",
            "Enter your authorization code:\n",
            "··········\n",
            "Mounted at /content/gdrive\n"
          ],
          "name": "stdout"
        }
      ]
    },
    {
      "metadata": {
        "id": "AVhHm3mzR1f_",
        "colab_type": "text"
      },
      "cell_type": "markdown",
      "source": [
        "#Prepare"
      ]
    },
    {
      "metadata": {
        "id": "L4C8MUgYJkP-",
        "colab_type": "code",
        "colab": {}
      },
      "cell_type": "code",
      "source": [
        "from PIL import Image\n",
        "\n",
        "class LapRecognition:\n",
        "    def __init__(self, threshold = 100):\n",
        "        self.s1 = slice(134, 166)\n",
        "        self.s2 = slice(1192, 1222)\n",
        "        self.threshold = threshold\n",
        "        \n",
        "        self.number_one = img_to_array(load_img(\"modules/number_one.png\"))\n",
        "        \n",
        "        \n",
        "    def mse(self, imageA, imageB):\n",
        "        err = np.sum((imageA.astype(\"float\") - imageB.astype(\"float\")) ** 2)\n",
        "        err /= float(imageA.shape[0] * imageA.shape[1])\n",
        "        return err\n",
        "    \n",
        "\n",
        "    def is_lap_one(self, image):\n",
        "        difference = self.mse(image[self.s1, self.s2], self.number_one)\n",
        "        return difference < self.threshold"
      ],
      "execution_count": 0,
      "outputs": []
    },
    {
      "metadata": {
        "id": "kK7BhHdlnO02",
        "colab_type": "code",
        "colab": {}
      },
      "cell_type": "code",
      "source": [
        "import os, cv2\n",
        "import PIL\n",
        "\n",
        "class DataPreparation:\n",
        "    def __init__(self, width, height) -> None:\n",
        "        super().__init__()\n",
        "       \n",
        "        self.amount_of_frames = 0\n",
        "        self.amount_of_demo_frames = 0\n",
        "        self.rec = LapRecognition(threshold=100)\n",
        "        \n",
        "        self.img_shape = (height, width, 3)\n",
        "        \n",
        "\n",
        "    def prepare(self, verbose = False):\n",
        "        \n",
        "        output = os.popen(\"ls dataset/videos | wc -l\").read()\n",
        "        amount_of_videos = int(output.replace(\"\\n\", \"\"))\n",
        "        \n",
        "        output = os.popen(\"ls dataset/metainfos | wc -l\").read()\n",
        "        amount_of_metafiles = int(output.replace(\"\\n\", \"\"))\n",
        "        \n",
        "        if verbose:\n",
        "            print(\"Found\", amount_of_videos, \"videofiles and\", amount_of_metafiles, \"metafiles\")\n",
        "        \n",
        "        amount_of_videos = min(amount_of_videos, amount_of_metafiles)\n",
        "        \n",
        "        datapoints = []\n",
        "                \n",
        "        for i in range(1, amount_of_videos+1):\n",
        "            cap = cv2.VideoCapture(\"dataset/videos/\" + str(i) + \".mp4\")\n",
        "            metafile = open(\"dataset/metainfos/\"+ str(i) + \".txt\")\n",
        "            ret, frame = cap.read()\n",
        "            \n",
        "            videolength = int(cap.get(cv2.CAP_PROP_FRAME_COUNT))\n",
        "            \n",
        "            #read videofile until the start of the lap\n",
        "            counter=0\n",
        "            while not self.rec.is_lap_one(frame):\n",
        "                ret, frame = cap.read()\n",
        "                counter += 1\n",
        "            if verbose:\n",
        "                print(\"Found first frame of the first lap at\", counter)\n",
        "            \n",
        "            videolength -= counter\n",
        "            #reading while the first lap is recorded\n",
        "            counter = 0\n",
        "            while self.rec.is_lap_one(frame) and ret:\n",
        "                values = metafile.readline().split(\";\")\n",
        "                if len(values) < 2:\n",
        "                    break\n",
        "                \n",
        "                datapoints.append((float(values[0]), self.amount_of_frames))\n",
        "\n",
        "                img = cv2.resize(frame[250:], (self.img_shape[1], self.img_shape[0]))\n",
        "                cv2.imwrite(\"dataset/resized_frames/frame_\" + str(self.amount_of_frames) + \".png\", img)\n",
        "                self.amount_of_frames += 1\n",
        "\n",
        "                if verbose:\n",
        "                    cnt = int(counter/videolength*50)\n",
        "                    sys.stdout.write('\\r'+ \"Processing \" + str(i) + \"/\" + str(amount_of_videos) + \" video: [\" + \"=\"*cnt + \">\" + \" \"*(50-cnt-1) + \"]\")\n",
        "                \n",
        "                counter += 1\n",
        "            \n",
        "                ret, frame = cap.read()\n",
        "            \n",
        "            metafile.close()\n",
        "            \n",
        "            print(\"\")\n",
        "                \n",
        "        return np.array(datapoints, dtype=[('data', np.float32, 1), ('frame', np.int16, 1)])\n",
        "    \n",
        "    #name should be \"demo.mp4\"\n",
        "    def prepare_demo(self, verbose = False):\n",
        "        \n",
        "        cap = cv2.VideoCapture(\"dataset/videos/demo.mp4\")\n",
        "        ret, frame = cap.read()\n",
        "\n",
        "        videolength = int(cap.get(cv2.CAP_PROP_FRAME_COUNT))\n",
        "\n",
        "        #read videofile until the start of the lap\n",
        "        counter=0\n",
        "        while not self.rec.is_lap_one(frame):\n",
        "            ret, frame = cap.read()\n",
        "            counter += 1\n",
        "            \n",
        "        if verbose:\n",
        "            print(\"Found first frame of the first lap at\", counter)\n",
        "\n",
        "        videolength -= counter\n",
        "        #reading while the first lap is recorded\n",
        "        counter = 0\n",
        "        while self.rec.is_lap_one(frame) and ret:\n",
        "\n",
        "            img = cv2.resize(frame[250:], (self.img_shape[1], self.img_shape[0]))\n",
        "            cv2.imwrite(\"dataset/demo_frames/frame_\" + str(self.amount_of_demo_frames) + \".png\", img)\n",
        "            self.amount_of_demo_frames += 1\n",
        "\n",
        "            if verbose:\n",
        "                cnt = int(counter/videolength*50)\n",
        "                sys.stdout.write('\\r'+ \"Processing demo video: [\" + \"=\"*cnt + \">\" + \" \"*(50-cnt-1) + \"]\")\n",
        "\n",
        "            counter += 1\n",
        "\n",
        "            ret, frame = cap.read()\n",
        "\n"
      ],
      "execution_count": 0,
      "outputs": []
    },
    {
      "metadata": {
        "id": "BTybJOrbMRO-",
        "colab_type": "code",
        "colab": {}
      },
      "cell_type": "code",
      "source": [
        "prep = DataPreparation(img_shape[1], img_shape[0])"
      ],
      "execution_count": 0,
      "outputs": []
    },
    {
      "metadata": {
        "id": "o2hI2T8AajoA",
        "colab_type": "code",
        "outputId": "f231ce30-9095-4287-c6f3-724b6d681cfd",
        "colab": {
          "base_uri": "https://localhost:8080/",
          "height": 139
        }
      },
      "cell_type": "code",
      "source": [
        "# dataset = prep.prepare(True)"
      ],
      "execution_count": 0,
      "outputs": [
        {
          "output_type": "stream",
          "text": [
            "Found 3 videofiles and 3 metafiles\n",
            "Found first frame of the first lap at 223\n",
            "Processing 1/3 video: [=================================================>]\n",
            "Found first frame of the first lap at 173\n",
            "Processing 2/3 video: [=================================================>]\n",
            "Found first frame of the first lap at 38\n",
            "Processing 3/3 video: [=================================================>]\n"
          ],
          "name": "stdout"
        }
      ]
    },
    {
      "metadata": {
        "id": "wc7WK55-MPMX",
        "colab_type": "code",
        "outputId": "de1e326b-fffc-4da2-9c88-6f22ac6a2a43",
        "colab": {
          "base_uri": "https://localhost:8080/",
          "height": 52
        }
      },
      "cell_type": "code",
      "source": [
        "prep.prepare_demo(True)"
      ],
      "execution_count": 0,
      "outputs": [
        {
          "output_type": "stream",
          "text": [
            "Found first frame of the first lap at 140\n",
            "Processing demo video: [=================================================>]"
          ],
          "name": "stdout"
        }
      ]
    },
    {
      "metadata": {
        "id": "zLQ68ee2bhT0",
        "colab_type": "code",
        "outputId": "10fd1133-2f72-4516-ce42-827e90fee64f",
        "colab": {
          "base_uri": "https://localhost:8080/",
          "height": 35
        }
      },
      "cell_type": "code",
      "source": [
        "!ls -lfh dataset/resized_frames/* | grep \" 0 \""
      ],
      "execution_count": 0,
      "outputs": [
        {
          "output_type": "stream",
          "text": [
            "ls: cannot access 'dataset/resized_frames/*': No such file or directory\n"
          ],
          "name": "stdout"
        }
      ]
    },
    {
      "metadata": {
        "id": "-bTA0Ntcd_7U",
        "colab_type": "code",
        "colab": {}
      },
      "cell_type": "code",
      "source": [
        "!cp dataset/saved_resized_frames/frame_9561.png dataset/resized_frames/"
      ],
      "execution_count": 0,
      "outputs": []
    },
    {
      "metadata": {
        "id": "azvKrEMvzGa3",
        "colab_type": "code",
        "colab": {}
      },
      "cell_type": "code",
      "source": [
        "np.save(\"dataset/serialized/dataset.npy\", dataset)\n",
        "!ls -lh dataset/serialized/dataset.npy"
      ],
      "execution_count": 0,
      "outputs": []
    },
    {
      "metadata": {
        "id": "CtgWETBUrHB-",
        "colab_type": "code",
        "outputId": "d5f74119-d255-4d4b-b507-1133af60d236",
        "colab": {
          "base_uri": "https://localhost:8080/",
          "height": 451
        }
      },
      "cell_type": "code",
      "source": [
        "dataset = np.load(\"dataset/serialized/dataset.npy\")\n",
        "\n",
        "print(\"Size of dataset:\", len(dataset))\n",
        "print(\"Example data:\", dataset[0])\n",
        "\n",
        "img = Image.open(\"dataset/resized_frames/frame_\" + str(dataset[0][1]) + \".png\")\n",
        "fig=plt.figure(figsize=(18, 10))\n",
        "plt.imshow(img)\n",
        "plt.axis('off')\n",
        "plt.show()"
      ],
      "execution_count": 0,
      "outputs": [
        {
          "output_type": "stream",
          "text": [
            "Size of dataset: 10587\n",
            "Example data: (0.44150218, 0)\n"
          ],
          "name": "stdout"
        },
        {
          "output_type": "display_data",
          "data": {
            "image/png": "[encoded data removed]",
            "text/plain": [
              "<matplotlib.figure.Figure at 0x7f0c33749908>"
            ]
          },
          "metadata": {
            "tags": []
          }
        }
      ]
    },
    {
      "metadata": {
        "id": "DdccTB8dLopW",
        "colab_type": "code",
        "outputId": "540f25a8-8bef-4f76-d047-40de0e2a58da",
        "colab": {
          "base_uri": "https://localhost:8080/",
          "height": 295
        }
      },
      "cell_type": "code",
      "source": [
        "ax = sns.distplot(dataset[\"data\"]);\n",
        "ax.set(xlabel=\"steering angle\", ylabel=\"occurence\", title=\"Distribution of the steering angle\")\n",
        "plt.show()"
      ],
      "execution_count": 0,
      "outputs": [
        {
          "output_type": "display_data",
          "data": {
            "image/png": "[encoded data removed]",
            "text/plain": [
              "<matplotlib.figure.Figure at 0x7f963a797978>"
            ]
          },
          "metadata": {
            "tags": []
          }
        }
      ]
    },
    {
      "metadata": {
        "id": "rlwE6pn4R4y-",
        "colab_type": "text"
      },
      "cell_type": "markdown",
      "source": [
        "#Train"
      ]
    },
    {
      "metadata": {
        "id": "ga9wC9sev66u",
        "colab_type": "code",
        "outputId": "0c5b0a98-c53d-44a8-b2dc-3d4fc6b51946",
        "colab": {
          "base_uri": "https://localhost:8080/",
          "height": 69
        }
      },
      "cell_type": "code",
      "source": [
        "dataset = np.load(\"dataset/serialized/dataset.npy\")\n",
        "np.random.shuffle(dataset)\n",
        "\n",
        "valid_split = 0.2\n",
        "test_split = 0.1\n",
        "framecounter = len(dataset)\n",
        "\n",
        "train = dataset[0:int(framecounter*(1-valid_split-test_split))]\n",
        "valid = dataset[int(framecounter*(1-valid_split-test_split)):int(framecounter*(1-test_split))]\n",
        "test  = dataset[int(framecounter*(1-test_split)):]\n",
        "\n",
        "print(\"Number of train samples: \", len(train))\n",
        "print(\"Example train data before minmax scaling:\", train[0])\n",
        "train_scale = train[\"data\"].reshape(-1, 1)\n",
        "valid_scale = valid[\"data\"].reshape(-1, 1)\n",
        "test_scale = test[\"data\"].reshape(-1, 1)\n",
        "\n",
        "#standard scaler\n",
        "scaler = preprocessing.MinMaxScaler().fit(train_scale)\n",
        "train[\"data\"] = scaler.transform(train_scale).reshape(1, -1)\n",
        "valid[\"data\"] = scaler.transform(valid_scale).reshape(1, -1)\n",
        "test[\"data\"] = scaler.transform(test_scale).reshape(1, -1)\n",
        "\n",
        "print(\"Example train data after minmax scaling:\", train[0])"
      ],
      "execution_count": 10,
      "outputs": [
        {
          "output_type": "stream",
          "text": [
            "Number of train samples:  7410\n",
            "Example train data before minmax scaling: (-2.6539612, 7700)\n",
            "Example train data after minmax scaling: (0.4006285, 7700)\n"
          ],
          "name": "stdout"
        }
      ]
    },
    {
      "metadata": {
        "id": "KfFmIFKSVK_p",
        "colab_type": "code",
        "colab": {}
      },
      "cell_type": "code",
      "source": [
        "# # https://keras.io/utils/#sequence\n",
        "# from skimage.io import imread\n",
        "# class SimpleDataGenerator(keras.utils.Sequence):\n",
        "    \n",
        "#     # Here, `x_set` is list of ids\n",
        "#     # and `y_set` are the associated steering angles\n",
        "    \n",
        "#     def __init__(self, x_set, y_set, batch_size):\n",
        "#         self.x, self.y = x_set, y_set\n",
        "#         self.batch_size = batch_size\n",
        "\n",
        "#     def __len__(self):\n",
        "#         return int(np.ceil(len(self.x) / float(self.batch_size)))\n",
        "\n",
        "#     def __getitem__(self, idx):\n",
        "#         batch_x = self.x[idx * self.batch_size:(idx + 1) * self.batch_size]\n",
        "#         batch_y = self.y[idx * self.batch_size:(idx + 1) * self.batch_size]\n",
        "\n",
        "        \n",
        "# #         images = np.array([ imread('dataset/resized_frames/frame_' + str(ID) + '.png') for ID in batch_x])\n",
        "#         images = np.array([ img_to_array(load_img('dataset/resized_frames/frame_' + str(ID) + '.png'))/255.0 for ID in batch_x])\n",
        "#         return images, np.array(batch_y)"
      ],
      "execution_count": 0,
      "outputs": []
    },
    {
      "metadata": {
        "id": "4GnsEnD3Aws_",
        "colab_type": "code",
        "colab": {}
      },
      "cell_type": "code",
      "source": [
        "\n",
        "# https://stanford.edu/~shervine/blog/keras-how-to-generate-data-on-the-fly\n",
        "class DataGenerator(keras.utils.Sequence):\n",
        "    \"\"\"Generates data for Keras\"\"\"\n",
        "\n",
        "    def __init__(self, dataset, dim, batch_size=10, shuffle=True):\n",
        "        \"\"\"Initialization\"\"\"\n",
        "        self.dim = dim\n",
        "        self.batch_size = batch_size\n",
        "        self.dataset = dataset\n",
        "        self.shuffle = shuffle\n",
        "        self.indexes = np.arange(len(dataset))\n",
        "        self.on_epoch_end()\n",
        "        \n",
        "\n",
        "    def __len__(self):\n",
        "        \"\"\"Denotes the number of batches per epoch\"\"\"\n",
        "        return int(np.ceil(len(self.dataset) / self.batch_size))\n",
        "\n",
        "    def __getitem__(self, index):\n",
        "        \"\"\"Generate one batch of data\"\"\"\n",
        "        # Generate indexes of the batch\n",
        "        indexes = self.indexes[index * self.batch_size:(index + 1) * self.batch_size]\n",
        "\n",
        "        ids = [self.dataset[\"frame\"][k] for k in indexes]\n",
        "        datapoints = [self.dataset[\"data\"][k] for k in indexes]\n",
        "\n",
        "        \"\"\"Generates data containing batch_size samples\"\"\"\n",
        "        # Initialization\n",
        "        \n",
        "        X = np.empty((self.batch_size, *self.dim), dtype=float)\n",
        "        Y = np.empty((self.batch_size, *(1, )), dtype=float)\n",
        "        # Generate data\n",
        "        for i, ID in enumerate(ids):\n",
        "            img = img_to_array(load_img('dataset/resized_frames/frame_' + str(ID) + '.png')) /255.0\n",
        "\n",
        "            X[i,] = img\n",
        "            Y[i,] = datapoints[i]\n",
        "\n",
        "        return X, Y\n",
        "\n",
        "    def on_epoch_end(self):\n",
        "        \"\"\"Updates indexes after each epoch\"\"\"\n",
        "        if self.shuffle:\n",
        "            np.random.shuffle(self.indexes)\n"
      ],
      "execution_count": 0,
      "outputs": []
    },
    {
      "metadata": {
        "id": "U9S-sYSGy4ea",
        "colab_type": "code",
        "colab": {}
      },
      "cell_type": "code",
      "source": [
        "# from keras import backend as K\n",
        "# from keras.utils.generic_utils import get_custom_objects\n",
        "\n",
        "# class Swish(Activation):\n",
        "    \n",
        "#     def __init__(self, activation, **kwargs):\n",
        "#         super(Swish, self).__init__(activation, **kwargs)\n",
        "#         self.__name__ = 'swish'\n",
        "\n",
        "# def swish(x):\n",
        "#     A = (K.sigmoid(x) * x)\n",
        "#     return A\n",
        "\n",
        "# get_custom_objects().update({'swish': Swish(swish)})"
      ],
      "execution_count": 0,
      "outputs": []
    },
    {
      "metadata": {
        "id": "q9p16GluVZgZ",
        "colab_type": "code",
        "colab": {}
      },
      "cell_type": "code",
      "source": [
        "class SwishBeta(Layer):\n",
        "    def __init__(self, trainable_beta = True, beta_initializer = 'ones', **kwargs):\n",
        "        super(SwishBeta, self).__init__(**kwargs)\n",
        "        self.supports_masking = True\n",
        "        self.trainable = trainable_beta\n",
        "        self.beta_initializer = initializers.get(beta_initializer)\n",
        "        \n",
        "    def build(self, input_shape):\n",
        "        self.beta = self.add_weight(shape=[1], name='beta', \n",
        "                                    initializer=self.beta_initializer)\n",
        "        self.input_spec = InputSpec(ndim=len(input_shape))\n",
        "        self.built = True\n",
        "\n",
        "    def call(self, inputs):\n",
        "        return inputs * K.sigmoid(self.beta * inputs)\n",
        "\n",
        "    def get_config(self):\n",
        "        config = {'trainable_beta': self.trainable_beta, \n",
        "                  'beta_initializer': initializers.serialize(self.beta_initializer)}\n",
        "        base_config = super(SwishBeta, self).get_config()\n",
        "        return dict(list(base_config.items()) + list(config.items()))"
      ],
      "execution_count": 0,
      "outputs": []
    },
    {
      "metadata": {
        "id": "bFo_kBQF2zg2",
        "colab_type": "code",
        "colab": {}
      },
      "cell_type": "code",
      "source": [
        "#@title PilotNet by Nvidia {display-mode: \"form\"}\n",
        "\n",
        "##pilotnet\n",
        "model = Sequential()\n",
        "\n",
        "activation = \"relu\"\n",
        "\n",
        "model.add(Conv2D(24, kernel_size=(5,5), strides=(2,2), activation=activation, input_shape=img_shape))\n",
        "model.add(BatchNormalization())\n",
        "model.add(Conv2D(36, kernel_size=(5,5), strides=(2,2), activation=activation))\n",
        "model.add(BatchNormalization())\n",
        "model.add(Conv2D(48, kernel_size=(5,5), strides=(2,2), activation=activation))\n",
        "model.add(BatchNormalization())\n",
        "model.add(Conv2D(64, kernel_size=(3,3), strides=(1,1), activation=activation))\n",
        "model.add(BatchNormalization())\n",
        "model.add(Conv2D(64, kernel_size=(3,3), strides=(1,1), activation=activation))\n",
        "model.add(BatchNormalization())\n",
        "\n",
        "model.add(Flatten())\n",
        "\n",
        "model.add(Dense(100, activation=activation))\n",
        "model.add(BatchNormalization())\n",
        "model.add(Dense(50, activation=activation))\n",
        "model.add(BatchNormalization())\n",
        "model.add(Dense(10, activation=activation))\n",
        "model.add(BatchNormalization())\n",
        "\n",
        "model.add(Dense(1, activation='sigmoid'))\n"
      ],
      "execution_count": 0,
      "outputs": []
    },
    {
      "metadata": {
        "id": "zYhoVzkNkicU",
        "colab_type": "code",
        "colab": {}
      },
      "cell_type": "code",
      "source": [
        "#@title Model from a blogpost { form-width: \"20%\", display-mode: \"form\" }\n",
        "\n",
        "#https://navoshta.com/end-to-end-deep-learning/\n",
        "\n",
        "activation=\"relu\"\n",
        "\n",
        "model = Sequential()\n",
        "model.add(Conv2D(16, (3, 3), input_shape=img_shape, activation=activation))\n",
        "model.add(MaxPooling2D(pool_size=(2, 2)))\n",
        "model.add(BatchNormalization())\n",
        "model.add(Conv2D(32, (3, 3), activation=activation))\n",
        "model.add(MaxPooling2D(pool_size=(2, 2)))\n",
        "model.add(BatchNormalization())\n",
        "model.add(Conv2D(64, (3, 3), activation=activation))\n",
        "model.add(MaxPooling2D(pool_size=(2, 2)))\n",
        "model.add(BatchNormalization())\n",
        "\n",
        "model.add(Flatten())\n",
        "\n",
        "model.add(Dense(300, activation=activation))\n",
        "model.add(BatchNormalization())\n",
        "model.add(Dense(100, activation=activation))\n",
        "model.add(BatchNormalization())\n",
        "model.add(Dense(20, activation=activation))\n",
        "model.add(BatchNormalization())\n",
        "\n",
        "model.add(Dense(1, activation='sigmoid'))"
      ],
      "execution_count": 0,
      "outputs": []
    },
    {
      "metadata": {
        "id": "EW-VltaJnPri",
        "colab_type": "code",
        "colab": {}
      },
      "cell_type": "code",
      "source": [
        "#@title My model for experiments { form-width: \"20%\", display-mode: \"both\" }\n",
        "\n",
        "#own\n",
        "model = Sequential()\n",
        "\n",
        "activation=\"relu\"\n",
        "\n",
        "model.add(Conv2D(24, kernel_size=(5,5), strides=(2,2), activation=activation, input_shape=img_shape))\n",
        "model.add(BatchNormalization())\n",
        "\n",
        "model.add(Conv2D(36, kernel_size=(5,5), strides=(2,2), activation=activation))\n",
        "model.add(BatchNormalization())\n",
        "\n",
        "model.add(Conv2D(48, kernel_size=(5,5), strides=(2,2), activation=activation))\n",
        "model.add(BatchNormalization())\n",
        "\n",
        "model.add(Conv2D(64, kernel_size=(3,3), strides=(1,1), activation=activation))\n",
        "model.add(BatchNormalization())\n",
        "\n",
        "model.add(Flatten())\n",
        "\n",
        "model.add(Dense(200, activation=activation))\n",
        "model.add(BatchNormalization())\n",
        "model.add(Dense(100, activation=activation))\n",
        "model.add(BatchNormalization())\n",
        "model.add(Dense(20, activation=activation))\n",
        "model.add(BatchNormalization())\n",
        "\n",
        "model.add(Dense(1, activation='sigmoid'))\n"
      ],
      "execution_count": 0,
      "outputs": []
    },
    {
      "metadata": {
        "id": "WHl5QDy52jpH",
        "colab_type": "code",
        "colab": {}
      },
      "cell_type": "code",
      "source": [
        "sgd = SGD(lr=0.001, decay=1e-5, momentum=0.1, nesterov=True) #0.0005\n",
        "nadam = Nadam(lr=0.001, beta_1=0.9, beta_2=0.999, epsilon=None, schedule_decay=1e-5)\n",
        "model.compile(optimizer=nadam, loss=\"mse\")\n",
        "# model.summary()"
      ],
      "execution_count": 0,
      "outputs": []
    },
    {
      "metadata": {
        "id": "VkT3g8_02lCW",
        "colab_type": "code",
        "outputId": "d256e1af-0fa1-4f52-99b4-5f70db8acb3d",
        "colab": {
          "base_uri": "https://localhost:8080/",
          "height": 3085
        }
      },
      "cell_type": "code",
      "source": [
        "training_generator = DataGenerator(train, dim=img_shape, batch_size=64) #watch out for explosion!\n",
        "validation_generator = DataGenerator(valid, dim=img_shape, batch_size=16)\n",
        "\n",
        "# training_generator = SimpleDataGenerator(train[\"frame\"], train[\"data\"], batch_size=128)\n",
        "# validation_generator = SimpleDataGenerator(valid[\"frame\"], valid[\"data\"], batch_size=128)\n",
        "\n",
        "\n",
        "#setup early stopping\n",
        "es = EarlyStopping(patience=16, verbose=1, min_delta=0.0005)\n",
        "\n",
        "#we are going to keep only the best model\n",
        "mcp = ModelCheckpoint(filepath='model/weights/weights.hdf5', verbose=1, save_best_only=True)\n",
        "\n",
        "\n",
        "# set parameters and start learning\n",
        "history = model.fit_generator(\n",
        "            generator=training_generator,\n",
        "            validation_data=validation_generator,\n",
        "            use_multiprocessing=False,\n",
        "            epochs=100, # early stopping detects the end\n",
        "            verbose=1,\n",
        "            shuffle=True,\n",
        "            callbacks=[mcp, es]\n",
        "         )\n"
      ],
      "execution_count": 172,
      "outputs": [
        {
          "output_type": "stream",
          "text": [
            "Epoch 1/100\n",
            "116/116 [==============================] - 57s 492ms/step - loss: 0.0103 - val_loss: 0.0042\n",
            "\n",
            "Epoch 00001: val_loss improved from inf to 0.00418, saving model to model/weights/weights.hdf5\n",
            "Epoch 2/100\n",
            "116/116 [==============================] - 41s 350ms/step - loss: 0.0024 - val_loss: 0.0022\n",
            "\n",
            "Epoch 00002: val_loss improved from 0.00418 to 0.00217, saving model to model/weights/weights.hdf5\n",
            "Epoch 3/100\n",
            "116/116 [==============================] - 41s 349ms/step - loss: 0.0016 - val_loss: 0.0016\n",
            "\n",
            "Epoch 00003: val_loss improved from 0.00217 to 0.00159, saving model to model/weights/weights.hdf5\n",
            "Epoch 4/100\n",
            "116/116 [==============================] - 41s 350ms/step - loss: 0.0012 - val_loss: 0.0012\n",
            "\n",
            "Epoch 00004: val_loss improved from 0.00159 to 0.00116, saving model to model/weights/weights.hdf5\n",
            "Epoch 5/100\n",
            "116/116 [==============================] - 41s 351ms/step - loss: 0.0011 - val_loss: 0.0014\n",
            "\n",
            "Epoch 00005: val_loss did not improve from 0.00116\n",
            "Epoch 6/100\n",
            "116/116 [==============================] - 41s 349ms/step - loss: 9.2836e-04 - val_loss: 7.7378e-04\n",
            "\n",
            "Epoch 00006: val_loss improved from 0.00116 to 0.00077, saving model to model/weights/weights.hdf5\n",
            "Epoch 7/100\n",
            "116/116 [==============================] - 41s 349ms/step - loss: 7.8017e-04 - val_loss: 6.4373e-04\n",
            "\n",
            "Epoch 00007: val_loss improved from 0.00077 to 0.00064, saving model to model/weights/weights.hdf5\n",
            "Epoch 8/100\n",
            "116/116 [==============================] - 41s 350ms/step - loss: 7.6213e-04 - val_loss: 7.4728e-04\n",
            "\n",
            "Epoch 00008: val_loss did not improve from 0.00064\n",
            "Epoch 9/100\n",
            "116/116 [==============================] - 42s 359ms/step - loss: 7.3279e-04 - val_loss: 5.2901e-04\n",
            "\n",
            "Epoch 00009: val_loss improved from 0.00064 to 0.00053, saving model to model/weights/weights.hdf5\n",
            "Epoch 10/100\n",
            "116/116 [==============================] - 41s 355ms/step - loss: 6.5967e-04 - val_loss: 5.2827e-04\n",
            "\n",
            "Epoch 00010: val_loss improved from 0.00053 to 0.00053, saving model to model/weights/weights.hdf5\n",
            "Epoch 11/100\n",
            "116/116 [==============================] - 41s 350ms/step - loss: 5.9279e-04 - val_loss: 4.4733e-04\n",
            "\n",
            "Epoch 00011: val_loss improved from 0.00053 to 0.00045, saving model to model/weights/weights.hdf5\n",
            "Epoch 12/100\n",
            "116/116 [==============================] - 40s 349ms/step - loss: 5.8158e-04 - val_loss: 4.9213e-04\n",
            "\n",
            "Epoch 00012: val_loss did not improve from 0.00045\n",
            "Epoch 13/100\n",
            "116/116 [==============================] - 40s 349ms/step - loss: 6.1145e-04 - val_loss: 5.4871e-04\n",
            "\n",
            "Epoch 00013: val_loss did not improve from 0.00045\n",
            "Epoch 14/100\n",
            "116/116 [==============================] - 41s 349ms/step - loss: 5.2587e-04 - val_loss: 4.9218e-04\n",
            "\n",
            "Epoch 00014: val_loss did not improve from 0.00045\n",
            "Epoch 15/100\n",
            "116/116 [==============================] - 41s 349ms/step - loss: 5.7829e-04 - val_loss: 4.0181e-04\n",
            "\n",
            "Epoch 00015: val_loss improved from 0.00045 to 0.00040, saving model to model/weights/weights.hdf5\n",
            "Epoch 16/100\n",
            "116/116 [==============================] - 42s 359ms/step - loss: 5.8762e-04 - val_loss: 3.9354e-04\n",
            "\n",
            "Epoch 00016: val_loss improved from 0.00040 to 0.00039, saving model to model/weights/weights.hdf5\n",
            "Epoch 17/100\n",
            "116/116 [==============================] - 41s 356ms/step - loss: 4.9627e-04 - val_loss: 3.5139e-04\n",
            "\n",
            "Epoch 00017: val_loss improved from 0.00039 to 0.00035, saving model to model/weights/weights.hdf5\n",
            "Epoch 18/100\n",
            "116/116 [==============================] - 41s 355ms/step - loss: 4.6454e-04 - val_loss: 3.6750e-04\n",
            "\n",
            "Epoch 00018: val_loss did not improve from 0.00035\n",
            "Epoch 19/100\n",
            "116/116 [==============================] - 41s 356ms/step - loss: 5.2236e-04 - val_loss: 3.8912e-04\n",
            "\n",
            "Epoch 00019: val_loss did not improve from 0.00035\n",
            "Epoch 20/100\n",
            "116/116 [==============================] - 41s 355ms/step - loss: 4.3681e-04 - val_loss: 5.4339e-04\n",
            "\n",
            "Epoch 00020: val_loss did not improve from 0.00035\n",
            "Epoch 21/100\n",
            "116/116 [==============================] - 41s 357ms/step - loss: 5.2779e-04 - val_loss: 3.2867e-04\n",
            "\n",
            "Epoch 00021: val_loss improved from 0.00035 to 0.00033, saving model to model/weights/weights.hdf5\n",
            "Epoch 22/100\n",
            "116/116 [==============================] - 41s 355ms/step - loss: 4.4441e-04 - val_loss: 3.8718e-04\n",
            "\n",
            "Epoch 00022: val_loss did not improve from 0.00033\n",
            "Epoch 23/100\n",
            "116/116 [==============================] - 41s 356ms/step - loss: 5.0080e-04 - val_loss: 3.5433e-04\n",
            "\n",
            "Epoch 00023: val_loss did not improve from 0.00033\n",
            "Epoch 24/100\n",
            "116/116 [==============================] - 43s 371ms/step - loss: 9.5995e-04 - val_loss: 3.9626e-04\n",
            "\n",
            "Epoch 00024: val_loss did not improve from 0.00033\n",
            "Epoch 25/100\n",
            "116/116 [==============================] - 41s 356ms/step - loss: 4.4567e-04 - val_loss: 3.3581e-04\n",
            "\n",
            "Epoch 00025: val_loss did not improve from 0.00033\n",
            "Epoch 26/100\n",
            "116/116 [==============================] - 41s 357ms/step - loss: 4.6621e-04 - val_loss: 3.0667e-04\n",
            "\n",
            "Epoch 00026: val_loss improved from 0.00033 to 0.00031, saving model to model/weights/weights.hdf5\n",
            "Epoch 27/100\n",
            "116/116 [==============================] - 42s 359ms/step - loss: 4.5453e-04 - val_loss: 3.2672e-04\n",
            "\n",
            "Epoch 00027: val_loss did not improve from 0.00031\n",
            "Epoch 28/100\n",
            "116/116 [==============================] - 41s 357ms/step - loss: 3.9967e-04 - val_loss: 2.8424e-04\n",
            "\n",
            "Epoch 00028: val_loss improved from 0.00031 to 0.00028, saving model to model/weights/weights.hdf5\n",
            "Epoch 29/100\n",
            "116/116 [==============================] - 41s 357ms/step - loss: 4.6447e-04 - val_loss: 3.4414e-04\n",
            "\n",
            "Epoch 00029: val_loss did not improve from 0.00028\n",
            "Epoch 30/100\n",
            "116/116 [==============================] - 41s 353ms/step - loss: 4.1970e-04 - val_loss: 4.5939e-04\n",
            "\n",
            "Epoch 00030: val_loss did not improve from 0.00028\n",
            "Epoch 31/100\n",
            "116/116 [==============================] - 42s 361ms/step - loss: 3.8830e-04 - val_loss: 3.4402e-04\n",
            "\n",
            "Epoch 00031: val_loss did not improve from 0.00028\n",
            "Epoch 32/100\n",
            "116/116 [==============================] - 41s 357ms/step - loss: 4.3224e-04 - val_loss: 4.6547e-04\n",
            "\n",
            "Epoch 00032: val_loss did not improve from 0.00028\n",
            "Epoch 33/100\n",
            "116/116 [==============================] - 41s 352ms/step - loss: 4.1960e-04 - val_loss: 2.7819e-04\n",
            "\n",
            "Epoch 00033: val_loss improved from 0.00028 to 0.00028, saving model to model/weights/weights.hdf5\n",
            "Epoch 34/100\n",
            "116/116 [==============================] - 41s 354ms/step - loss: 3.7560e-04 - val_loss: 2.5200e-04\n",
            "\n",
            "Epoch 00034: val_loss improved from 0.00028 to 0.00025, saving model to model/weights/weights.hdf5\n",
            "Epoch 35/100\n",
            "116/116 [==============================] - 41s 353ms/step - loss: 3.9859e-04 - val_loss: 4.7249e-04\n",
            "\n",
            "Epoch 00035: val_loss did not improve from 0.00025\n",
            "Epoch 36/100\n",
            "116/116 [==============================] - 41s 355ms/step - loss: 3.7827e-04 - val_loss: 4.9062e-04\n",
            "\n",
            "Epoch 00036: val_loss did not improve from 0.00025\n",
            "Epoch 37/100\n",
            "116/116 [==============================] - 41s 353ms/step - loss: 4.6196e-04 - val_loss: 4.0689e-04\n",
            "\n",
            "Epoch 00037: val_loss did not improve from 0.00025\n",
            "Epoch 38/100\n",
            "116/116 [==============================] - 41s 352ms/step - loss: 4.4752e-04 - val_loss: 3.2620e-04\n",
            "\n",
            "Epoch 00038: val_loss did not improve from 0.00025\n",
            "Epoch 39/100\n",
            "116/116 [==============================] - 42s 364ms/step - loss: 4.7151e-04 - val_loss: 7.0916e-04\n",
            "\n",
            "Epoch 00039: val_loss did not improve from 0.00025\n",
            "Epoch 40/100\n",
            "116/116 [==============================] - 41s 355ms/step - loss: 3.9979e-04 - val_loss: 2.4450e-04\n",
            "\n",
            "Epoch 00040: val_loss improved from 0.00025 to 0.00024, saving model to model/weights/weights.hdf5\n",
            "Epoch 41/100\n",
            "116/116 [==============================] - 41s 353ms/step - loss: 3.6073e-04 - val_loss: 5.5273e-04\n",
            "\n",
            "Epoch 00041: val_loss did not improve from 0.00024\n",
            "Epoch 42/100\n",
            "116/116 [==============================] - 41s 353ms/step - loss: 4.4924e-04 - val_loss: 2.9755e-04\n",
            "\n",
            "Epoch 00042: val_loss did not improve from 0.00024\n",
            "Epoch 43/100\n",
            "116/116 [==============================] - 41s 352ms/step - loss: 3.6899e-04 - val_loss: 2.7905e-04\n",
            "\n",
            "Epoch 00043: val_loss did not improve from 0.00024\n",
            "Epoch 44/100\n",
            "116/116 [==============================] - 41s 353ms/step - loss: 3.7495e-04 - val_loss: 3.6737e-04\n",
            "\n",
            "Epoch 00044: val_loss did not improve from 0.00024\n",
            "Epoch 00044: early stopping\n"
          ],
          "name": "stdout"
        }
      ]
    },
    {
      "metadata": {
        "id": "rU-5pb2X42ve",
        "colab_type": "code",
        "colab": {}
      },
      "cell_type": "code",
      "source": [
        "# load back best model (early stopping + model checkpoint)\n",
        "model = load_model('model/weights/weights.hdf5')"
      ],
      "execution_count": 0,
      "outputs": []
    },
    {
      "metadata": {
        "id": "K4Hj0C6dQXfT",
        "colab_type": "code",
        "outputId": "b9647997-41e1-46a7-f1bb-bcb4efbb31cd",
        "colab": {
          "base_uri": "https://localhost:8080/",
          "height": 225
        }
      },
      "cell_type": "code",
      "source": [
        "!ls -la model/weights"
      ],
      "execution_count": 173,
      "outputs": [
        {
          "output_type": "stream",
          "text": [
            "total 3060978\n",
            "-rw------- 1 root root 2995508344 Jan 12 15:29 blognet_relu_sigmoid_batchnorm_nadam_00042.hdf5\n",
            "-rw------- 1 root root   10400920 Jan 11 22:05 pilotnet_relu_linear_batchnorm.hdf5\n",
            "-rw------- 1 root root    6945016 Jan 12 11:14 pilotnet_relu_sigmoid_batchnorm_best_00017.hdf5\n",
            "-rw------- 1 root root   10400760 Jan 12 11:07 pilotnet_relu_sigmoid_batchnorm.hdf5\n",
            "-rw------- 1 root root    3038568 Jan 12 13:46 pilotnet_relu_sigmoid_batchnorm_nadam_00016.hdf5\n",
            "-rw------- 1 root root    3038568 Jan 12 13:34 pilotnet_relu_sigmoid_batchnorm_nadam_00017.hdf5\n",
            "-rw------- 1 root root    4526504 Jan 12 11:54 pilotnet_relu_sigmoid_batchnorm_nadam_00031.hdf5\n",
            "-rw------- 1 root root    3038424 Jan 10 13:05 pilotnet_relu_sigmoid.hdf5\n",
            "-rw------- 1 root root   41870704 Jan 10 12:05 small_relu_linear.hdf5\n",
            "-rw------- 1 root root   41870712 Jan 10 14:56 small_relu_sigmoid.hdf5\n",
            "-rw------- 1 root root   13800144 Jan 12 16:27 weights.hdf5\n"
          ],
          "name": "stdout"
        }
      ]
    },
    {
      "metadata": {
        "id": "RJUjv7Fe2MH0",
        "colab_type": "code",
        "colab": {}
      },
      "cell_type": "code",
      "source": [
        "!cp model/weights/weights.hdf5 model/weights/own_relu_sigmoid_batchnorm_nadam_00024.hdf5"
      ],
      "execution_count": 0,
      "outputs": []
    },
    {
      "metadata": {
        "id": "8fJVlAv7NObW",
        "colab_type": "code",
        "colab": {}
      },
      "cell_type": "code",
      "source": [
        "def plot_history(network_history):\n",
        "    \n",
        "    #set pltting attributes\n",
        "    #loss-epochs\n",
        "    plt.figure()\n",
        "    plt.xlabel('Epochs')\n",
        "    plt.ylabel('Loss')\n",
        "    plt.plot(network_history.history['loss'])\n",
        "    plt.plot(network_history.history['val_loss'])\n",
        "    plt.legend(['Training', 'Validation'])\n",
        "\n",
        "    #accuracy-epochs\n",
        "#     plt.figure()\n",
        "#     plt.xlabel('Epochs')\n",
        "#     plt.ylabel('Accuracy')\n",
        "#     plt.plot(network_history.history['acc'])\n",
        "#     plt.plot(network_history.history['val_acc'])\n",
        "#     plt.legend(['Training', 'Validation'])\n",
        "    \n",
        "    plt.show()"
      ],
      "execution_count": 0,
      "outputs": []
    },
    {
      "metadata": {
        "id": "aOzRpE_Wkhu5",
        "colab_type": "text"
      },
      "cell_type": "markdown",
      "source": [
        "## Plotting training history and calculating test loss"
      ]
    },
    {
      "metadata": {
        "id": "Vaoh4BujNPdR",
        "colab_type": "code",
        "outputId": "5c562ed1-808d-4b12-cee7-5052bae95316",
        "colab": {
          "base_uri": "https://localhost:8080/",
          "height": 297
        }
      },
      "cell_type": "code",
      "source": [
        "#plot learning history\n",
        "plot_history(history)\n",
        "\n",
        "# Final evaluation of the model\n",
        "test_generator = DataGenerator(test, dim=img_shape, batch_size=16)\n",
        "scores = model.evaluate_generator(test_generator, verbose=0)\n",
        "print(\"Test loss: \", scores)\n",
        "# print(\"Test accuracy: %.2f%%\" % (scores[2]*100))"
      ],
      "execution_count": 177,
      "outputs": [
        {
          "output_type": "display_data",
          "data": {
            "image/png": "[encoded data removed]",
            "text/plain": [
              "<matplotlib.figure.Figure at 0x7f663bb73668>"
            ]
          },
          "metadata": {
            "tags": []
          }
        },
        {
          "output_type": "stream",
          "text": [
            "Test loss:  0.0004028312046577765\n"
          ],
          "name": "stdout"
        }
      ]
    },
    {
      "metadata": {
        "id": "LxeYO8WAkqcL",
        "colab_type": "text"
      },
      "cell_type": "markdown",
      "source": [
        "##Plotting predictions on a separate demo video\n",
        "(none of these frames have been seen by the network)"
      ]
    },
    {
      "metadata": {
        "id": "4xXT969ajGpj",
        "colab_type": "code",
        "outputId": "62d04fad-01f9-4e5b-b3bd-3db45503155f",
        "colab": {
          "base_uri": "https://localhost:8080/",
          "height": 569
        }
      },
      "cell_type": "code",
      "source": [
        "predictions = []\n",
        "truth = []\n",
        "\n",
        "metafile = open(\"dataset/metainfos/demo.txt\")\n",
        "counter = 0\n",
        "\n",
        "# output = os.popen(\"ls dataset/demo_frames | wc -l\").read()\n",
        "# videolength = int(output.replace(\"\\n\", \"\"))\n",
        "\n",
        "videolength = 550\n",
        "\n",
        "for i in range(videolength):\n",
        "    values = metafile.readline().split(\";\")\n",
        "    if len(values) < 2:\n",
        "        break\n",
        "\n",
        "    truth.append(float(values[0]))\n",
        "    \n",
        "    img = np.array(img_to_array(load_img('dataset/demo_frames/frame_' + str(i) + '.png'))/255.0, copy=False, ndmin=4)\n",
        "    predictions.append(scaler.inverse_transform(model.predict(img))[0][0])\n",
        "    \n",
        "    counter += 1\n",
        "    \n",
        "    \n",
        "    cnt = int(counter/videolength*50)\n",
        "    sys.stdout.write('\\r'+ \"Calculating predictions on demo video: [\" + \"=\"*cnt + \">\" + \" \"*(50-cnt-1) + \"]\")\n",
        "\n",
        "\n",
        "metafile.close()\n",
        "\n",
        "    \n",
        "plt.xlabel('frames')\n",
        "plt.ylabel('steering angle')\n",
        "plt.plot(predictions)\n",
        "plt.plot(truth)\n",
        "plt.legend(['Prediction', 'Ground truth'])\n",
        "plt.xticks(np.arange(0, videolength, step=20))\n",
        "fig = plt.gcf()\n",
        "fig.set_size_inches(16, 9)\n",
        "plt.show()"
      ],
      "execution_count": 178,
      "outputs": [
        {
          "output_type": "stream",
          "text": [
            "Calculating predictions on demo video: [==================================================>]"
          ],
          "name": "stdout"
        },
        {
          "output_type": "display_data",
          "data": {
            "image/png": "[encoded data removed]",
            "text/plain": [
              "<matplotlib.figure.Figure at 0x7f6647f6c208>"
            ]
          },
          "metadata": {
            "tags": []
          }
        }
      ]
    },
    {
      "metadata": {
        "id": "elb1bv9HnE5m",
        "colab_type": "code",
        "colab": {}
      },
      "cell_type": "code",
      "source": [
        ""
      ],
      "execution_count": 0,
      "outputs": []
    }
  ]
}