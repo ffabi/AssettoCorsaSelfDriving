{
  "nbformat": 4,
  "nbformat_minor": 0,
  "metadata": {
    "colab": {
      "name": "AssettoCorsaSelfDriving 3.0.ipynb",
      "version": "0.3.2",
      "provenance": [],
      "collapsed_sections": [],
      "include_colab_link": true
    },
    "kernelspec": {
      "name": "python3",
      "display_name": "Python 3"
    },
    "accelerator": "GPU"
  },
  "cells": [
    {
      "cell_type": "markdown",
      "metadata": {
        "id": "view-in-github",
        "colab_type": "text"
      },
      "source": [
        "<a href=\"https://colab.research.google.com/github/ffabi/AssettoCorsaSelfDriving/blob/master/AssettoCorsaSelfDriving_3_0.ipynb\" target=\"_parent\"><img src=\"https://colab.research.google.com/assets/colab-badge.svg\" alt=\"Open In Colab\"/></a>"
      ]
    },
    {
      "metadata": {
        "id": "iC7EEXwDvKF3",
        "colab_type": "code",
        "outputId": "7cdd5f2d-302e-45c3-a555-d073672886a6",
        "colab": {
          "base_uri": "https://localhost:8080/",
          "height": 35
        }
      },
      "cell_type": "code",
      "source": [
        "import numpy as np\n",
        "import cv2\n",
        "import matplotlib.pyplot as plt\n",
        "%matplotlib inline\n",
        "import keras\n",
        "from sklearn import preprocessing\n",
        "import random\n",
        "from tensorflow import set_random_seed\n",
        "from keras import backend as K\n",
        "from keras.utils.generic_utils import get_custom_objects\n",
        "from keras.layers import Activation, Dense, Dropout, Flatten, Conv2D, BatchNormalization, pooling, MaxPooling2D\n",
        "from keras.models import Sequential, load_model\n",
        "from keras.optimizers import Adam, SGD\n",
        "import PIL\n",
        "from PIL import Image\n",
        "from keras.callbacks import EarlyStopping, ModelCheckpoint\n",
        "import sys\n",
        "import seaborn as sns \n",
        "from keras.preprocessing.image import img_to_array, load_img\n",
        "\n",
        "# np.set_printoptions(threshold=np.nan)\n",
        "np.set_printoptions(threshold=20)\n",
        "np.random.seed(1234)\n",
        "set_random_seed(1234)"
      ],
      "execution_count": 1,
      "outputs": [
        {
          "output_type": "stream",
          "text": [
            "Using TensorFlow backend.\n"
          ],
          "name": "stderr"
        }
      ]
    },
    {
      "metadata": {
        "id": "h3rlni0vvPOH",
        "colab_type": "code",
        "outputId": "fcbf2e3d-f9c7-4511-b197-467a54920e74",
        "colab": {
          "base_uri": "https://localhost:8080/",
          "height": 124
        }
      },
      "cell_type": "code",
      "source": [
        "from google.colab import drive \n",
        "drive.mount('/content/gdrive')\n",
        "\n",
        "#change working directory to google drive\n",
        "import os\n",
        "os.chdir(\"/content/gdrive/My Drive/AssettoCorsaSelfDriving\")\n",
        "\n",
        "#enable importing python modules from the folder 'modules'\n",
        "sys.path.append('modules')\n",
        "\n",
        "img_shape = (73, 200, 3)"
      ],
      "execution_count": 2,
      "outputs": [
        {
          "output_type": "stream",
          "text": [
            "Go to this URL in a browser: https://accounts.google.com/o/oauth2/auth?client_id=947318989803-6bn6qk8qdgf4n4g3pfee6491hc0brc4i.apps.googleusercontent.com&redirect_uri=urn%3Aietf%3Awg%3Aoauth%3A2.0%3Aoob&scope=email%20https%3A%2F%2Fwww.googleapis.com%2Fauth%2Fdocs.test%20https%3A%2F%2Fwww.googleapis.com%2Fauth%2Fdrive%20https%3A%2F%2Fwww.googleapis.com%2Fauth%2Fdrive.photos.readonly%20https%3A%2F%2Fwww.googleapis.com%2Fauth%2Fpeopleapi.readonly&response_type=code\n",
            "\n",
            "Enter your authorization code:\n",
            "··········\n",
            "Mounted at /content/gdrive\n"
          ],
          "name": "stdout"
        }
      ]
    },
    {
      "metadata": {
        "id": "L4C8MUgYJkP-",
        "colab_type": "code",
        "colab": {}
      },
      "cell_type": "code",
      "source": [
        "from PIL import Image\n",
        "\n",
        "class LapRecognition:\n",
        "    def __init__(self, threshold = 100):\n",
        "        self.s1 = slice(134, 166)\n",
        "        self.s2 = slice(1192, 1222)\n",
        "        self.threshold = threshold\n",
        "        \n",
        "        self.number_one = img_to_array(load_img(\"modules/number_one.png\"))\n",
        "        \n",
        "        \n",
        "    def mse(self, imageA, imageB):\n",
        "        err = np.sum((imageA.astype(\"float\") - imageB.astype(\"float\")) ** 2)\n",
        "        err /= float(imageA.shape[0] * imageA.shape[1])\n",
        "        return err\n",
        "    \n",
        "\n",
        "    def is_lap_one(self, image):\n",
        "        difference = self.mse(image[self.s1, self.s2], self.number_one)\n",
        "        return difference < self.threshold"
      ],
      "execution_count": 0,
      "outputs": []
    },
    {
      "metadata": {
        "id": "kK7BhHdlnO02",
        "colab_type": "code",
        "colab": {}
      },
      "cell_type": "code",
      "source": [
        "import os, cv2\n",
        "import PIL\n",
        "\n",
        "class DataPreparation:\n",
        "    def __init__(self, width, height) -> None:\n",
        "        super().__init__()\n",
        "       \n",
        "        self.amount_of_frames = 0\n",
        "        self.rec = LapRecognition(threshold=100)\n",
        "        \n",
        "        self.img_shape = (height, width, 3)\n",
        "        \n",
        "\n",
        "    def prepare(self, verbose = False):\n",
        "        \n",
        "        output = os.popen(\"ls dataset/videos | wc -l\").read()\n",
        "        amount_of_videos = int(output.replace(\"\\n\", \"\"))\n",
        "        \n",
        "        output = os.popen(\"ls dataset/metainfos | wc -l\").read()\n",
        "        amount_of_metafiles = int(output.replace(\"\\n\", \"\"))\n",
        "        \n",
        "        if verbose:\n",
        "            print(\"Found\", amount_of_videos, \"videofiles and\", amount_of_metafiles, \"metafiles\")\n",
        "        \n",
        "        amount_of_videos = min(amount_of_videos, amount_of_metafiles)\n",
        "        \n",
        "        datapoints = []\n",
        "                \n",
        "        for i in range(1, amount_of_videos+1):\n",
        "            cap = cv2.VideoCapture(\"dataset/videos/\" + str(i) + \".mp4\")\n",
        "            metafile = open(\"dataset/metainfos/\"+ str(i) + \".txt\")\n",
        "            ret, frame = cap.read()\n",
        "            \n",
        "            videolength = int(cap.get(cv2.CAP_PROP_FRAME_COUNT))\n",
        "            \n",
        "            #read videofile until the start of the lap\n",
        "            counter=0\n",
        "            while not self.rec.is_lap_one(frame):\n",
        "                ret, frame = cap.read()\n",
        "                counter += 1\n",
        "            if verbose:\n",
        "                print(\"Found first frame of the first lap at\", counter)\n",
        "            \n",
        "            videolength -= counter\n",
        "            #reading while the first lap is recorded\n",
        "            counter = 0\n",
        "            while self.rec.is_lap_one(frame) and ret:\n",
        "                values = metafile.readline().split(\";\")\n",
        "                if len(values) < 2:\n",
        "                    break\n",
        "                \n",
        "                datapoints.append((float(values[0]), self.amount_of_frames))\n",
        "\n",
        "                img = cv2.resize(frame[250:], (self.img_shape[1], self.img_shape[0]))\n",
        "                cv2.imwrite(\"dataset/resized_frames/frame_\" + str(self.amount_of_frames) + \".png\", img)\n",
        "                self.amount_of_frames += 1\n",
        "\n",
        "                if verbose:\n",
        "                    cnt = int(counter/videolength*50)\n",
        "                    sys.stdout.write('\\r'+ \"Processing \" + str(i) + \"/\" + str(amount_of_videos) + \" video: [\" + \"=\"*cnt + \">\" + \" \"*(50-cnt-1) + \"]\")\n",
        "                \n",
        "                counter += 1\n",
        "            \n",
        "                ret, frame = cap.read()\n",
        "            \n",
        "            metafile.close()\n",
        "            \n",
        "            print(\"\")\n",
        "                \n",
        "        return np.array(datapoints, dtype=[('data', np.float32, 1), ('frame', np.int16, 1)])\n",
        "\n"
      ],
      "execution_count": 0,
      "outputs": []
    },
    {
      "metadata": {
        "id": "o2hI2T8AajoA",
        "colab_type": "code",
        "outputId": "f231ce30-9095-4287-c6f3-724b6d681cfd",
        "colab": {
          "base_uri": "https://localhost:8080/",
          "height": 139
        }
      },
      "cell_type": "code",
      "source": [
        "prep = DataPreparation(img_shape[1], img_shape[0])\n",
        "dataset = prep.prepare(True)"
      ],
      "execution_count": 0,
      "outputs": [
        {
          "output_type": "stream",
          "text": [
            "Found 3 videofiles and 3 metafiles\n",
            "Found first frame of the first lap at 223\n",
            "Processing 1/3 video: [=================================================>]\n",
            "Found first frame of the first lap at 173\n",
            "Processing 2/3 video: [=================================================>]\n",
            "Found first frame of the first lap at 38\n",
            "Processing 3/3 video: [=================================================>]\n"
          ],
          "name": "stdout"
        }
      ]
    },
    {
      "metadata": {
        "id": "zLQ68ee2bhT0",
        "colab_type": "code",
        "colab": {}
      },
      "cell_type": "code",
      "source": [
        "!ls -lfh dataset/resized_frames/* | grep \" 0 \""
      ],
      "execution_count": 0,
      "outputs": []
    },
    {
      "metadata": {
        "id": "-bTA0Ntcd_7U",
        "colab_type": "code",
        "colab": {}
      },
      "cell_type": "code",
      "source": [
        "!cp dataset/saved_resized_frames/frame_9561.png dataset/resized_frames/"
      ],
      "execution_count": 0,
      "outputs": []
    },
    {
      "metadata": {
        "id": "azvKrEMvzGa3",
        "colab_type": "code",
        "colab": {}
      },
      "cell_type": "code",
      "source": [
        "np.save(\"dataset/serialized/dataset.npy\", dataset)\n",
        "!ls -lh dataset/serialized/dataset.npy"
      ],
      "execution_count": 0,
      "outputs": []
    },
    {
      "metadata": {
        "id": "CtgWETBUrHB-",
        "colab_type": "code",
        "colab": {}
      },
      "cell_type": "code",
      "source": [
        "dataset = np.load(\"dataset/serialized/dataset.npy\")\n",
        "\n",
        "print(\"Size of dataset:\", len(dataset))\n",
        "print(\"Example data:\", dataset[0])\n",
        "\n",
        "img = Image.open(\"dataset/resized_frames/frame_\" + str(dataset[0][1]) + \".png\")\n",
        "fig=plt.figure(figsize=(18, 10))\n",
        "plt.imshow(img)\n",
        "plt.axis('off')\n",
        "plt.show()"
      ],
      "execution_count": 0,
      "outputs": []
    },
    {
      "metadata": {
        "id": "DdccTB8dLopW",
        "colab_type": "code",
        "outputId": "540f25a8-8bef-4f76-d047-40de0e2a58da",
        "colab": {
          "base_uri": "https://localhost:8080/",
          "height": 295
        }
      },
      "cell_type": "code",
      "source": [
        "ax = sns.distplot(dataset[\"data\"]);\n",
        "ax.set(xlabel=\"steering angle\", ylabel=\"occurence\", title=\"Distribution of the steering angle\")\n",
        "plt.show()"
      ],
      "execution_count": 6,
      "outputs": [
        {
          "output_type": "display_data",
          "data": {
            "image/png": "[encoded data removed]",
            "text/plain": [
              "<matplotlib.figure.Figure at 0x7f963a797978>"
            ]
          },
          "metadata": {
            "tags": []
          }
        }
      ]
    },
    {
      "metadata": {
        "id": "ga9wC9sev66u",
        "colab_type": "code",
        "outputId": "6002b9bc-521b-4382-fad8-00d83d035e16",
        "colab": {
          "base_uri": "https://localhost:8080/",
          "height": 69
        }
      },
      "cell_type": "code",
      "source": [
        "dataset = np.load(\"dataset/serialized/dataset.npy\")\n",
        "np.random.shuffle(dataset)\n",
        "\n",
        "valid_split = 0.2\n",
        "test_split = 0.1\n",
        "framecounter = len(dataset)\n",
        "\n",
        "train = dataset[0:int(framecounter*(1-valid_split-test_split))]\n",
        "valid = dataset[int(framecounter*(1-valid_split-test_split)):int(framecounter*(1-test_split))]\n",
        "test  = dataset[int(framecounter*(1-test_split)):]\n",
        "\n",
        "print(\"Number of train samples: \", len(train))\n",
        "print(\"Example train data before minmax scaling:\", train[0])\n",
        "train_scale = train[\"data\"].reshape(-1, 1)\n",
        "valid_scale = valid[\"data\"].reshape(-1, 1)\n",
        "test_scale = test[\"data\"].reshape(-1, 1)\n",
        "\n",
        "#standard scaler\n",
        "scaler = preprocessing.MinMaxScaler().fit(train_scale)\n",
        "train[\"data\"] = scaler.transform(train_scale).reshape(1, -1)\n",
        "valid[\"data\"] = scaler.transform(valid_scale).reshape(1, -1)\n",
        "test[\"data\"] = scaler.transform(test_scale).reshape(1, -1)\n",
        "\n",
        "print(\"Example train data after minmax scaling:\", train[0])"
      ],
      "execution_count": 106,
      "outputs": [
        {
          "output_type": "stream",
          "text": [
            "Number of train samples:  7410\n",
            "Example train data before minmax scaling: (51.10656, 1836)\n",
            "Example train data after minmax scaling: (0.65072834, 1836)\n"
          ],
          "name": "stdout"
        }
      ]
    },
    {
      "metadata": {
        "id": "KfFmIFKSVK_p",
        "colab_type": "code",
        "colab": {}
      },
      "cell_type": "code",
      "source": [
        "# https://keras.io/utils/#sequence\n",
        "from skimage.io import imread\n",
        "class SimpleDataGenerator(keras.utils.Sequence):\n",
        "    \n",
        "    # Here, `x_set` is list of ids\n",
        "    # and `y_set` are the associated steering angles\n",
        "    \n",
        "    def __init__(self, x_set, y_set, batch_size):\n",
        "        self.x, self.y = x_set, y_set\n",
        "        self.batch_size = batch_size\n",
        "\n",
        "    def __len__(self):\n",
        "        return int(np.ceil(len(self.x) / float(self.batch_size)))\n",
        "\n",
        "    def __getitem__(self, idx):\n",
        "        batch_x = self.x[idx * self.batch_size:(idx + 1) * self.batch_size]\n",
        "        batch_y = self.y[idx * self.batch_size:(idx + 1) * self.batch_size]\n",
        "\n",
        "        \n",
        "#         images = np.array([ imread('dataset/resized_frames/frame_' + str(ID) + '.png') for ID in batch_x])\n",
        "        images = np.array([ img_to_array(load_img('dataset/resized_frames/frame_' + str(ID) + '.png'))/255.0 for ID in batch_x])\n",
        "        return images, np.array(batch_y)"
      ],
      "execution_count": 0,
      "outputs": []
    },
    {
      "metadata": {
        "id": "4GnsEnD3Aws_",
        "colab_type": "code",
        "colab": {}
      },
      "cell_type": "code",
      "source": [
        "\n",
        "# https://stanford.edu/~shervine/blog/keras-how-to-generate-data-on-the-fly\n",
        "class DataGenerator(keras.utils.Sequence):\n",
        "    \"\"\"Generates data for Keras\"\"\"\n",
        "\n",
        "    def __init__(self, dataset, dim, batch_size=10, shuffle=True):\n",
        "        \"\"\"Initialization\"\"\"\n",
        "        self.dim = dim\n",
        "        self.batch_size = batch_size\n",
        "        self.dataset = dataset\n",
        "        self.shuffle = shuffle\n",
        "        self.indexes = np.arange(len(dataset))\n",
        "        self.on_epoch_end()\n",
        "        \n",
        "\n",
        "    def __len__(self):\n",
        "        \"\"\"Denotes the number of batches per epoch\"\"\"\n",
        "        return int(np.floor(len(self.dataset) / self.batch_size))\n",
        "\n",
        "    def __getitem__(self, index):\n",
        "        \"\"\"Generate one batch of data\"\"\"\n",
        "        # Generate indexes of the batch\n",
        "        indexes = self.indexes[index * self.batch_size:(index + 1) * self.batch_size]\n",
        "\n",
        "        ids = [self.dataset[\"frame\"][k] for k in indexes]\n",
        "        datapoints = [self.dataset[\"data\"][k] for k in indexes]\n",
        "\n",
        "        \"\"\"Generates data containing batch_size samples\"\"\"\n",
        "        # Initialization\n",
        "        \n",
        "        X = np.empty((self.batch_size, *self.dim), dtype=float)\n",
        "        Y = np.empty((self.batch_size, *(1, )), dtype=float)\n",
        "        # Generate data\n",
        "        for i, ID in enumerate(ids):\n",
        "            img = img_to_array(load_img('dataset/resized_frames/frame_' + str(ID) + '.png')) /255\n",
        "\n",
        "            X[i,] = img\n",
        "            Y[i,] = datapoints[i]\n",
        "\n",
        "        return X, Y\n",
        "\n",
        "    def on_epoch_end(self):\n",
        "        \"\"\"Updates indexes after each epoch\"\"\"\n",
        "        if self.shuffle:\n",
        "            np.random.shuffle(self.indexes)\n"
      ],
      "execution_count": 0,
      "outputs": []
    },
    {
      "metadata": {
        "id": "U9S-sYSGy4ea",
        "colab_type": "code",
        "colab": {}
      },
      "cell_type": "code",
      "source": [
        "from keras import backend as K\n",
        "from keras.utils.generic_utils import get_custom_objects\n",
        "\n",
        "class Swish(Activation):\n",
        "    \n",
        "    def __init__(self, activation, **kwargs):\n",
        "        super(Swish, self).__init__(activation, **kwargs)\n",
        "        self.__name__ = 'swish'\n",
        "\n",
        "def swish(x):\n",
        "    A = (K.sigmoid(x) * x)\n",
        "    return A\n",
        "\n",
        "get_custom_objects().update({'swish': Swish(swish)})"
      ],
      "execution_count": 0,
      "outputs": []
    },
    {
      "metadata": {
        "id": "5oioruJaBHLs",
        "colab_type": "code",
        "colab": {}
      },
      "cell_type": "code",
      "source": [
        "# s = SimpleDataGenerator(train[\"frame\"], train[\"data\"], batch_size=4)\n",
        "# batch = s.__getitem__(0)\n",
        "# print(batch[1][0])\n",
        "\n",
        "# plt.imshow(batch[0][0]*255)\n",
        "# plt.axis('off')\n",
        "# plt.show()"
      ],
      "execution_count": 0,
      "outputs": []
    },
    {
      "metadata": {
        "id": "zYhoVzkNkicU",
        "colab_type": "code",
        "colab": {}
      },
      "cell_type": "code",
      "source": [
        "# #https://navoshta.com/end-to-end-deep-learning/\n",
        "# model = Sequential()\n",
        "# model.add(Conv2D(16, (3, 3), input_shape=img_shape, activation='relu'))\n",
        "# model.add(MaxPooling2D(pool_size=(2, 2)))\n",
        "# model.add(Conv2D(32, (3, 3), activation='relu'))\n",
        "# model.add(MaxPooling2D(pool_size=(2, 2)))\n",
        "# model.add(Conv2D(64, (3, 3), activation='relu'))\n",
        "# model.add(MaxPooling2D(pool_size=(2, 2)))\n",
        "# model.add(Flatten())\n",
        "# model.add(Dense(500, activation='relu'))\n",
        "# model.add(Dense(100, activation='relu'))\n",
        "# model.add(Dense(20, activation='relu'))\n",
        "# model.add(Dense(1, activation='linear'))"
      ],
      "execution_count": 0,
      "outputs": []
    },
    {
      "metadata": {
        "id": "bFo_kBQF2zg2",
        "colab_type": "code",
        "colab": {}
      },
      "cell_type": "code",
      "source": [
        "##pilotnet\n",
        "model = Sequential()\n",
        "\n",
        "activation = \"relu\"\n",
        "\n",
        "model.add(Conv2D(24, kernel_size=(5,5), strides=(2,2), activation=activation, input_shape=img_shape))\n",
        "model.add(BatchNormalization())\n",
        "model.add(Conv2D(36, kernel_size=(5,5), strides=(2,2), activation=activation))\n",
        "model.add(BatchNormalization())\n",
        "model.add(Conv2D(48, kernel_size=(5,5), strides=(2,2), activation=activation))\n",
        "model.add(BatchNormalization())\n",
        "model.add(Conv2D(64, kernel_size=(3,3), strides=(1,1), activation=activation))\n",
        "model.add(BatchNormalization())\n",
        "model.add(Conv2D(64, kernel_size=(3,3), strides=(1,1), activation=activation))\n",
        "model.add(BatchNormalization())\n",
        "\n",
        "model.add(Flatten())\n",
        "\n",
        "model.add(Dense(100, activation=activation))\n",
        "model.add(BatchNormalization())\n",
        "model.add(Dense(50, activation=activation))\n",
        "model.add(BatchNormalization())\n",
        "model.add(Dense(10, activation=activation))\n",
        "model.add(BatchNormalization())\n",
        "\n",
        "model.add(Dense(1, activation='sigmoid'))\n"
      ],
      "execution_count": 0,
      "outputs": []
    },
    {
      "metadata": {
        "id": "WHl5QDy52jpH",
        "colab_type": "code",
        "colab": {}
      },
      "cell_type": "code",
      "source": [
        "sgd = SGD(lr=0.003, decay=1e-6, momentum=0.8, nesterov=True)\n",
        "adam = Adam(lr=0.001, beta_1=0.9, beta_2=0.999)\n",
        "model.compile(optimizer=sgd, loss=\"mse\")\n",
        "# model.summary()"
      ],
      "execution_count": 0,
      "outputs": []
    },
    {
      "metadata": {
        "id": "VkT3g8_02lCW",
        "colab_type": "code",
        "outputId": "acd65b91-b1bb-469b-b609-33c6a6e4beb4",
        "colab": {
          "base_uri": "https://localhost:8080/",
          "height": 5027
        }
      },
      "cell_type": "code",
      "source": [
        "training_generator = DataGenerator(train, dim=img_shape, batch_size=64)\n",
        "validation_generator = DataGenerator(valid, dim=img_shape, batch_size=64)\n",
        "\n",
        "# training_generator = SimpleDataGenerator(train[\"frame\"], train[\"data\"], batch_size=128)\n",
        "# validation_generator = SimpleDataGenerator(valid[\"frame\"], valid[\"data\"], batch_size=128)\n",
        "\n",
        "\n",
        "#setup early stopping\n",
        "es = EarlyStopping(patience=16, verbose=1, min_delta=0.0005)\n",
        "\n",
        "#we are going to keep only the best model\n",
        "mcp = ModelCheckpoint(filepath='model/weights/weights.hdf5', verbose=1, save_best_only=True)\n",
        "\n",
        "# set parameters and start learning\n",
        "history = model.fit_generator(\n",
        "            generator=training_generator,\n",
        "            validation_data=validation_generator,\n",
        "            use_multiprocessing=False,\n",
        "            epochs=100, # early stopping detects the end\n",
        "            verbose=1, \n",
        "            shuffle=True,\n",
        "            callbacks=[mcp, es]\n",
        "         )\n"
      ],
      "execution_count": 110,
      "outputs": [
        {
          "output_type": "stream",
          "text": [
            "Epoch 1/100\n",
            "115/115 [==============================] - 47s 407ms/step - loss: 0.0619 - val_loss: 0.0577\n",
            "\n",
            "Epoch 00001: val_loss improved from inf to 0.05767, saving model to model/weights/weights.hdf5\n",
            "Epoch 2/100\n",
            "115/115 [==============================] - 40s 350ms/step - loss: 0.0301 - val_loss: 0.0320\n",
            "\n",
            "Epoch 00002: val_loss improved from 0.05767 to 0.03203, saving model to model/weights/weights.hdf5\n",
            "Epoch 3/100\n",
            "115/115 [==============================] - 42s 364ms/step - loss: 0.0189 - val_loss: 0.0209\n",
            "\n",
            "Epoch 00003: val_loss improved from 0.03203 to 0.02089, saving model to model/weights/weights.hdf5\n",
            "Epoch 4/100\n",
            "115/115 [==============================] - 42s 364ms/step - loss: 0.0144 - val_loss: 0.0163\n",
            "\n",
            "Epoch 00004: val_loss improved from 0.02089 to 0.01633, saving model to model/weights/weights.hdf5\n",
            "Epoch 5/100\n",
            "115/115 [==============================] - 42s 364ms/step - loss: 0.0119 - val_loss: 0.0134\n",
            "\n",
            "Epoch 00005: val_loss improved from 0.01633 to 0.01336, saving model to model/weights/weights.hdf5\n",
            "Epoch 6/100\n",
            "115/115 [==============================] - 42s 365ms/step - loss: 0.0100 - val_loss: 0.0123\n",
            "\n",
            "Epoch 00006: val_loss improved from 0.01336 to 0.01232, saving model to model/weights/weights.hdf5\n",
            "Epoch 7/100\n",
            "115/115 [==============================] - 42s 364ms/step - loss: 0.0092 - val_loss: 0.0113\n",
            "\n",
            "Epoch 00007: val_loss improved from 0.01232 to 0.01129, saving model to model/weights/weights.hdf5\n",
            "Epoch 8/100\n",
            "115/115 [==============================] - 43s 373ms/step - loss: 0.0083 - val_loss: 0.0104\n",
            "\n",
            "Epoch 00008: val_loss improved from 0.01129 to 0.01035, saving model to model/weights/weights.hdf5\n",
            "Epoch 9/100\n",
            "115/115 [==============================] - 42s 363ms/step - loss: 0.0076 - val_loss: 0.0101\n",
            "\n",
            "Epoch 00009: val_loss improved from 0.01035 to 0.01009, saving model to model/weights/weights.hdf5\n",
            "Epoch 10/100\n",
            "115/115 [==============================] - 42s 364ms/step - loss: 0.0071 - val_loss: 0.0095\n",
            "\n",
            "Epoch 00010: val_loss improved from 0.01009 to 0.00949, saving model to model/weights/weights.hdf5\n",
            "Epoch 11/100\n",
            "115/115 [==============================] - 42s 364ms/step - loss: 0.0065 - val_loss: 0.0091\n",
            "\n",
            "Epoch 00011: val_loss improved from 0.00949 to 0.00910, saving model to model/weights/weights.hdf5\n",
            "Epoch 12/100\n",
            "115/115 [==============================] - 42s 364ms/step - loss: 0.0063 - val_loss: 0.0088\n",
            "\n",
            "Epoch 00012: val_loss improved from 0.00910 to 0.00876, saving model to model/weights/weights.hdf5\n",
            "Epoch 13/100\n",
            "115/115 [==============================] - 42s 364ms/step - loss: 0.0062 - val_loss: 0.0085\n",
            "\n",
            "Epoch 00013: val_loss improved from 0.00876 to 0.00847, saving model to model/weights/weights.hdf5\n",
            "Epoch 14/100\n",
            "115/115 [==============================] - 42s 365ms/step - loss: 0.0056 - val_loss: 0.0084\n",
            "\n",
            "Epoch 00014: val_loss improved from 0.00847 to 0.00837, saving model to model/weights/weights.hdf5\n",
            "Epoch 15/100\n",
            "115/115 [==============================] - 43s 371ms/step - loss: 0.0056 - val_loss: 0.0080\n",
            "\n",
            "Epoch 00015: val_loss improved from 0.00837 to 0.00803, saving model to model/weights/weights.hdf5\n",
            "Epoch 16/100\n",
            "115/115 [==============================] - 42s 365ms/step - loss: 0.0053 - val_loss: 0.0078\n",
            "\n",
            "Epoch 00016: val_loss improved from 0.00803 to 0.00783, saving model to model/weights/weights.hdf5\n",
            "Epoch 17/100\n",
            "115/115 [==============================] - 42s 363ms/step - loss: 0.0051 - val_loss: 0.0076\n",
            "\n",
            "Epoch 00017: val_loss improved from 0.00783 to 0.00758, saving model to model/weights/weights.hdf5\n",
            "Epoch 18/100\n",
            "115/115 [==============================] - 42s 364ms/step - loss: 0.0049 - val_loss: 0.0076\n",
            "\n",
            "Epoch 00018: val_loss improved from 0.00758 to 0.00758, saving model to model/weights/weights.hdf5\n",
            "Epoch 19/100\n",
            "115/115 [==============================] - 42s 362ms/step - loss: 0.0047 - val_loss: 0.0073\n",
            "\n",
            "Epoch 00019: val_loss improved from 0.00758 to 0.00730, saving model to model/weights/weights.hdf5\n",
            "Epoch 20/100\n",
            "115/115 [==============================] - 41s 360ms/step - loss: 0.0047 - val_loss: 0.0072\n",
            "\n",
            "Epoch 00020: val_loss improved from 0.00730 to 0.00718, saving model to model/weights/weights.hdf5\n",
            "Epoch 21/100\n",
            "115/115 [==============================] - 41s 358ms/step - loss: 0.0044 - val_loss: 0.0070\n",
            "\n",
            "Epoch 00021: val_loss improved from 0.00718 to 0.00704, saving model to model/weights/weights.hdf5\n",
            "Epoch 22/100\n",
            "115/115 [==============================] - 42s 362ms/step - loss: 0.0044 - val_loss: 0.0069\n",
            "\n",
            "Epoch 00022: val_loss improved from 0.00704 to 0.00694, saving model to model/weights/weights.hdf5\n",
            "Epoch 23/100\n",
            "115/115 [==============================] - 42s 366ms/step - loss: 0.0042 - val_loss: 0.0069\n",
            "\n",
            "Epoch 00023: val_loss improved from 0.00694 to 0.00686, saving model to model/weights/weights.hdf5\n",
            "Epoch 24/100\n",
            "115/115 [==============================] - 42s 364ms/step - loss: 0.0041 - val_loss: 0.0067\n",
            "\n",
            "Epoch 00024: val_loss improved from 0.00686 to 0.00675, saving model to model/weights/weights.hdf5\n",
            "Epoch 25/100\n",
            "115/115 [==============================] - 42s 364ms/step - loss: 0.0041 - val_loss: 0.0066\n",
            "\n",
            "Epoch 00025: val_loss improved from 0.00675 to 0.00658, saving model to model/weights/weights.hdf5\n",
            "Epoch 26/100\n",
            "115/115 [==============================] - 42s 363ms/step - loss: 0.0040 - val_loss: 0.0066\n",
            "\n",
            "Epoch 00026: val_loss improved from 0.00658 to 0.00658, saving model to model/weights/weights.hdf5\n",
            "Epoch 27/100\n",
            "115/115 [==============================] - 42s 363ms/step - loss: 0.0038 - val_loss: 0.0064\n",
            "\n",
            "Epoch 00027: val_loss improved from 0.00658 to 0.00641, saving model to model/weights/weights.hdf5\n",
            "Epoch 28/100\n",
            "115/115 [==============================] - 42s 362ms/step - loss: 0.0039 - val_loss: 0.0064\n",
            "\n",
            "Epoch 00028: val_loss improved from 0.00641 to 0.00639, saving model to model/weights/weights.hdf5\n",
            "Epoch 29/100\n",
            "115/115 [==============================] - 42s 363ms/step - loss: 0.0038 - val_loss: 0.0063\n",
            "\n",
            "Epoch 00029: val_loss improved from 0.00639 to 0.00634, saving model to model/weights/weights.hdf5\n",
            "Epoch 30/100\n",
            "115/115 [==============================] - 43s 373ms/step - loss: 0.0036 - val_loss: 0.0061\n",
            "\n",
            "Epoch 00030: val_loss improved from 0.00634 to 0.00615, saving model to model/weights/weights.hdf5\n",
            "Epoch 31/100\n",
            "115/115 [==============================] - 42s 365ms/step - loss: 0.0035 - val_loss: 0.0061\n",
            "\n",
            "Epoch 00031: val_loss improved from 0.00615 to 0.00606, saving model to model/weights/weights.hdf5\n",
            "Epoch 32/100\n",
            "115/115 [==============================] - 42s 364ms/step - loss: 0.0035 - val_loss: 0.0061\n",
            "\n",
            "Epoch 00032: val_loss did not improve from 0.00606\n",
            "Epoch 33/100\n",
            "115/115 [==============================] - 42s 365ms/step - loss: 0.0035 - val_loss: 0.0061\n",
            "\n",
            "Epoch 00033: val_loss did not improve from 0.00606\n",
            "Epoch 34/100\n",
            "115/115 [==============================] - 42s 364ms/step - loss: 0.0032 - val_loss: 0.0060\n",
            "\n",
            "Epoch 00034: val_loss improved from 0.00606 to 0.00600, saving model to model/weights/weights.hdf5\n",
            "Epoch 35/100\n",
            "115/115 [==============================] - 42s 364ms/step - loss: 0.0033 - val_loss: 0.0059\n",
            "\n",
            "Epoch 00035: val_loss improved from 0.00600 to 0.00589, saving model to model/weights/weights.hdf5\n",
            "Epoch 36/100\n",
            "115/115 [==============================] - 41s 361ms/step - loss: 0.0034 - val_loss: 0.0059\n",
            "\n",
            "Epoch 00036: val_loss did not improve from 0.00589\n",
            "Epoch 37/100\n",
            "115/115 [==============================] - 42s 368ms/step - loss: 0.0033 - val_loss: 0.0059\n",
            "\n",
            "Epoch 00037: val_loss did not improve from 0.00589\n",
            "Epoch 38/100\n",
            "115/115 [==============================] - 41s 356ms/step - loss: 0.0032 - val_loss: 0.0058\n",
            "\n",
            "Epoch 00038: val_loss improved from 0.00589 to 0.00576, saving model to model/weights/weights.hdf5\n",
            "Epoch 39/100\n",
            "115/115 [==============================] - 41s 354ms/step - loss: 0.0030 - val_loss: 0.0058\n",
            "\n",
            "Epoch 00039: val_loss did not improve from 0.00576\n",
            "Epoch 40/100\n",
            "115/115 [==============================] - 41s 354ms/step - loss: 0.0030 - val_loss: 0.0057\n",
            "\n",
            "Epoch 00040: val_loss improved from 0.00576 to 0.00573, saving model to model/weights/weights.hdf5\n",
            "Epoch 41/100\n",
            "115/115 [==============================] - 41s 354ms/step - loss: 0.0030 - val_loss: 0.0056\n",
            "\n",
            "Epoch 00041: val_loss improved from 0.00573 to 0.00555, saving model to model/weights/weights.hdf5\n",
            "Epoch 42/100\n",
            "115/115 [==============================] - 41s 356ms/step - loss: 0.0031 - val_loss: 0.0056\n",
            "\n",
            "Epoch 00042: val_loss did not improve from 0.00555\n",
            "Epoch 43/100\n",
            "115/115 [==============================] - 41s 357ms/step - loss: 0.0030 - val_loss: 0.0055\n",
            "\n",
            "Epoch 00043: val_loss improved from 0.00555 to 0.00547, saving model to model/weights/weights.hdf5\n",
            "Epoch 44/100\n",
            "115/115 [==============================] - 41s 358ms/step - loss: 0.0029 - val_loss: 0.0054\n",
            "\n",
            "Epoch 00044: val_loss improved from 0.00547 to 0.00545, saving model to model/weights/weights.hdf5\n",
            "Epoch 45/100\n",
            "115/115 [==============================] - 41s 361ms/step - loss: 0.0028 - val_loss: 0.0055\n",
            "\n",
            "Epoch 00045: val_loss did not improve from 0.00545\n",
            "Epoch 46/100\n",
            "115/115 [==============================] - 41s 354ms/step - loss: 0.0028 - val_loss: 0.0055\n",
            "\n",
            "Epoch 00046: val_loss did not improve from 0.00545\n",
            "Epoch 47/100\n",
            "115/115 [==============================] - 41s 353ms/step - loss: 0.0028 - val_loss: 0.0054\n",
            "\n",
            "Epoch 00047: val_loss improved from 0.00545 to 0.00537, saving model to model/weights/weights.hdf5\n",
            "Epoch 48/100\n",
            "115/115 [==============================] - 41s 357ms/step - loss: 0.0027 - val_loss: 0.0053\n",
            "\n",
            "Epoch 00048: val_loss improved from 0.00537 to 0.00530, saving model to model/weights/weights.hdf5\n",
            "Epoch 49/100\n",
            "115/115 [==============================] - 41s 354ms/step - loss: 0.0028 - val_loss: 0.0053\n",
            "\n",
            "Epoch 00049: val_loss did not improve from 0.00530\n",
            "Epoch 50/100\n",
            "115/115 [==============================] - 41s 358ms/step - loss: 0.0028 - val_loss: 0.0053\n",
            "\n",
            "Epoch 00050: val_loss improved from 0.00530 to 0.00530, saving model to model/weights/weights.hdf5\n",
            "Epoch 51/100\n",
            "115/115 [==============================] - 41s 360ms/step - loss: 0.0028 - val_loss: 0.0053\n",
            "\n",
            "Epoch 00051: val_loss did not improve from 0.00530\n",
            "Epoch 52/100\n",
            "115/115 [==============================] - 42s 362ms/step - loss: 0.0026 - val_loss: 0.0052\n",
            "\n",
            "Epoch 00052: val_loss improved from 0.00530 to 0.00521, saving model to model/weights/weights.hdf5\n",
            "Epoch 53/100\n",
            "115/115 [==============================] - 41s 353ms/step - loss: 0.0025 - val_loss: 0.0051\n",
            "\n",
            "Epoch 00053: val_loss improved from 0.00521 to 0.00514, saving model to model/weights/weights.hdf5\n",
            "Epoch 54/100\n",
            "115/115 [==============================] - 40s 351ms/step - loss: 0.0027 - val_loss: 0.0051\n",
            "\n",
            "Epoch 00054: val_loss improved from 0.00514 to 0.00507, saving model to model/weights/weights.hdf5\n",
            "Epoch 55/100\n",
            "115/115 [==============================] - 41s 353ms/step - loss: 0.0026 - val_loss: 0.0051\n",
            "\n",
            "Epoch 00055: val_loss improved from 0.00507 to 0.00505, saving model to model/weights/weights.hdf5\n",
            "Epoch 56/100\n",
            "115/115 [==============================] - 40s 349ms/step - loss: 0.0027 - val_loss: 0.0050\n",
            "\n",
            "Epoch 00056: val_loss improved from 0.00505 to 0.00505, saving model to model/weights/weights.hdf5\n",
            "Epoch 57/100\n",
            "115/115 [==============================] - 40s 348ms/step - loss: 0.0024 - val_loss: 0.0050\n",
            "\n",
            "Epoch 00057: val_loss improved from 0.00505 to 0.00503, saving model to model/weights/weights.hdf5\n",
            "Epoch 58/100\n",
            "115/115 [==============================] - 41s 355ms/step - loss: 0.0024 - val_loss: 0.0050\n",
            "\n",
            "Epoch 00058: val_loss improved from 0.00503 to 0.00497, saving model to model/weights/weights.hdf5\n",
            "Epoch 59/100\n",
            "115/115 [==============================] - 42s 363ms/step - loss: 0.0024 - val_loss: 0.0050\n",
            "\n",
            "Epoch 00059: val_loss did not improve from 0.00497\n",
            "Epoch 60/100\n",
            "115/115 [==============================] - 42s 362ms/step - loss: 0.0024 - val_loss: 0.0050\n",
            "\n",
            "Epoch 00060: val_loss did not improve from 0.00497\n",
            "Epoch 61/100\n",
            "115/115 [==============================] - 41s 356ms/step - loss: 0.0024 - val_loss: 0.0050\n",
            "\n",
            "Epoch 00061: val_loss did not improve from 0.00497\n",
            "Epoch 62/100\n",
            "115/115 [==============================] - 40s 350ms/step - loss: 0.0023 - val_loss: 0.0050\n",
            "\n",
            "Epoch 00062: val_loss improved from 0.00497 to 0.00496, saving model to model/weights/weights.hdf5\n",
            "Epoch 63/100\n",
            "115/115 [==============================] - 40s 349ms/step - loss: 0.0024 - val_loss: 0.0049\n",
            "\n",
            "Epoch 00063: val_loss improved from 0.00496 to 0.00492, saving model to model/weights/weights.hdf5\n",
            "Epoch 64/100\n",
            "115/115 [==============================] - 40s 349ms/step - loss: 0.0023 - val_loss: 0.0049\n",
            "\n",
            "Epoch 00064: val_loss improved from 0.00492 to 0.00487, saving model to model/weights/weights.hdf5\n",
            "Epoch 65/100\n",
            "115/115 [==============================] - 40s 349ms/step - loss: 0.0024 - val_loss: 0.0048\n",
            "\n",
            "Epoch 00065: val_loss improved from 0.00487 to 0.00483, saving model to model/weights/weights.hdf5\n",
            "Epoch 66/100\n",
            "115/115 [==============================] - 40s 348ms/step - loss: 0.0022 - val_loss: 0.0048\n",
            "\n",
            "Epoch 00066: val_loss improved from 0.00483 to 0.00476, saving model to model/weights/weights.hdf5\n",
            "Epoch 67/100\n",
            "115/115 [==============================] - 42s 365ms/step - loss: 0.0023 - val_loss: 0.0047\n",
            "\n",
            "Epoch 00067: val_loss improved from 0.00476 to 0.00474, saving model to model/weights/weights.hdf5\n",
            "Epoch 68/100\n",
            "115/115 [==============================] - 41s 356ms/step - loss: 0.0023 - val_loss: 0.0047\n",
            "\n",
            "Epoch 00068: val_loss improved from 0.00474 to 0.00472, saving model to model/weights/weights.hdf5\n",
            "Epoch 69/100\n",
            "115/115 [==============================] - 40s 350ms/step - loss: 0.0022 - val_loss: 0.0047\n",
            "\n",
            "Epoch 00069: val_loss improved from 0.00472 to 0.00472, saving model to model/weights/weights.hdf5\n",
            "Epoch 70/100\n",
            "115/115 [==============================] - 40s 348ms/step - loss: 0.0022 - val_loss: 0.0046\n",
            "\n",
            "Epoch 00070: val_loss improved from 0.00472 to 0.00460, saving model to model/weights/weights.hdf5\n",
            "Epoch 71/100\n",
            "115/115 [==============================] - 41s 355ms/step - loss: 0.0021 - val_loss: 0.0047\n",
            "\n",
            "Epoch 00071: val_loss did not improve from 0.00460\n",
            "Epoch 72/100\n",
            "115/115 [==============================] - 41s 358ms/step - loss: 0.0022 - val_loss: 0.0047\n",
            "\n",
            "Epoch 00072: val_loss did not improve from 0.00460\n",
            "Epoch 00072: early stopping\n"
          ],
          "name": "stdout"
        }
      ]
    },
    {
      "metadata": {
        "id": "rU-5pb2X42ve",
        "colab_type": "code",
        "colab": {}
      },
      "cell_type": "code",
      "source": [
        "# load back best model (early stopping + model checkpoint)\n",
        "model = load_model('model/weights/weights.hdf5')"
      ],
      "execution_count": 0,
      "outputs": []
    },
    {
      "metadata": {
        "id": "RJUjv7Fe2MH0",
        "colab_type": "code",
        "colab": {}
      },
      "cell_type": "code",
      "source": [
        "!cp model/weights/weights.hdf5 model/weights/pilotnet_relu_sigmoid.hdf5"
      ],
      "execution_count": 0,
      "outputs": []
    },
    {
      "metadata": {
        "id": "8fJVlAv7NObW",
        "colab_type": "code",
        "colab": {}
      },
      "cell_type": "code",
      "source": [
        "def plot_history(network_history):\n",
        "    \n",
        "    #set pltting attributes\n",
        "    #loss-epochs\n",
        "    plt.figure()\n",
        "    plt.xlabel('Epochs')\n",
        "    plt.ylabel('Loss')\n",
        "    plt.plot(network_history.history['loss'])\n",
        "    plt.plot(network_history.history['val_loss'])\n",
        "    plt.legend(['Training', 'Validation'])\n",
        "\n",
        "    #accuracy-epochs\n",
        "#     plt.figure()\n",
        "#     plt.xlabel('Epochs')\n",
        "#     plt.ylabel('Accuracy')\n",
        "#     plt.plot(network_history.history['acc'])\n",
        "#     plt.plot(network_history.history['val_acc'])\n",
        "#     plt.legend(['Training', 'Validation'])\n",
        "    \n",
        "    plt.show()"
      ],
      "execution_count": 0,
      "outputs": []
    },
    {
      "metadata": {
        "id": "Vaoh4BujNPdR",
        "colab_type": "code",
        "outputId": "f29fe40f-d239-4ed7-f317-6da61011644b",
        "colab": {
          "base_uri": "https://localhost:8080/",
          "height": 297
        }
      },
      "cell_type": "code",
      "source": [
        "#plot learning history\n",
        "plot_history(history)\n",
        "\n",
        "# Final evaluation of the model\n",
        "test_generator = DataGenerator(test, dim=img_shape, batch_size=16)\n",
        "scores = model.evaluate_generator(test_generator, verbose=0)\n",
        "print(\"Test loss: \", scores)\n",
        "# print(\"Test accuracy: %.2f%%\" % (scores[2]*100))"
      ],
      "execution_count": 115,
      "outputs": [
        {
          "output_type": "display_data",
          "data": {
            "image/png": "[encoded data removed]",
            "text/plain": [
              "<matplotlib.figure.Figure at 0x7f95e0ab43c8>"
            ]
          },
          "metadata": {
            "tags": []
          }
        },
        {
          "output_type": "stream",
          "text": [
            "Test loss:  0.0052464382712390616\n"
          ],
          "name": "stdout"
        }
      ]
    },
    {
      "metadata": {
        "id": "Wc0sI6LiiF8b",
        "colab_type": "code",
        "outputId": "0258b4f6-8759-47cf-da0e-b590227bb5d5",
        "colab": {
          "base_uri": "https://localhost:8080/",
          "height": 297
        }
      },
      "cell_type": "code",
      "source": [
        "test_dataset = np.load(\"dataset/serialized/dataset.npy\")\n",
        "\n",
        "nb_predictions = 400\n",
        "start = random.randint(1,len(test_dataset) - 401)\n",
        "print(start)\n",
        "predictions = []\n",
        "\n",
        "for i in range(start, start+nb_predictions):\n",
        "    img = np.array(img_to_array(load_img('dataset/resized_frames/frame_' + str(i) + '.png'))/255.0, copy=False, ndmin=4)\n",
        "    predictions.append(scaler.inverse_transform(model.predict(img))[0][0])\n",
        "    \n",
        "plt.xlabel('frames')\n",
        "plt.ylabel('steering angle')\n",
        "plt.plot(predictions)\n",
        "plt.plot(test_dataset[\"data\"][start:start+nb_predictions])\n",
        "plt.legend(['Prediction', 'Ground truth'])\n",
        "plt.xticks(np.arange(0, nb_predictions, 50))\n",
        "plt.show()"
      ],
      "execution_count": 116,
      "outputs": [
        {
          "output_type": "stream",
          "text": [
            "5586\n"
          ],
          "name": "stdout"
        },
        {
          "output_type": "display_data",
          "data": {
            "image/png": "[encoded data removed]",
            "text/plain": [
              "<matplotlib.figure.Figure at 0x7f95e663fdd8>"
            ]
          },
          "metadata": {
            "tags": []
          }
        }
      ]
    },
    {
      "metadata": {
        "id": "4xXT969ajGpj",
        "colab_type": "code",
        "colab": {}
      },
      "cell_type": "code",
      "source": [
        ""
      ],
      "execution_count": 0,
      "outputs": []
    }
  ]
}